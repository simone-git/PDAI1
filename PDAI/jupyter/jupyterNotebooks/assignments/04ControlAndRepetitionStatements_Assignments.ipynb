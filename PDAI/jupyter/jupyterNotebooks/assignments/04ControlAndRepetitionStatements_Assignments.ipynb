{
  "cells": [
    {
      "cell_type": "markdown",
      "metadata": {
        "id": "ciy8HMX7Uv4x"
      },
      "source": [
        "<center><font size=\"+4\">Programming & Data Analytics & AI 1 2024/2025</font></center>\n",
        "<center><font size=\"+2\">Sant'Anna School of Advanced Studies, Pisa, Italy</font></center>\n",
        "<center><img src=\"https://github.com/EMbeDS-education/ComputingDataAnalysisModeling20242025/raw/main/PDAI/jupyter/jupyterNotebooks/images/sssaLEMBEDSdtu.png\" width=\"900\" alt=\"L'EMbeDS\"></center>\n",
        "\n",
        "<center><font size=\"+2\">Course responsible</font></center>\n",
        "<center><font size=\"+2\">Andrea Vandin a.vandin@santannapisa.it</font></center>\n",
        "\n",
        "<center><font size=\"+2\">Teaching Assistant </font></center>\n",
        "<center><font size=\"+2\">Sima Sarv Ahrabi Sima.SarvAhrabi@santannapisa.it</font></center>\n",
        "\n",
        "---"
      ]
    },
    {
      "cell_type": "markdown",
      "metadata": {
        "id": "PzTk_3lR7k5D"
      },
      "source": [
        "<center><font size=\"+4\">Assignments for</font></center>\n",
        "<center><font size=\"+4\">Lecture 4: Control and Repetition Statements</font><br/></center>\n",
        "<center><font size=\"+2\"> and CSV manipulation/visualization applied on COVID-19 data</font></center>\n",
        "\n",
        "---\n"
      ]
    },
    {
      "cell_type": "code",
      "execution_count": 1,
      "metadata": {
        "cellView": "form",
        "colab": {
          "base_uri": "https://localhost:8080/"
        },
        "id": "p666zbf89eCD",
        "outputId": "e0e133f7-0311-439f-edb4-84a1389b3823"
      },
      "outputs": [
        {
          "output_type": "stream",
          "name": "stdout",
          "text": [
            "downloading https://raw.githubusercontent.com/EMbeDS-education/ComputingDataAnalysisModeling20242025/main/PDAI/jupyter/jupyterNotebooks/assignments/auto_testing.py\n",
            "downloading https://raw.githubusercontent.com/EMbeDS-education/ComputingDataAnalysisModeling20242025/main/PDAI/jupyter/jupyterNotebooks/assignments/dpc-covid19-ita-andamento-nazionale.csv\n"
          ]
        }
      ],
      "source": [
        "#@title <mark>RUN, BUT DO NOT MODIFY</mark>\n",
        "#!curl -O  https://raw.githubusercontent.com/EMbeDS-education/ComputingDataAnalysisModeling20232024/main/PDAI/jupyter/jupyterNotebooks/assignments/auto_testing.py\n",
        "\n",
        "%pip install -q urllib3\n",
        "\n",
        "url_base = 'https://raw.githubusercontent.com/EMbeDS-education/ComputingDataAnalysisModeling20242025/main/PDAI/jupyter/jupyterNotebooks/assignments/'\n",
        "url_files=['auto_testing.py','dpc-covid19-ita-andamento-nazionale.csv']\n",
        "import urllib.request\n",
        "from pathlib import Path\n",
        "for url_b in url_files:\n",
        "    url = url_base+url_b\n",
        "    print('downloading',url)\n",
        "    urllib.request.urlretrieve(url,Path(url).name)\n",
        "\n",
        "%reload_ext autoreload\n",
        "%autoreload 2\n",
        "from auto_testing import *"
      ]
    },
    {
      "cell_type": "markdown",
      "metadata": {
        "id": "Om177ojl7k5J"
      },
      "source": [
        "# Assignment 04.01: If-Linear equation\n",
        "## Statement\n",
        "\n",
        "Write a program that solves a linear equation _ax = b_ in **integers**.\n",
        "\n",
        "Given two integers _a_ and _b_ (_a_ may be zero),\n",
        "- print a single integer root if it exists or\n",
        "- print `no solution` if no integer solution exists\n",
        "- print `many solutions` if many integer solutions exist.\n",
        "\n",
        "## Example input #1\n",
        "\n",
        "```\n",
        "1\n",
        "```\n",
        "\n",
        "```\n",
        "-2\n",
        "```\n",
        "\n",
        "## Example output #1\n",
        "\n",
        "```\n",
        "-2\n",
        "```\n",
        "\n",
        "## Example input #2\n",
        "\n",
        "```\n",
        "2\n",
        "```\n",
        "\n",
        "```\n",
        "-1\n",
        "```\n",
        "\n",
        "## Example output #2\n",
        "\n",
        "```\n",
        "no solution\n",
        "```\n",
        "\n"
      ]
    },
    {
      "cell_type": "markdown",
      "metadata": {
        "id": "FMZE1vmMbRLz"
      },
      "source": [
        "## Write your solution here\n",
        "\n",
        "\n",
        "*   Do not change the first line (`def ...():`)\n",
        "*   Maintain the given indentation\n",
        "*   You can run some tests by yourself by decommenting the last line\n",
        "\n"
      ]
    },
    {
      "cell_type": "code",
      "execution_count": 5,
      "metadata": {
        "id": "Yg4jeBnA7k5K"
      },
      "outputs": [],
      "source": [
        "def asgn04_01If_Linear_equation():\n",
        "    a = input()\n",
        "    b = input()\n",
        "    if a == 0:\n",
        "        if b == 0:\n",
        "            print(\"many solutions\")\n",
        "        else:\n",
        "            print(\"no solution\")\n",
        "\n",
        "    else:\n",
        "      x = b // a\n",
        "      if a * x == b:\n",
        "          print(x)\n",
        "      else:\n",
        "        print(\"no solution\")\n",
        "\n",
        "\n",
        "#You can test independently your solution by executing the following line\n",
        "#asgn04_01If_Linear_equation()"
      ]
    },
    {
      "cell_type": "markdown",
      "metadata": {
        "id": "_lqTangP8R46"
      },
      "source": [
        "## Run the following cells to perform the provided tests"
      ]
    },
    {
      "cell_type": "code",
      "execution_count": 6,
      "metadata": {
        "cellView": "form",
        "id": "uv3gdWMQ9FmP",
        "outputId": "824c91a4-aee0-4021-e355-5eacc0b8373e",
        "colab": {
          "base_uri": "https://localhost:8080/",
          "height": 1000
        }
      },
      "outputs": [
        {
          "output_type": "display_data",
          "data": {
            "text/plain": [
              "<IPython.core.display.Markdown object>"
            ],
            "text/markdown": "1. TEST [1, -2] = -2"
          },
          "metadata": {}
        },
        {
          "output_type": "stream",
          "name": "stdout",
          "text": [
            "------------------------------------------------------------\n",
            "\u001b[36m\u001b[4m\u001b[1mTest [1, -2]\u001b[0m\n",
            "\u001b[43m\u001b[32m The program prints 1 lines as expected.\u001b[0m\n",
            "\n",
            "  Line 0\n",
            "\u001b[43m\u001b[32m  Expected and actual output match:\n",
            "  -2\u001b[0m\n",
            "\n",
            "\u001b[43m\u001b[32mTest PASSED!\u001b[0m\n"
          ]
        },
        {
          "output_type": "display_data",
          "data": {
            "text/plain": [
              "<IPython.core.display.Markdown object>"
            ],
            "text/markdown": "2. TEST [2, -1] = no solution"
          },
          "metadata": {}
        },
        {
          "output_type": "stream",
          "name": "stdout",
          "text": [
            "------------------------------------------------------------\n",
            "\u001b[36m\u001b[4m\u001b[1mTest [2, -1]\u001b[0m\n",
            "\u001b[43m\u001b[32m The program prints 1 lines as expected.\u001b[0m\n",
            "\n",
            "  Line 0\n",
            "\u001b[43m\u001b[32m  Expected and actual output match:\n",
            "  no solution\u001b[0m\n",
            "\n",
            "\u001b[43m\u001b[32mTest PASSED!\u001b[0m\n"
          ]
        },
        {
          "output_type": "display_data",
          "data": {
            "text/plain": [
              "<IPython.core.display.Markdown object>"
            ],
            "text/markdown": "3. TEST [0, 0] = many solutions"
          },
          "metadata": {}
        },
        {
          "output_type": "stream",
          "name": "stdout",
          "text": [
            "------------------------------------------------------------\n",
            "\u001b[36m\u001b[4m\u001b[1mTest [0, 0]\u001b[0m\n",
            "\u001b[43m\u001b[32m The program prints 1 lines as expected.\u001b[0m\n",
            "\n",
            "  Line 0\n",
            "\u001b[43m\u001b[32m  Expected and actual output match:\n",
            "  many solutions\u001b[0m\n",
            "\n",
            "\u001b[43m\u001b[32mTest PASSED!\u001b[0m\n"
          ]
        },
        {
          "output_type": "display_data",
          "data": {
            "text/plain": [
              "<IPython.core.display.Markdown object>"
            ],
            "text/markdown": "4. TEST [5, 0] = 0"
          },
          "metadata": {}
        },
        {
          "output_type": "stream",
          "name": "stdout",
          "text": [
            "------------------------------------------------------------\n",
            "\u001b[36m\u001b[4m\u001b[1mTest [5, 0]\u001b[0m\n",
            "\u001b[43m\u001b[32m The program prints 1 lines as expected.\u001b[0m\n",
            "\n",
            "  Line 0\n",
            "\u001b[43m\u001b[32m  Expected and actual output match:\n",
            "  0\u001b[0m\n",
            "\n",
            "\u001b[43m\u001b[32mTest PASSED!\u001b[0m\n"
          ]
        },
        {
          "output_type": "display_data",
          "data": {
            "text/plain": [
              "<IPython.core.display.Markdown object>"
            ],
            "text/markdown": "5. TEST [0, 7] = no solution"
          },
          "metadata": {}
        },
        {
          "output_type": "stream",
          "name": "stdout",
          "text": [
            "------------------------------------------------------------\n",
            "\u001b[36m\u001b[4m\u001b[1mTest [0, 7]\u001b[0m\n",
            "\u001b[43m\u001b[32m The program prints 1 lines as expected.\u001b[0m\n",
            "\n",
            "  Line 0\n",
            "\u001b[43m\u001b[32m  Expected and actual output match:\n",
            "  no solution\u001b[0m\n",
            "\n",
            "\u001b[43m\u001b[32mTest PASSED!\u001b[0m\n"
          ]
        },
        {
          "output_type": "display_data",
          "data": {
            "text/plain": [
              "<IPython.core.display.Markdown object>"
            ],
            "text/markdown": "6. TEST [10, 11] = no solution"
          },
          "metadata": {}
        },
        {
          "output_type": "stream",
          "name": "stdout",
          "text": [
            "------------------------------------------------------------\n",
            "\u001b[36m\u001b[4m\u001b[1mTest [10, 11]\u001b[0m\n",
            "\u001b[43m\u001b[32m The program prints 1 lines as expected.\u001b[0m\n",
            "\n",
            "  Line 0\n",
            "\u001b[43m\u001b[32m  Expected and actual output match:\n",
            "  no solution\u001b[0m\n",
            "\n",
            "\u001b[43m\u001b[32mTest PASSED!\u001b[0m\n"
          ]
        },
        {
          "output_type": "display_data",
          "data": {
            "text/plain": [
              "<IPython.core.display.Markdown object>"
            ],
            "text/markdown": "7. TEST [1, 30000] = 30000"
          },
          "metadata": {}
        },
        {
          "output_type": "stream",
          "name": "stdout",
          "text": [
            "------------------------------------------------------------\n",
            "\u001b[36m\u001b[4m\u001b[1mTest [1, 30000]\u001b[0m\n",
            "\u001b[43m\u001b[32m The program prints 1 lines as expected.\u001b[0m\n",
            "\n",
            "  Line 0\n",
            "\u001b[43m\u001b[32m  Expected and actual output match:\n",
            "  30000\u001b[0m\n",
            "\n",
            "\u001b[43m\u001b[32mTest PASSED!\u001b[0m\n"
          ]
        }
      ],
      "source": [
        "#@title RUN and TEST ALL\n",
        "\n",
        "from IPython.display import display, Markdown\n",
        "from auto_testing import *\n",
        "\n",
        "\n",
        "\n",
        "inputs=[[1,-2],[2,-1],[0,0],[5,0],[0,7],[10,11],[1,30000]]\n",
        "expected_outputs=[[\"-2\"],[\"no solution\"],[\"many solutions\"],['0'],\\\n",
        "                  [\"no solution\"],[\"no solution\"],[\"30000\"]]\n",
        "\n",
        "for k in range(len(inputs)):\n",
        "    display(Markdown(f'{k+1}. TEST {inputs[k]} = {\",\".join(expected_outputs[k])}'))\n",
        "    print('-'*60)\n",
        "    run_and_test(inputs[k],expected_outputs[k],asgn04_01If_Linear_equation)\n"
      ]
    },
    {
      "cell_type": "markdown",
      "metadata": {
        "id": "1JMDln-vIKRB"
      },
      "source": [
        "# Assignment 04.02: If-Queen move\n",
        "## Statement\n",
        "\n",
        "Chess queen moves horizontally, vertically or diagonally in any number of squares. <br/>\n",
        "Given two different squares of the chessboard, determine whether a queen can go from the first square to the second one in a single move. <br/>\n",
        "The chessboard is assumed to not contain further pieces.\n",
        "\n",
        "The program receives four numbers from 1 to 8 each specifying the column and the row number (the first two refer to the starting square, the last two refer to the target one). <br/>\n",
        "The program should output\n",
        "- `YES` if a queen can go from the first square to the second one in a single move or\n",
        "- `NO` otherwise.\n",
        "\n",
        "\n",
        "## Example input\n",
        "\n",
        "```\n",
        "1\n",
        "1\n",
        "2\n",
        "2\n",
        "```\n",
        "\n",
        "## Example output\n",
        "\n",
        "```\n",
        "YES\n",
        "```\n",
        "\n",
        "We suggest you to use intelligible (self-commenting) names for the variables...\n"
      ]
    },
    {
      "cell_type": "markdown",
      "metadata": {
        "id": "IROCYUDQb0t7"
      },
      "source": [
        "## Write your solution here\n",
        "\n",
        "\n",
        "*   Do not change the first line (`def ...():`)\n",
        "*   Maintain the given indentation\n",
        "*   You can run some tests by yourself by decommenting the last line\n",
        "\n"
      ]
    },
    {
      "cell_type": "code",
      "execution_count": 7,
      "metadata": {
        "id": "QtPMkR0aJRYv"
      },
      "outputs": [],
      "source": [
        "def asgn04_02If_Queen_move():\n",
        "    x1 = input()\n",
        "    y1 = input()\n",
        "    x2 = input()\n",
        "    y2 = input()\n",
        "\n",
        "    dx = abs(x1 - x2)\n",
        "    dy = abs(y1 - y2)\n",
        "\n",
        "    if dx == dy or x1 == x2 or y1 == y2:\n",
        "        print(\"YES\")\n",
        "    else:\n",
        "        print(\"NO\")\n",
        "\n",
        "\n",
        "#You can test independently your solution by executing the following line\n",
        "#asgn04_02If_Queen_move()"
      ]
    },
    {
      "cell_type": "markdown",
      "metadata": {
        "id": "HcoyoBpScQ7f"
      },
      "source": [
        "## Run the following cells to perform the provided tests"
      ]
    },
    {
      "cell_type": "code",
      "execution_count": 8,
      "metadata": {
        "cellView": "form",
        "id": "X6tvTspi-MiJ",
        "outputId": "4c050c31-4bf0-4260-d99d-1ce224e146f8",
        "colab": {
          "base_uri": "https://localhost:8080/",
          "height": 1000
        }
      },
      "outputs": [
        {
          "output_type": "display_data",
          "data": {
            "text/plain": [
              "<IPython.core.display.Markdown object>"
            ],
            "text/markdown": "1. TEST [1, 1, 2, 2] = YES"
          },
          "metadata": {}
        },
        {
          "output_type": "stream",
          "name": "stdout",
          "text": [
            "------------------------------------------------------------\n",
            "\u001b[36m\u001b[4m\u001b[1mTest [1, 1, 2, 2]\u001b[0m\n",
            "\u001b[43m\u001b[32m The program prints 1 lines as expected.\u001b[0m\n",
            "\n",
            "  Line 0\n",
            "\u001b[43m\u001b[32m  Expected and actual output match:\n",
            "  YES\u001b[0m\n",
            "\n",
            "\u001b[43m\u001b[32mTest PASSED!\u001b[0m\n"
          ]
        },
        {
          "output_type": "display_data",
          "data": {
            "text/plain": [
              "<IPython.core.display.Markdown object>"
            ],
            "text/markdown": "2. TEST [1, 1, 2, 3] = NO"
          },
          "metadata": {}
        },
        {
          "output_type": "stream",
          "name": "stdout",
          "text": [
            "------------------------------------------------------------\n",
            "\u001b[36m\u001b[4m\u001b[1mTest [1, 1, 2, 3]\u001b[0m\n",
            "\u001b[43m\u001b[32m The program prints 1 lines as expected.\u001b[0m\n",
            "\n",
            "  Line 0\n",
            "\u001b[43m\u001b[32m  Expected and actual output match:\n",
            "  NO\u001b[0m\n",
            "\n",
            "\u001b[43m\u001b[32mTest PASSED!\u001b[0m\n"
          ]
        },
        {
          "output_type": "display_data",
          "data": {
            "text/plain": [
              "<IPython.core.display.Markdown object>"
            ],
            "text/markdown": "3. TEST [5, 6, 3, 3] = NO"
          },
          "metadata": {}
        },
        {
          "output_type": "stream",
          "name": "stdout",
          "text": [
            "------------------------------------------------------------\n",
            "\u001b[36m\u001b[4m\u001b[1mTest [5, 6, 3, 3]\u001b[0m\n",
            "\u001b[43m\u001b[32m The program prints 1 lines as expected.\u001b[0m\n",
            "\n",
            "  Line 0\n",
            "\u001b[43m\u001b[32m  Expected and actual output match:\n",
            "  NO\u001b[0m\n",
            "\n",
            "\u001b[43m\u001b[32mTest PASSED!\u001b[0m\n"
          ]
        },
        {
          "output_type": "display_data",
          "data": {
            "text/plain": [
              "<IPython.core.display.Markdown object>"
            ],
            "text/markdown": "4. TEST [3, 3, 1, 1] = YES"
          },
          "metadata": {}
        },
        {
          "output_type": "stream",
          "name": "stdout",
          "text": [
            "------------------------------------------------------------\n",
            "\u001b[36m\u001b[4m\u001b[1mTest [3, 3, 1, 1]\u001b[0m\n",
            "\u001b[43m\u001b[32m The program prints 1 lines as expected.\u001b[0m\n",
            "\n",
            "  Line 0\n",
            "\u001b[43m\u001b[32m  Expected and actual output match:\n",
            "  YES\u001b[0m\n",
            "\n",
            "\u001b[43m\u001b[32mTest PASSED!\u001b[0m\n"
          ]
        },
        {
          "output_type": "display_data",
          "data": {
            "text/plain": [
              "<IPython.core.display.Markdown object>"
            ],
            "text/markdown": "5. TEST [6, 5, 2, 5] = YES"
          },
          "metadata": {}
        },
        {
          "output_type": "stream",
          "name": "stdout",
          "text": [
            "------------------------------------------------------------\n",
            "\u001b[36m\u001b[4m\u001b[1mTest [6, 5, 2, 5]\u001b[0m\n",
            "\u001b[43m\u001b[32m The program prints 1 lines as expected.\u001b[0m\n",
            "\n",
            "  Line 0\n",
            "\u001b[43m\u001b[32m  Expected and actual output match:\n",
            "  YES\u001b[0m\n",
            "\n",
            "\u001b[43m\u001b[32mTest PASSED!\u001b[0m\n"
          ]
        },
        {
          "output_type": "display_data",
          "data": {
            "text/plain": [
              "<IPython.core.display.Markdown object>"
            ],
            "text/markdown": "6. TEST [7, 6, 5, 2] = NO"
          },
          "metadata": {}
        },
        {
          "output_type": "stream",
          "name": "stdout",
          "text": [
            "------------------------------------------------------------\n",
            "\u001b[36m\u001b[4m\u001b[1mTest [7, 6, 5, 2]\u001b[0m\n",
            "\u001b[43m\u001b[32m The program prints 1 lines as expected.\u001b[0m\n",
            "\n",
            "  Line 0\n",
            "\u001b[43m\u001b[32m  Expected and actual output match:\n",
            "  NO\u001b[0m\n",
            "\n",
            "\u001b[43m\u001b[32mTest PASSED!\u001b[0m\n"
          ]
        },
        {
          "output_type": "display_data",
          "data": {
            "text/plain": [
              "<IPython.core.display.Markdown object>"
            ],
            "text/markdown": "7. TEST [2, 7, 6, 7] = YES"
          },
          "metadata": {}
        },
        {
          "output_type": "stream",
          "name": "stdout",
          "text": [
            "------------------------------------------------------------\n",
            "\u001b[36m\u001b[4m\u001b[1mTest [2, 7, 6, 7]\u001b[0m\n",
            "\u001b[43m\u001b[32m The program prints 1 lines as expected.\u001b[0m\n",
            "\n",
            "  Line 0\n",
            "\u001b[43m\u001b[32m  Expected and actual output match:\n",
            "  YES\u001b[0m\n",
            "\n",
            "\u001b[43m\u001b[32mTest PASSED!\u001b[0m\n"
          ]
        },
        {
          "output_type": "display_data",
          "data": {
            "text/plain": [
              "<IPython.core.display.Markdown object>"
            ],
            "text/markdown": "8. TEST [2, 7, 4, 6] = NO"
          },
          "metadata": {}
        },
        {
          "output_type": "stream",
          "name": "stdout",
          "text": [
            "------------------------------------------------------------\n",
            "\u001b[36m\u001b[4m\u001b[1mTest [2, 7, 4, 6]\u001b[0m\n",
            "\u001b[43m\u001b[32m The program prints 1 lines as expected.\u001b[0m\n",
            "\n",
            "  Line 0\n",
            "\u001b[43m\u001b[32m  Expected and actual output match:\n",
            "  NO\u001b[0m\n",
            "\n",
            "\u001b[43m\u001b[32mTest PASSED!\u001b[0m\n"
          ]
        },
        {
          "output_type": "display_data",
          "data": {
            "text/plain": [
              "<IPython.core.display.Markdown object>"
            ],
            "text/markdown": "9. TEST [7, 4, 2, 5] = NO"
          },
          "metadata": {}
        },
        {
          "output_type": "stream",
          "name": "stdout",
          "text": [
            "------------------------------------------------------------\n",
            "\u001b[36m\u001b[4m\u001b[1mTest [7, 4, 2, 5]\u001b[0m\n",
            "\u001b[43m\u001b[32m The program prints 1 lines as expected.\u001b[0m\n",
            "\n",
            "  Line 0\n",
            "\u001b[43m\u001b[32m  Expected and actual output match:\n",
            "  NO\u001b[0m\n",
            "\n",
            "\u001b[43m\u001b[32mTest PASSED!\u001b[0m\n"
          ]
        },
        {
          "output_type": "display_data",
          "data": {
            "text/plain": [
              "<IPython.core.display.Markdown object>"
            ],
            "text/markdown": "10. TEST [7, 5, 1, 1] = NO"
          },
          "metadata": {}
        },
        {
          "output_type": "stream",
          "name": "stdout",
          "text": [
            "------------------------------------------------------------\n",
            "\u001b[36m\u001b[4m\u001b[1mTest [7, 5, 1, 1]\u001b[0m\n",
            "\u001b[43m\u001b[32m The program prints 1 lines as expected.\u001b[0m\n",
            "\n",
            "  Line 0\n",
            "\u001b[43m\u001b[32m  Expected and actual output match:\n",
            "  NO\u001b[0m\n",
            "\n",
            "\u001b[43m\u001b[32mTest PASSED!\u001b[0m\n"
          ]
        },
        {
          "output_type": "display_data",
          "data": {
            "text/plain": [
              "<IPython.core.display.Markdown object>"
            ],
            "text/markdown": "11. TEST [2, 4, 5, 7] = YES"
          },
          "metadata": {}
        },
        {
          "output_type": "stream",
          "name": "stdout",
          "text": [
            "------------------------------------------------------------\n",
            "\u001b[36m\u001b[4m\u001b[1mTest [2, 4, 5, 7]\u001b[0m\n",
            "\u001b[43m\u001b[32m The program prints 1 lines as expected.\u001b[0m\n",
            "\n",
            "  Line 0\n",
            "\u001b[43m\u001b[32m  Expected and actual output match:\n",
            "  YES\u001b[0m\n",
            "\n",
            "\u001b[43m\u001b[32mTest PASSED!\u001b[0m\n"
          ]
        },
        {
          "output_type": "display_data",
          "data": {
            "text/plain": [
              "<IPython.core.display.Markdown object>"
            ],
            "text/markdown": "12. TEST [3, 5, 7, 1] = YES"
          },
          "metadata": {}
        },
        {
          "output_type": "stream",
          "name": "stdout",
          "text": [
            "------------------------------------------------------------\n",
            "\u001b[36m\u001b[4m\u001b[1mTest [3, 5, 7, 1]\u001b[0m\n",
            "\u001b[43m\u001b[32m The program prints 1 lines as expected.\u001b[0m\n",
            "\n",
            "  Line 0\n",
            "\u001b[43m\u001b[32m  Expected and actual output match:\n",
            "  YES\u001b[0m\n",
            "\n",
            "\u001b[43m\u001b[32mTest PASSED!\u001b[0m\n"
          ]
        },
        {
          "output_type": "display_data",
          "data": {
            "text/plain": [
              "<IPython.core.display.Markdown object>"
            ],
            "text/markdown": "13. TEST [5, 2, 5, 8] = YES"
          },
          "metadata": {}
        },
        {
          "output_type": "stream",
          "name": "stdout",
          "text": [
            "------------------------------------------------------------\n",
            "\u001b[36m\u001b[4m\u001b[1mTest [5, 2, 5, 8]\u001b[0m\n",
            "\u001b[43m\u001b[32m The program prints 1 lines as expected.\u001b[0m\n",
            "\n",
            "  Line 0\n",
            "\u001b[43m\u001b[32m  Expected and actual output match:\n",
            "  YES\u001b[0m\n",
            "\n",
            "\u001b[43m\u001b[32mTest PASSED!\u001b[0m\n"
          ]
        },
        {
          "output_type": "display_data",
          "data": {
            "text/plain": [
              "<IPython.core.display.Markdown object>"
            ],
            "text/markdown": "14. TEST [1, 2, 3, 1] = NO"
          },
          "metadata": {}
        },
        {
          "output_type": "stream",
          "name": "stdout",
          "text": [
            "------------------------------------------------------------\n",
            "\u001b[36m\u001b[4m\u001b[1mTest [1, 2, 3, 1]\u001b[0m\n",
            "\u001b[43m\u001b[32m The program prints 1 lines as expected.\u001b[0m\n",
            "\n",
            "  Line 0\n",
            "\u001b[43m\u001b[32m  Expected and actual output match:\n",
            "  NO\u001b[0m\n",
            "\n",
            "\u001b[43m\u001b[32mTest PASSED!\u001b[0m\n"
          ]
        },
        {
          "output_type": "display_data",
          "data": {
            "text/plain": [
              "<IPython.core.display.Markdown object>"
            ],
            "text/markdown": "15. TEST [2, 1, 1, 3] = NO"
          },
          "metadata": {}
        },
        {
          "output_type": "stream",
          "name": "stdout",
          "text": [
            "------------------------------------------------------------\n",
            "\u001b[36m\u001b[4m\u001b[1mTest [2, 1, 1, 3]\u001b[0m\n",
            "\u001b[43m\u001b[32m The program prints 1 lines as expected.\u001b[0m\n",
            "\n",
            "  Line 0\n",
            "\u001b[43m\u001b[32m  Expected and actual output match:\n",
            "  NO\u001b[0m\n",
            "\n",
            "\u001b[43m\u001b[32mTest PASSED!\u001b[0m\n"
          ]
        }
      ],
      "source": [
        "#@title RUN and TEST ALL\n",
        "\n",
        "from IPython.display import display, Markdown\n",
        "from auto_testing import *\n",
        "\n",
        "\n",
        "\n",
        "inputs=[[1,1,2,2],[1,1,2,3],[5,6,3,3],[3,3,1,1],[6,5,2,5],\\\n",
        "        [7,6,5,2],[2,7,6,7],[2,7,4,6],[7,4,2,5],[7,5,1,1],\\\n",
        "        [2,4,5,7],[3,5,7,1],[5,2,5,8],[1,2,3,1],[2,1,1,3]]\n",
        "expected_outputs=[[\"YES\"],[\"NO\"],[\"NO\"],[\"YES\"],[\"YES\"],\\\n",
        "                  [\"NO\"],[\"YES\"],[\"NO\"],[\"NO\"],[\"NO\"],\\\n",
        "                  [\"YES\"],[\"YES\"],[\"YES\"],[\"NO\"],[\"NO\"]]\n",
        "\n",
        "for k in range(len(inputs)):\n",
        "    display(Markdown(f'{k+1}. TEST {inputs[k]} = {\",\".join(expected_outputs[k])}'))\n",
        "    print('-'*60)\n",
        "    run_and_test(inputs[k],expected_outputs[k],asgn04_02If_Queen_move)\n"
      ]
    },
    {
      "cell_type": "markdown",
      "metadata": {
        "id": "CvRjQW_ITQ8T"
      },
      "source": [
        "# Assignment 04.03: Read integers\n",
        "## Statement\n",
        "\n",
        "Write a program that reads positive integer numbers from the keyboard as long as the user provides them. <br/>\n",
        "The program should terminate as soon as the user provides an input that is not numeric (e.g. `'end'`, `'ciao'`, ...), which is considered as a terminating token.\n",
        "\n",
        "Upon reading the termination token, the program prints in separate lines:\n",
        "\n",
        "- how many numbers were given\n",
        "- how many odd numbers were given\n",
        "- the mean of the given numbers\n",
        "- the maximum given number\n",
        "\n",
        "**Untested extra challenge:** some of you might be tempted to solve this assignment using a list to store all numbers, and then iterate it. This is problematic in case of big data, or live data, as there might too many numbers to store. Also, it would be inefficient, as you would have to iterate the list of numbers twice.\n",
        "\n",
        "- Try to solve this assignment without using a list. You should define a variable per quantity we want to observe (or more if necessary), and update them every time a new number arrives.\n",
        "\n",
        "## Example input 1\n",
        "\n",
        "```\n",
        "1\n",
        "```\n",
        "\n",
        "```\n",
        "2\n",
        "```\n",
        "\n",
        "```\n",
        "3\n",
        "```\n",
        "\n",
        "```\n",
        "end\n",
        "```\n",
        "\n",
        "## Example output 1\n",
        "\n",
        "```\n",
        "3\n",
        "```\n",
        "\n",
        "```\n",
        "2\n",
        "```\n",
        "\n",
        "```\n",
        "2.0\n",
        "```\n",
        "\n",
        "```\n",
        "3\n",
        "```\n",
        "\n",
        "## Hints\n",
        "\n",
        "Here a suggestion on how to compute the maximum:\n",
        "\n",
        "- Define a variable `m` with value smaller than any value that might be given.\n",
        "- Every time a new number `n` is given, compare `m` with `n`, and update `m` if `n` is bigger than `m`.\n",
        "\n",
        "Whenever you read with `input()`, you read a string. Strings have a method to check if they represent a number..."
      ]
    },
    {
      "cell_type": "markdown",
      "metadata": {
        "id": "Lr-UYAK6b18z"
      },
      "source": [
        "## Write your solution here\n",
        "\n",
        "\n",
        "*   Do not change the first line (`def ...():`)\n",
        "*   Maintain the given indentation\n",
        "*   You can run some tests by yourself by decommenting the last line\n",
        "\n"
      ]
    },
    {
      "cell_type": "code",
      "execution_count": 11,
      "metadata": {
        "id": "ghJWGiEPUD9v"
      },
      "outputs": [],
      "source": [
        "from mmap import MADV_DONTNEED\n",
        "def asgn04_03Read_integers():\n",
        "    M = 0\n",
        "    odd = 0\n",
        "    tot = 0\n",
        "    N = 0\n",
        "\n",
        "    x = str(input())\n",
        "    while x.isnumeric() and int(x) > 0:\n",
        "        x = int(x)\n",
        "        M = max(M, x)\n",
        "        tot = tot + x\n",
        "        N = N + 1\n",
        "\n",
        "        if x % 2 == 1:\n",
        "            odd = odd + 1\n",
        "\n",
        "        x = str(input())\n",
        "\n",
        "    print(N)\n",
        "    print(odd)\n",
        "    print(tot / N)\n",
        "    print(M)\n",
        "\n",
        "\n",
        "#You can test independently your solution by executing the following line\n",
        "#asgn04_03Read_integers()"
      ]
    },
    {
      "cell_type": "markdown",
      "metadata": {
        "id": "XJA5H0ULcVAM"
      },
      "source": [
        "## Run the following cells to perform the provided tests"
      ]
    },
    {
      "cell_type": "code",
      "execution_count": 12,
      "metadata": {
        "id": "42vQBC_gAm4e",
        "cellView": "form",
        "outputId": "5ef3da23-97aa-404f-bfd0-9a9cb3587281",
        "colab": {
          "base_uri": "https://localhost:8080/",
          "height": 1000
        }
      },
      "outputs": [
        {
          "output_type": "display_data",
          "data": {
            "text/plain": [
              "<IPython.core.display.Markdown object>"
            ],
            "text/markdown": "1. TEST ['1', '2', '3', 'end'] = 3,2,2.0,3"
          },
          "metadata": {}
        },
        {
          "output_type": "stream",
          "name": "stdout",
          "text": [
            "------------------------------------------------------------\n",
            "\u001b[36m\u001b[4m\u001b[1mTest ['1', '2', '3', 'end']\u001b[0m\n",
            "\u001b[43m\u001b[32m The program prints 4 lines as expected.\u001b[0m\n",
            "\n",
            "  Line 0\n",
            "\u001b[43m\u001b[32m  Expected and actual output match:\n",
            "  3\u001b[0m\n",
            "\n",
            "  Line 1\n",
            "\u001b[43m\u001b[32m  Expected and actual output match:\n",
            "  2\u001b[0m\n",
            "\n",
            "  Line 2\n",
            "\u001b[43m\u001b[32m  Expected and actual output match:\n",
            "  2.0\u001b[0m\n",
            "\n",
            "  Line 3\n",
            "\u001b[43m\u001b[32m  Expected and actual output match:\n",
            "  3\u001b[0m\n",
            "\n",
            "\u001b[43m\u001b[32mTest PASSED!\u001b[0m\n"
          ]
        },
        {
          "output_type": "display_data",
          "data": {
            "text/plain": [
              "<IPython.core.display.Markdown object>"
            ],
            "text/markdown": "2. TEST ['1', '2', '3', 'fine'] = 3,2,2.0,3"
          },
          "metadata": {}
        },
        {
          "output_type": "stream",
          "name": "stdout",
          "text": [
            "------------------------------------------------------------\n",
            "\u001b[36m\u001b[4m\u001b[1mTest ['1', '2', '3', 'fine']\u001b[0m\n",
            "\u001b[43m\u001b[32m The program prints 4 lines as expected.\u001b[0m\n",
            "\n",
            "  Line 0\n",
            "\u001b[43m\u001b[32m  Expected and actual output match:\n",
            "  3\u001b[0m\n",
            "\n",
            "  Line 1\n",
            "\u001b[43m\u001b[32m  Expected and actual output match:\n",
            "  2\u001b[0m\n",
            "\n",
            "  Line 2\n",
            "\u001b[43m\u001b[32m  Expected and actual output match:\n",
            "  2.0\u001b[0m\n",
            "\n",
            "  Line 3\n",
            "\u001b[43m\u001b[32m  Expected and actual output match:\n",
            "  3\u001b[0m\n",
            "\n",
            "\u001b[43m\u001b[32mTest PASSED!\u001b[0m\n"
          ]
        },
        {
          "output_type": "display_data",
          "data": {
            "text/plain": [
              "<IPython.core.display.Markdown object>"
            ],
            "text/markdown": "3. TEST ['1', '3', '5', '7', '9', '11', 'ciao'] = 6,6,6.0,11"
          },
          "metadata": {}
        },
        {
          "output_type": "stream",
          "name": "stdout",
          "text": [
            "------------------------------------------------------------\n",
            "\u001b[36m\u001b[4m\u001b[1mTest ['1', '3', '5', '7', '9', '11', 'ciao']\u001b[0m\n",
            "\u001b[43m\u001b[32m The program prints 4 lines as expected.\u001b[0m\n",
            "\n",
            "  Line 0\n",
            "\u001b[43m\u001b[32m  Expected and actual output match:\n",
            "  6\u001b[0m\n",
            "\n",
            "  Line 1\n",
            "\u001b[43m\u001b[32m  Expected and actual output match:\n",
            "  6\u001b[0m\n",
            "\n",
            "  Line 2\n",
            "\u001b[43m\u001b[32m  Expected and actual output match:\n",
            "  6.0\u001b[0m\n",
            "\n",
            "  Line 3\n",
            "\u001b[43m\u001b[32m  Expected and actual output match:\n",
            "  11\u001b[0m\n",
            "\n",
            "\u001b[43m\u001b[32mTest PASSED!\u001b[0m\n"
          ]
        },
        {
          "output_type": "display_data",
          "data": {
            "text/plain": [
              "<IPython.core.display.Markdown object>"
            ],
            "text/markdown": "4. TEST ['11', '9', '7', '5', '3', '1', 'ciao'] = 6,6,6.0,11"
          },
          "metadata": {}
        },
        {
          "output_type": "stream",
          "name": "stdout",
          "text": [
            "------------------------------------------------------------\n",
            "\u001b[36m\u001b[4m\u001b[1mTest ['11', '9', '7', '5', '3', '1', 'ciao']\u001b[0m\n",
            "\u001b[43m\u001b[32m The program prints 4 lines as expected.\u001b[0m\n",
            "\n",
            "  Line 0\n",
            "\u001b[43m\u001b[32m  Expected and actual output match:\n",
            "  6\u001b[0m\n",
            "\n",
            "  Line 1\n",
            "\u001b[43m\u001b[32m  Expected and actual output match:\n",
            "  6\u001b[0m\n",
            "\n",
            "  Line 2\n",
            "\u001b[43m\u001b[32m  Expected and actual output match:\n",
            "  6.0\u001b[0m\n",
            "\n",
            "  Line 3\n",
            "\u001b[43m\u001b[32m  Expected and actual output match:\n",
            "  11\u001b[0m\n",
            "\n",
            "\u001b[43m\u001b[32mTest PASSED!\u001b[0m\n"
          ]
        }
      ],
      "source": [
        "#@title RUN and TEST ALL\n",
        "\n",
        "from IPython.display import display, Markdown\n",
        "from auto_testing import *\n",
        "\n",
        "\n",
        "\n",
        "inputs=[['1', '2', '3', 'end'],['1', '2', '3', 'fine'],['1', '3', '5', '7', '9', '11', 'ciao'],\\\n",
        "        ['11', '9', '7', '5', '3', '1', 'ciao']]\n",
        "expected_outputs=[[\"3\",\"2\",\"2.0\",\"3\"],[\"3\",\"2\",\"2.0\",\"3\"],['6', '6', '6.0', '11'],\\\n",
        "                  ['6', '6', '6.0', '11']]\n",
        "\n",
        "for k in range(len(inputs)):\n",
        "    display(Markdown(f'{k+1}. TEST {inputs[k]} = {\",\".join(expected_outputs[k])}'))\n",
        "    print('-'*60)\n",
        "    run_and_test(inputs[k],expected_outputs[k],asgn04_03Read_integers)\n"
      ]
    },
    {
      "cell_type": "markdown",
      "metadata": {
        "id": "XYSmynIm83GP"
      },
      "source": [
        "# Assignment 04.04: While-Average of sequence\n",
        "## Statement\n",
        "\n",
        "Read a sequence of non-negative integers, where each number is written in a separate line. The sequence ends with 0. Upon termination, print the average of the sequence.\n",
        "\n",
        "This assignment should be solved using while loops\n",
        "\n",
        "## Example input\n",
        "\n",
        "```\n",
        "10\n",
        "```\n",
        "\n",
        "```\n",
        "30\n",
        "```\n",
        "\n",
        "```\n",
        "0\n",
        "```\n",
        "\n",
        "## Example output\n",
        "\n",
        "```\n",
        "20.0\n",
        "```\n",
        "\n"
      ]
    },
    {
      "cell_type": "markdown",
      "metadata": {
        "id": "_XdWvj1R83GQ"
      },
      "source": [
        "## Write your solution here\n",
        "\n",
        "\n",
        "*   Do not change the first line (`def ...():`)\n",
        "*   Maintain the given indentation\n",
        "*   You can run some tests by yourself by decommenting the last line\n",
        "\n"
      ]
    },
    {
      "cell_type": "code",
      "execution_count": 13,
      "metadata": {
        "id": "ewoiaJGW83GQ"
      },
      "outputs": [],
      "source": [
        "def asgn04_04While_Average_of_sequence():\n",
        "    tot = 0\n",
        "    N = 0\n",
        "\n",
        "    x = str(input())\n",
        "    while x.isnumeric() and int(x) > 0:\n",
        "        x = int(x)\n",
        "        tot = tot + x\n",
        "        N = N + 1\n",
        "\n",
        "        x = str(input())\n",
        "\n",
        "    print(tot / N)\n",
        "\n",
        "\n",
        "#You can test independently your solution by executing the following line\n",
        "#asgn04_04While_Average_of_sequence()"
      ]
    },
    {
      "cell_type": "markdown",
      "metadata": {
        "id": "FCNXKoAJ83GV"
      },
      "source": [
        "## Run the following cells to perform the provided tests"
      ]
    },
    {
      "cell_type": "code",
      "execution_count": 14,
      "metadata": {
        "cellView": "form",
        "id": "niuOKfaUBJUv",
        "outputId": "ab9ea529-9593-46a3-8497-d0d63b9e2213",
        "colab": {
          "base_uri": "https://localhost:8080/",
          "height": 1000
        }
      },
      "outputs": [
        {
          "output_type": "display_data",
          "data": {
            "text/plain": [
              "<IPython.core.display.Markdown object>"
            ],
            "text/markdown": "1. TEST ['10', '30', '0'] = 20.0"
          },
          "metadata": {}
        },
        {
          "output_type": "stream",
          "name": "stdout",
          "text": [
            "------------------------------------------------------------\n",
            "\u001b[36m\u001b[4m\u001b[1mTest ['10', '30', '0']\u001b[0m\n",
            "\u001b[43m\u001b[32m The program prints 1 lines as expected.\u001b[0m\n",
            "\n",
            "  Line 0\n",
            "\u001b[43m\u001b[32m  Expected and actual output match:\n",
            "  20.0\u001b[0m\n",
            "\n",
            "\u001b[43m\u001b[32mTest PASSED!\u001b[0m\n"
          ]
        },
        {
          "output_type": "display_data",
          "data": {
            "text/plain": [
              "<IPython.core.display.Markdown object>"
            ],
            "text/markdown": "2. TEST ['1', '1', '1', '1', '0'] = 1.0"
          },
          "metadata": {}
        },
        {
          "output_type": "stream",
          "name": "stdout",
          "text": [
            "------------------------------------------------------------\n",
            "\u001b[36m\u001b[4m\u001b[1mTest ['1', '1', '1', '1', '0']\u001b[0m\n",
            "\u001b[43m\u001b[32m The program prints 1 lines as expected.\u001b[0m\n",
            "\n",
            "  Line 0\n",
            "\u001b[43m\u001b[32m  Expected and actual output match:\n",
            "  1.0\u001b[0m\n",
            "\n",
            "\u001b[43m\u001b[32mTest PASSED!\u001b[0m\n"
          ]
        },
        {
          "output_type": "display_data",
          "data": {
            "text/plain": [
              "<IPython.core.display.Markdown object>"
            ],
            "text/markdown": "3. TEST ['1', '2', '0'] = 1.5"
          },
          "metadata": {}
        },
        {
          "output_type": "stream",
          "name": "stdout",
          "text": [
            "------------------------------------------------------------\n",
            "\u001b[36m\u001b[4m\u001b[1mTest ['1', '2', '0']\u001b[0m\n",
            "\u001b[43m\u001b[32m The program prints 1 lines as expected.\u001b[0m\n",
            "\n",
            "  Line 0\n",
            "\u001b[43m\u001b[32m  Expected and actual output match:\n",
            "  1.5\u001b[0m\n",
            "\n",
            "\u001b[43m\u001b[32mTest PASSED!\u001b[0m\n"
          ]
        },
        {
          "output_type": "display_data",
          "data": {
            "text/plain": [
              "<IPython.core.display.Markdown object>"
            ],
            "text/markdown": "4. TEST ['1', '2', '3', '4', '0'] = 2.5"
          },
          "metadata": {}
        },
        {
          "output_type": "stream",
          "name": "stdout",
          "text": [
            "------------------------------------------------------------\n",
            "\u001b[36m\u001b[4m\u001b[1mTest ['1', '2', '3', '4', '0']\u001b[0m\n",
            "\u001b[43m\u001b[32m The program prints 1 lines as expected.\u001b[0m\n",
            "\n",
            "  Line 0\n",
            "\u001b[43m\u001b[32m  Expected and actual output match:\n",
            "  2.5\u001b[0m\n",
            "\n",
            "\u001b[43m\u001b[32mTest PASSED!\u001b[0m\n"
          ]
        },
        {
          "output_type": "display_data",
          "data": {
            "text/plain": [
              "<IPython.core.display.Markdown object>"
            ],
            "text/markdown": "5. TEST ['1234', '0'] = 1234.0"
          },
          "metadata": {}
        },
        {
          "output_type": "stream",
          "name": "stdout",
          "text": [
            "------------------------------------------------------------\n",
            "\u001b[36m\u001b[4m\u001b[1mTest ['1234', '0']\u001b[0m\n",
            "\u001b[43m\u001b[32m The program prints 1 lines as expected.\u001b[0m\n",
            "\n",
            "  Line 0\n",
            "\u001b[43m\u001b[32m  Expected and actual output match:\n",
            "  1234.0\u001b[0m\n",
            "\n",
            "\u001b[43m\u001b[32mTest PASSED!\u001b[0m\n"
          ]
        },
        {
          "output_type": "display_data",
          "data": {
            "text/plain": [
              "<IPython.core.display.Markdown object>"
            ],
            "text/markdown": "6. TEST ['1', '2', '3', '4', '5', '6', '7', '0'] = 4.0"
          },
          "metadata": {}
        },
        {
          "output_type": "stream",
          "name": "stdout",
          "text": [
            "------------------------------------------------------------\n",
            "\u001b[36m\u001b[4m\u001b[1mTest ['1', '2', '3', '4', '5', '6', '7', '0']\u001b[0m\n",
            "\u001b[43m\u001b[32m The program prints 1 lines as expected.\u001b[0m\n",
            "\n",
            "  Line 0\n",
            "\u001b[43m\u001b[32m  Expected and actual output match:\n",
            "  4.0\u001b[0m\n",
            "\n",
            "\u001b[43m\u001b[32mTest PASSED!\u001b[0m\n"
          ]
        }
      ],
      "source": [
        "#@title RUN and TEST ALL\n",
        "\n",
        "from IPython.display import display, Markdown\n",
        "from auto_testing import *\n",
        "\n",
        "\n",
        "inputs=[['10', '30', '0'],['1', '1', '1', '1', '0'],['1', '2', '0'],\\\n",
        "        ['1', '2', '3', '4', '0'],['1234', '0'],['1', '2', '3', '4', '5', '6', '7', '0']]\n",
        "expected_outputs=[[\"20.0\"],[\"1.0\"],[\"1.5\"],[\"2.5\"],[\"1234.0\"],[\"4.0\"]]\n",
        "\n",
        "for k in range(len(inputs)):\n",
        "    display(Markdown(f'{k+1}. TEST {inputs[k]} = {\",\".join(expected_outputs[k])}'))\n",
        "    print('-'*60)\n",
        "    run_and_test(inputs[k],expected_outputs[k],asgn04_04While_Average_of_sequence)\n"
      ]
    },
    {
      "cell_type": "markdown",
      "metadata": {
        "id": "OrzHQ6gm83GZ"
      },
      "source": [
        "# Assignment 04.05: While-Fibonacci\n",
        "## Statement\n",
        "\n",
        "Fibonacci numbers are the numbers in the [integer sequence ](https://en.wikipedia.org/wiki/Integer_sequence)starting with 1, 1 where every number after the first two is the sum of the two preceding ones:\n",
        "\n",
        "1, 1, 2, 3, 5, 8, 13, 21, 34, ...\n",
        "\n",
        "Given a positive integer **n**, print the **n**th Fibonacci number.\n",
        "\n",
        "This assignment should be solved using while loops\n",
        "\n",
        "## Example input\n",
        "\n",
        "```\n",
        "6\n",
        "```\n",
        "\n",
        "## Example output\n",
        "\n",
        "```\n",
        "8\n",
        "```"
      ]
    },
    {
      "cell_type": "markdown",
      "metadata": {
        "id": "4URO_dHJ83Ga"
      },
      "source": [
        "## Write your solution here\n",
        "\n",
        "\n",
        "*   Do not change the first line (`def ...():`)\n",
        "*   Maintain the given indentation\n",
        "*   You can run some tests by yourself by decommenting the last line\n",
        "\n"
      ]
    },
    {
      "cell_type": "code",
      "execution_count": null,
      "metadata": {
        "id": "x4ETfW8Z83Ga"
      },
      "outputs": [],
      "source": [
        "def asgn04_05While_Fibonacci():\n",
        "    fib = []\n",
        "\n",
        "\n",
        "#You can test independently your solution by executing the following line\n",
        "#asgn04_05While_Fibonacci()"
      ]
    },
    {
      "cell_type": "markdown",
      "metadata": {
        "id": "0NWXYSq483Gb"
      },
      "source": [
        "## Run the following cells to perform the provided tests"
      ]
    },
    {
      "cell_type": "code",
      "execution_count": null,
      "metadata": {
        "cellView": "form",
        "id": "YpB2xJG0BtVh"
      },
      "outputs": [],
      "source": [
        "#@title RUN and TEST ALL\n",
        "\n",
        "from IPython.display import display, Markdown\n",
        "from auto_testing import *\n",
        "\n",
        "\n",
        "inputs=[[6],[1],[2],[3],[4],[7],[14],[18]]\n",
        "expected_outputs=[[\"8\"],[\"1\"],[\"1\"],[\"2\"],[\"3\"],[\"13\"],[\"377\"],[\"2584\"]]\n",
        "\n",
        "for k in range(len(inputs)):\n",
        "    display(Markdown(f'{k+1}. TEST {inputs[k]} = {\",\".join(expected_outputs[k])}'))\n",
        "    print('-'*60)\n",
        "    run_and_test(inputs[k],expected_outputs[k],asgn04_05While_Fibonacci)\n"
      ]
    },
    {
      "cell_type": "markdown",
      "metadata": {
        "id": "ciulVFG383Gg"
      },
      "source": [
        "# Assignment 04.06: For-Sum of N numbers\n",
        "## Statement\n",
        "\n",
        "`N` numbers are given in the input. Read them and print their sum.\n",
        "\n",
        "The first line of input contains the integer `N`, which is the number of integers to follow. Each of the next `N` lines contains one integer. Print the sum of these `N` integers.\n",
        "\n",
        "This assignment should be solved using for loops\n",
        "\n",
        "## Example input\n",
        "\n",
        "```\n",
        "10\n",
        "1\n",
        "2\n",
        "1\n",
        "1\n",
        "1\n",
        "1\n",
        "3\n",
        "1\n",
        "1\n",
        "1\n",
        "```\n",
        "\n",
        "## Example output\n",
        "\n",
        "```\n",
        "13\n",
        "```\n",
        "\n"
      ]
    },
    {
      "cell_type": "markdown",
      "metadata": {
        "id": "DGWTK0kR83Gi"
      },
      "source": [
        "## Write your solution here\n",
        "\n",
        "\n",
        "*   Do not change the first line (`def ...():`)\n",
        "*   Maintain the given indentation\n",
        "*   You can run some tests by yourself by decommenting the last line\n",
        "\n"
      ]
    },
    {
      "cell_type": "code",
      "execution_count": 30,
      "metadata": {
        "id": "Enz3bEGR83Gi"
      },
      "outputs": [],
      "source": [
        "def asgn04_06For_Sum_of_N_numbers():\n",
        "    N = int(input())\n",
        "    tot = 0\n",
        "\n",
        "    for i in range(N):\n",
        "        tot = tot + int(input())\n",
        "\n",
        "    print(tot)\n",
        "\n",
        "\n",
        "#You can test independently your solution by executing the following line\n",
        "#asgn04_06For_Sum_of_N_numbers()"
      ]
    },
    {
      "cell_type": "markdown",
      "metadata": {
        "id": "JeXi4A__83Gi"
      },
      "source": [
        "## Run the following cells to perform the provided tests"
      ]
    },
    {
      "cell_type": "code",
      "execution_count": 31,
      "metadata": {
        "id": "JNnqG1QYCbv8",
        "outputId": "fe2010b7-4f5f-4bf3-e419-05bed943f612",
        "colab": {
          "base_uri": "https://localhost:8080/",
          "height": 1000
        }
      },
      "outputs": [
        {
          "output_type": "display_data",
          "data": {
            "text/plain": [
              "<IPython.core.display.Markdown object>"
            ],
            "text/markdown": "1. TEST ['1', '891'] = 891"
          },
          "metadata": {}
        },
        {
          "output_type": "stream",
          "name": "stdout",
          "text": [
            "------------------------------------------------------------\n",
            "\u001b[36m\u001b[4m\u001b[1mTest ['1', '891']\u001b[0m\n",
            "\u001b[43m\u001b[32m The program prints 1 lines as expected.\u001b[0m\n",
            "\n",
            "  Line 0\n",
            "\u001b[43m\u001b[32m  Expected and actual output match:\n",
            "  891\u001b[0m\n",
            "\n",
            "\u001b[43m\u001b[32mTest PASSED!\u001b[0m\n"
          ]
        },
        {
          "output_type": "display_data",
          "data": {
            "text/plain": [
              "<IPython.core.display.Markdown object>"
            ],
            "text/markdown": "2. TEST ['0'] = 0"
          },
          "metadata": {}
        },
        {
          "output_type": "stream",
          "name": "stdout",
          "text": [
            "------------------------------------------------------------\n",
            "\u001b[36m\u001b[4m\u001b[1mTest ['0']\u001b[0m\n",
            "\u001b[43m\u001b[32m The program prints 1 lines as expected.\u001b[0m\n",
            "\n",
            "  Line 0\n",
            "\u001b[43m\u001b[32m  Expected and actual output match:\n",
            "  0\u001b[0m\n",
            "\n",
            "\u001b[43m\u001b[32mTest PASSED!\u001b[0m\n"
          ]
        },
        {
          "output_type": "display_data",
          "data": {
            "text/plain": [
              "<IPython.core.display.Markdown object>"
            ],
            "text/markdown": "3. TEST ['10', '1', '2', '1', '1', '1', '1', '3', '1', '1', '1'] = 13"
          },
          "metadata": {}
        },
        {
          "output_type": "stream",
          "name": "stdout",
          "text": [
            "------------------------------------------------------------\n",
            "\u001b[36m\u001b[4m\u001b[1mTest ['10', '1', '2', '1', '1', '1', '1', '3', '1', '1', '1']\u001b[0m\n",
            "\u001b[43m\u001b[32m The program prints 1 lines as expected.\u001b[0m\n",
            "\n",
            "  Line 0\n",
            "\u001b[43m\u001b[32m  Expected and actual output match:\n",
            "  13\u001b[0m\n",
            "\n",
            "\u001b[43m\u001b[32mTest PASSED!\u001b[0m\n"
          ]
        },
        {
          "output_type": "display_data",
          "data": {
            "text/plain": [
              "<IPython.core.display.Markdown object>"
            ],
            "text/markdown": "4. TEST ['10', '1', '2', '3', '4', '5', '6', '7', '8', '9', '10'] = 55"
          },
          "metadata": {}
        },
        {
          "output_type": "stream",
          "name": "stdout",
          "text": [
            "------------------------------------------------------------\n",
            "\u001b[36m\u001b[4m\u001b[1mTest ['10', '1', '2', '3', '4', '5', '6', '7', '8', '9', '10']\u001b[0m\n",
            "\u001b[43m\u001b[32m The program prints 1 lines as expected.\u001b[0m\n",
            "\n",
            "  Line 0\n",
            "\u001b[43m\u001b[32m  Expected and actual output match:\n",
            "  55\u001b[0m\n",
            "\n",
            "\u001b[43m\u001b[32mTest PASSED!\u001b[0m\n"
          ]
        },
        {
          "output_type": "display_data",
          "data": {
            "text/plain": [
              "<IPython.core.display.Markdown object>"
            ],
            "text/markdown": "5. TEST ['2', '235', '56'] = 291"
          },
          "metadata": {}
        },
        {
          "output_type": "stream",
          "name": "stdout",
          "text": [
            "------------------------------------------------------------\n",
            "\u001b[36m\u001b[4m\u001b[1mTest ['2', '235', '56']\u001b[0m\n",
            "\u001b[43m\u001b[32m The program prints 1 lines as expected.\u001b[0m\n",
            "\n",
            "  Line 0\n",
            "\u001b[43m\u001b[32m  Expected and actual output match:\n",
            "  291\u001b[0m\n",
            "\n",
            "\u001b[43m\u001b[32mTest PASSED!\u001b[0m\n"
          ]
        },
        {
          "output_type": "display_data",
          "data": {
            "text/plain": [
              "<IPython.core.display.Markdown object>"
            ],
            "text/markdown": "6. TEST ['4', '4', '4', '4', '4'] = 16"
          },
          "metadata": {}
        },
        {
          "output_type": "stream",
          "name": "stdout",
          "text": [
            "------------------------------------------------------------\n",
            "\u001b[36m\u001b[4m\u001b[1mTest ['4', '4', '4', '4', '4']\u001b[0m\n",
            "\u001b[43m\u001b[32m The program prints 1 lines as expected.\u001b[0m\n",
            "\n",
            "  Line 0\n",
            "\u001b[43m\u001b[32m  Expected and actual output match:\n",
            "  16\u001b[0m\n",
            "\n",
            "\u001b[43m\u001b[32mTest PASSED!\u001b[0m\n"
          ]
        }
      ],
      "source": [
        "#@title RUN and TEST ALL\n",
        "\n",
        "from IPython.display import display, Markdown\n",
        "from auto_testing import *\n",
        "\n",
        "\n",
        "\n",
        "inputs=[['1', '891'],['0'],['10', '1', '2', '1', '1', '1', '1', '3', '1', '1', '1'],\\\n",
        "        ['10', '1', '2', '3', '4', '5', '6', '7', '8', '9', '10'],['2', '235', '56'],\\\n",
        "        ['4', '4', '4', '4', '4']]\n",
        "expected_outputs=[[\"891\"],[\"0\"],[\"13\"],[\"55\"],[\"291\"],[\"16\"]]\n",
        "\n",
        "for k in range(len(inputs)):\n",
        "    display(Markdown(f'{k+1}. TEST {inputs[k]} = {\",\".join(expected_outputs[k])}'))\n",
        "    print('-'*60)\n",
        "    run_and_test(inputs[k],expected_outputs[k],asgn04_06For_Sum_of_N_numbers)\n"
      ]
    },
    {
      "cell_type": "markdown",
      "metadata": {
        "id": "3kuaF8ZI83Gm"
      },
      "source": [
        "# Assignment 04.07: For-Series\n",
        "## Statement\n",
        "\n",
        "Given two integers `A` and `B`. Print all numbers from `A` to `B` inclusively, all in the same line separated by a space.\n",
        "In particular, the numbers should be printed\n",
        "- in increasing order, if `A < B`, or\n",
        "- in decreasing order, if `A >= B`.\n",
        "\n",
        "This assignment should be solved using for loops\n",
        "\n",
        "## Example input 1\n",
        "\n",
        "```\n",
        "8\n",
        "```\n",
        "\n",
        "```\n",
        "5\n",
        "```\n",
        "\n",
        "## Example output 1\n",
        "\n",
        "```\n",
        "8 7 6 5\n",
        "```\n",
        "\n",
        "## Example input 2\n",
        "\n",
        "```\n",
        "5\n",
        "```\n",
        "\n",
        "```\n",
        "8\n",
        "```\n",
        "\n",
        "## Example output 2\n",
        "\n",
        "```\n",
        "5 6 7 8\n",
        "```\n"
      ]
    },
    {
      "cell_type": "markdown",
      "metadata": {
        "id": "ubsNGAQY83Gm"
      },
      "source": [
        "## Write your solution here\n",
        "\n",
        "\n",
        "*   Do not change the first line (`def ...():`)\n",
        "*   Maintain the given indentation\n",
        "*   You can run some tests by yourself by decommenting the last line\n",
        "\n"
      ]
    },
    {
      "cell_type": "code",
      "execution_count": 61,
      "metadata": {
        "id": "w-aeIJEw83Gn"
      },
      "outputs": [],
      "source": [
        "def asgn04_07For_Series():\n",
        "    A = int(input())\n",
        "    B = int(input())\n",
        "\n",
        "    s = \"\"\n",
        "    for i in range(A, B, 1 if A < B else -1):\n",
        "        s = s + \" \" + str(i)\n",
        "    print(s, B)\n",
        "\n",
        "\n",
        "#You can test independently your solution by executing the following line\n",
        "#asgn04_07For_Series()"
      ]
    },
    {
      "cell_type": "markdown",
      "metadata": {
        "id": "RF_4ydwf83Gr"
      },
      "source": [
        "## Run the following cells to perform the provided tests"
      ]
    },
    {
      "cell_type": "code",
      "execution_count": 62,
      "metadata": {
        "cellView": "form",
        "id": "HukDAeBaC47-",
        "outputId": "8f14f6b1-d18f-44e4-ae69-b311e7902ccb",
        "colab": {
          "base_uri": "https://localhost:8080/",
          "height": 1000
        }
      },
      "outputs": [
        {
          "output_type": "display_data",
          "data": {
            "text/plain": [
              "<IPython.core.display.Markdown object>"
            ],
            "text/markdown": "1. TEST ['8', '5'] = 8 7 6 5"
          },
          "metadata": {}
        },
        {
          "output_type": "stream",
          "name": "stdout",
          "text": [
            "------------------------------------------------------------\n",
            "\u001b[36m\u001b[4m\u001b[1mTest ['8', '5']\u001b[0m\n",
            "\u001b[43m\u001b[32m The program prints 1 lines as expected.\u001b[0m\n",
            "\n",
            "  Line 0\n",
            "\u001b[43m\u001b[32m  Expected and actual output match:\n",
            "  8 7 6 5\u001b[0m\n",
            "\n",
            "\u001b[43m\u001b[32mTest PASSED!\u001b[0m\n"
          ]
        },
        {
          "output_type": "display_data",
          "data": {
            "text/plain": [
              "<IPython.core.display.Markdown object>"
            ],
            "text/markdown": "2. TEST ['5', '8'] = 5 6 7 8"
          },
          "metadata": {}
        },
        {
          "output_type": "stream",
          "name": "stdout",
          "text": [
            "------------------------------------------------------------\n",
            "\u001b[36m\u001b[4m\u001b[1mTest ['5', '8']\u001b[0m\n",
            "\u001b[43m\u001b[32m The program prints 1 lines as expected.\u001b[0m\n",
            "\n",
            "  Line 0\n",
            "\u001b[43m\u001b[32m  Expected and actual output match:\n",
            "  5 6 7 8\u001b[0m\n",
            "\n",
            "\u001b[43m\u001b[32mTest PASSED!\u001b[0m\n"
          ]
        },
        {
          "output_type": "display_data",
          "data": {
            "text/plain": [
              "<IPython.core.display.Markdown object>"
            ],
            "text/markdown": "3. TEST ['1', '10'] = 1 2 3 4 5 6 7 8 9 10"
          },
          "metadata": {}
        },
        {
          "output_type": "stream",
          "name": "stdout",
          "text": [
            "------------------------------------------------------------\n",
            "\u001b[36m\u001b[4m\u001b[1mTest ['1', '10']\u001b[0m\n",
            "\u001b[43m\u001b[32m The program prints 1 lines as expected.\u001b[0m\n",
            "\n",
            "  Line 0\n",
            "\u001b[43m\u001b[32m  Expected and actual output match:\n",
            "  1 2 3 4 5 6 7 8 9 10\u001b[0m\n",
            "\n",
            "\u001b[43m\u001b[32mTest PASSED!\u001b[0m\n"
          ]
        },
        {
          "output_type": "display_data",
          "data": {
            "text/plain": [
              "<IPython.core.display.Markdown object>"
            ],
            "text/markdown": "4. TEST ['179', '179'] = 179"
          },
          "metadata": {}
        },
        {
          "output_type": "stream",
          "name": "stdout",
          "text": [
            "------------------------------------------------------------\n",
            "\u001b[36m\u001b[4m\u001b[1mTest ['179', '179']\u001b[0m\n",
            "\u001b[43m\u001b[32m The program prints 1 lines as expected.\u001b[0m\n",
            "\n",
            "  Line 0\n",
            "\u001b[43m\u001b[32m  Expected and actual output match:\n",
            "  179\u001b[0m\n",
            "\n",
            "\u001b[43m\u001b[32mTest PASSED!\u001b[0m\n"
          ]
        },
        {
          "output_type": "display_data",
          "data": {
            "text/plain": [
              "<IPython.core.display.Markdown object>"
            ],
            "text/markdown": "5. TEST ['-14', '7'] = -14 -13 -12 -11 -10 -9 -8 -7 -6 -5 -4 -3 -2 -1 0 1 2 3 4 5 6 7"
          },
          "metadata": {}
        },
        {
          "output_type": "stream",
          "name": "stdout",
          "text": [
            "------------------------------------------------------------\n",
            "\u001b[36m\u001b[4m\u001b[1mTest ['-14', '7']\u001b[0m\n",
            "\u001b[43m\u001b[32m The program prints 1 lines as expected.\u001b[0m\n",
            "\n",
            "  Line 0\n",
            "\u001b[43m\u001b[32m  Expected and actual output match:\n",
            "  -14 -13 -12 -11 -10 -9 -8 -7 -6 -5 -4 -3 -2 -1 0 1 2 3 4 5 6 7\u001b[0m\n",
            "\n",
            "\u001b[43m\u001b[32mTest PASSED!\u001b[0m\n"
          ]
        },
        {
          "output_type": "display_data",
          "data": {
            "text/plain": [
              "<IPython.core.display.Markdown object>"
            ],
            "text/markdown": "6. TEST ['12', '-5'] = 12 11 10 9 8 7 6 5 4 3 2 1 0 -1 -2 -3 -4 -5"
          },
          "metadata": {}
        },
        {
          "output_type": "stream",
          "name": "stdout",
          "text": [
            "------------------------------------------------------------\n",
            "\u001b[36m\u001b[4m\u001b[1mTest ['12', '-5']\u001b[0m\n",
            "\u001b[43m\u001b[32m The program prints 1 lines as expected.\u001b[0m\n",
            "\n",
            "  Line 0\n",
            "\u001b[43m\u001b[32m  Expected and actual output match:\n",
            "  12 11 10 9 8 7 6 5 4 3 2 1 0 -1 -2 -3 -4 -5\u001b[0m\n",
            "\n",
            "\u001b[43m\u001b[32mTest PASSED!\u001b[0m\n"
          ]
        }
      ],
      "source": [
        "#@title RUN and TEST ALL\n",
        "\n",
        "from IPython.display import display, Markdown\n",
        "from auto_testing import *\n",
        "\n",
        "\n",
        "\n",
        "inputs=[['8', '5'],['5', '8'],['1', '10'],['179', '179'],['-14', '7'],['12', '-5']]\n",
        "expected_outputs=[[\"8 7 6 5\"],[\"5 6 7 8\"],[\"1 2 3 4 5 6 7 8 9 10\"],[\"179\"],[\"-14 -13 -12 -11 -10 -9 -8 -7 -6 -5 -4 -3 -2 -1 0 1 2 3 4 5 6 7\"],[\"12 11 10 9 8 7 6 5 4 3 2 1 0 -1 -2 -3 -4 -5\"]]\n",
        "\n",
        "for k in range(len(inputs)):\n",
        "    display(Markdown(f'{k+1}. TEST {inputs[k]} = {\",\".join(expected_outputs[k])}'))\n",
        "    print('-'*60)\n",
        "    run_and_test(inputs[k],expected_outputs[k],asgn04_07For_Series)\n"
      ]
    },
    {
      "cell_type": "markdown",
      "metadata": {
        "id": "Upj8pqov83HI"
      },
      "source": [
        "# Assignment 04.08: For-Sum of cubes\n",
        "## Statement\n",
        "\n",
        "For the given integer `N`, calculate the following sum:\n",
        "\n",
        "$1^3$ + $2^3$ + ... + $N^3$\n",
        "\n",
        "This assignment should be solved using for loops\n",
        "\n",
        "## Example input\n",
        "\n",
        "```\n",
        "3\n",
        "```\n",
        "\n",
        "## Example output\n",
        "\n",
        "```\n",
        "36\n",
        "```\n",
        "\n"
      ]
    },
    {
      "cell_type": "markdown",
      "metadata": {
        "id": "eZlHiITb83HI"
      },
      "source": [
        "## Write your solution here\n",
        "\n",
        "\n",
        "*   Do not change the first line (`def ...():`)\n",
        "*   Maintain the given indentation\n",
        "*   You can run some tests by yourself by decommenting the last line\n",
        "\n"
      ]
    },
    {
      "cell_type": "code",
      "execution_count": 63,
      "metadata": {
        "id": "AHo4vbwm83HJ"
      },
      "outputs": [],
      "source": [
        "def asgn04_08For_Sum_of_cubes():\n",
        "    N = int(input())\n",
        "    tot = 0\n",
        "\n",
        "    for i in range(N + 1):\n",
        "        tot = tot + i ** 3\n",
        "\n",
        "    print(tot)\n",
        "\n",
        "\n",
        "#You can test independently your solution by executing the following line\n",
        "#asgn04_08For_Sum_of_cubes()"
      ]
    },
    {
      "cell_type": "markdown",
      "metadata": {
        "id": "bGdYWPpB83HJ"
      },
      "source": [
        "## Run the following cells to perform the provided tests"
      ]
    },
    {
      "cell_type": "code",
      "execution_count": 64,
      "metadata": {
        "id": "32tr5T_yDXOQ",
        "outputId": "d9d6dca3-38f3-4864-efd1-a6733d8b6985",
        "colab": {
          "base_uri": "https://localhost:8080/",
          "height": 1000
        }
      },
      "outputs": [
        {
          "output_type": "display_data",
          "data": {
            "text/plain": [
              "<IPython.core.display.Markdown object>"
            ],
            "text/markdown": "1. TEST ['1'] = 1"
          },
          "metadata": {}
        },
        {
          "output_type": "stream",
          "name": "stdout",
          "text": [
            "------------------------------------------------------------\n",
            "\u001b[36m\u001b[4m\u001b[1mTest ['1']\u001b[0m\n",
            "\u001b[43m\u001b[32m The program prints 1 lines as expected.\u001b[0m\n",
            "\n",
            "  Line 0\n",
            "\u001b[43m\u001b[32m  Expected and actual output match:\n",
            "  1\u001b[0m\n",
            "\n",
            "\u001b[43m\u001b[32mTest PASSED!\u001b[0m\n"
          ]
        },
        {
          "output_type": "display_data",
          "data": {
            "text/plain": [
              "<IPython.core.display.Markdown object>"
            ],
            "text/markdown": "2. TEST ['2'] = 9"
          },
          "metadata": {}
        },
        {
          "output_type": "stream",
          "name": "stdout",
          "text": [
            "------------------------------------------------------------\n",
            "\u001b[36m\u001b[4m\u001b[1mTest ['2']\u001b[0m\n",
            "\u001b[43m\u001b[32m The program prints 1 lines as expected.\u001b[0m\n",
            "\n",
            "  Line 0\n",
            "\u001b[43m\u001b[32m  Expected and actual output match:\n",
            "  9\u001b[0m\n",
            "\n",
            "\u001b[43m\u001b[32mTest PASSED!\u001b[0m\n"
          ]
        },
        {
          "output_type": "display_data",
          "data": {
            "text/plain": [
              "<IPython.core.display.Markdown object>"
            ],
            "text/markdown": "3. TEST ['3'] = 36"
          },
          "metadata": {}
        },
        {
          "output_type": "stream",
          "name": "stdout",
          "text": [
            "------------------------------------------------------------\n",
            "\u001b[36m\u001b[4m\u001b[1mTest ['3']\u001b[0m\n",
            "\u001b[43m\u001b[32m The program prints 1 lines as expected.\u001b[0m\n",
            "\n",
            "  Line 0\n",
            "\u001b[43m\u001b[32m  Expected and actual output match:\n",
            "  36\u001b[0m\n",
            "\n",
            "\u001b[43m\u001b[32mTest PASSED!\u001b[0m\n"
          ]
        },
        {
          "output_type": "display_data",
          "data": {
            "text/plain": [
              "<IPython.core.display.Markdown object>"
            ],
            "text/markdown": "4. TEST ['4'] = 100"
          },
          "metadata": {}
        },
        {
          "output_type": "stream",
          "name": "stdout",
          "text": [
            "------------------------------------------------------------\n",
            "\u001b[36m\u001b[4m\u001b[1mTest ['4']\u001b[0m\n",
            "\u001b[43m\u001b[32m The program prints 1 lines as expected.\u001b[0m\n",
            "\n",
            "  Line 0\n",
            "\u001b[43m\u001b[32m  Expected and actual output match:\n",
            "  100\u001b[0m\n",
            "\n",
            "\u001b[43m\u001b[32mTest PASSED!\u001b[0m\n"
          ]
        },
        {
          "output_type": "display_data",
          "data": {
            "text/plain": [
              "<IPython.core.display.Markdown object>"
            ],
            "text/markdown": "5. TEST ['9'] = 2025"
          },
          "metadata": {}
        },
        {
          "output_type": "stream",
          "name": "stdout",
          "text": [
            "------------------------------------------------------------\n",
            "\u001b[36m\u001b[4m\u001b[1mTest ['9']\u001b[0m\n",
            "\u001b[43m\u001b[32m The program prints 1 lines as expected.\u001b[0m\n",
            "\n",
            "  Line 0\n",
            "\u001b[43m\u001b[32m  Expected and actual output match:\n",
            "  2025\u001b[0m\n",
            "\n",
            "\u001b[43m\u001b[32mTest PASSED!\u001b[0m\n"
          ]
        },
        {
          "output_type": "display_data",
          "data": {
            "text/plain": [
              "<IPython.core.display.Markdown object>"
            ],
            "text/markdown": "6. TEST ['20'] = 44100"
          },
          "metadata": {}
        },
        {
          "output_type": "stream",
          "name": "stdout",
          "text": [
            "------------------------------------------------------------\n",
            "\u001b[36m\u001b[4m\u001b[1mTest ['20']\u001b[0m\n",
            "\u001b[43m\u001b[32m The program prints 1 lines as expected.\u001b[0m\n",
            "\n",
            "  Line 0\n",
            "\u001b[43m\u001b[32m  Expected and actual output match:\n",
            "  44100\u001b[0m\n",
            "\n",
            "\u001b[43m\u001b[32mTest PASSED!\u001b[0m\n"
          ]
        }
      ],
      "source": [
        "#@title RUN and TEST ALL\n",
        "\n",
        "from IPython.display import display, Markdown\n",
        "from auto_testing import *\n",
        "\n",
        "\n",
        "inputs=[['1'],['2'],['3'],['4'],['9'],['20']]\n",
        "expected_outputs=[[\"1\"],[\"9\"],[\"36\"],[\"100\"],[\"2025\"],[\"44100\"]]\n",
        "\n",
        "for k in range(len(inputs)):\n",
        "    display(Markdown(f'{k+1}. TEST {inputs[k]} = {\",\".join(expected_outputs[k])}'))\n",
        "    print('-'*60)\n",
        "    run_and_test(inputs[k],expected_outputs[k],asgn04_08For_Sum_of_cubes)\n"
      ]
    },
    {
      "cell_type": "markdown",
      "metadata": {
        "id": "2lv3rrdh83HN"
      },
      "source": [
        "# Assignment 04.09: For-Sum of cubes\n",
        "## Statement\n",
        "\n",
        "Write a program that\n",
        "- reads the CSV file **dpc-covid19-ita-andamento-nazionale.csv** provided here\n",
        "  - It contains Italian official COVID'19 data (downloaded from [here](https://github.com/pcm-dpc/COVID-19) on 2020-05-08)\n",
        "- computes some quantities on the data in the CSV file.\n",
        "\n",
        "For this assignment, we are interested only in\n",
        "- the number of currently infected individuals (label totale_positivi), and\n",
        "- how they divide among being 'hospitalized' or in 'home isolation'.\n",
        "\n",
        "In particular, the infected individuals can be either\n",
        "\n",
        "- 'hospitalized' (label totale_ospedalizzati), or\n",
        "- in 'home isolation' (label isolamento_domiciliare)\n",
        "\n",
        "Your program should compute two lists with one entry per row in the CSV file:\n",
        "\n",
        "- `currently_hosp_perc` containing the percentage of infected individuals hospitalized\n",
        "- `currently_home_perc` containing the percentage of infected individuals in home isolation\n",
        "\n",
        "After computing these two lists, you should:\n",
        "\n",
        "- print the minimum value in `currently_hosp_perc`\n",
        "- print the maximum value in `currently_home_perc`\n",
        "- for each day for each we have measurements, print the corresponding entries in `currently_hosp_perc` and `currently_home_perc` in the same line but separated by a space. Each pair of numbers should be printed in a different row\n",
        "\n",
        "In all the cases, **you should print rounding up to the second decimal digit, using 4 digits in total.**\n",
        "\n",
        "We have shown in class that this can be obtained by doing:\n",
        "\n",
        "- `print( \"%4.2f\" % n ).         # old way of doing this`\n",
        "- `print(\"{:4.2f}\".format(n) )   # new way of doing this`\n",
        "\n",
        "where `n` is the float we want to print\n",
        "\n",
        "## Hint\n",
        "\n",
        "What you are required to di is not so different from what we saw in class.\n",
        "\n",
        "We suggest you to first create a list per label of interest mentioned above:\n",
        "\n",
        "- currently_infected\n",
        "- currently_hosp\n",
        "- currently_home\n",
        "\n",
        "After the data has been loaded in the three lists, you should just properly iterate such lists to compute the required quantities, and print the required results.\n",
        "\n",
        "The function zip might help you in iterating the elements of `currently_hosp_perc` and `currently_home_perc` at the same time\n",
        "\n",
        "## Expected output\n",
        "\n",
        "```\n",
        "17.97\n",
        "```\n",
        "\n",
        "```\n",
        "82.03\n",
        "```\n",
        "\n",
        "```\n",
        "57.47 42.53\n",
        "```\n",
        "\n",
        "```\n",
        "48.08 51.92\n",
        "```\n",
        "\n",
        "```\n",
        "42.60 57.40\n",
        "```\n",
        "\n",
        "```\n",
        "51.70 48.30\n",
        "```\n",
        "\n",
        "```\n",
        "49.82 50.18\n",
        "```\n",
        "\n",
        "```\n",
        "48.24 51.76\n",
        "```\n",
        "\n",
        "```\n",
        "49.40 50.60\n",
        "```\n",
        "\n",
        "```\n",
        "49.48 50.52\n",
        "```\n",
        "\n",
        "```\n",
        "55.81 44.19\n",
        "```\n",
        "\n",
        "```\n",
        "60.64 39.36\n",
        "```\n",
        "\n",
        "```\n",
        "64.96 35.04\n",
        "```\n",
        "\n",
        "```\n",
        "72.93 27.07\n",
        "```\n",
        "\n",
        "```\n",
        "63.58 36.42\n",
        "```\n",
        "\n",
        "```\n",
        "65.87 34.13\n",
        "```\n",
        "\n",
        "```\n",
        "63.23 36.77\n",
        "```\n",
        "\n",
        "```\n",
        "69.47 30.53\n",
        "```\n",
        "\n",
        "```\n",
        "64.83 35.17\n",
        "```\n",
        "\n",
        "```\n",
        "60.78 39.22\n",
        "```\n",
        "\n",
        "```\n",
        "58.54 41.46\n",
        "```\n",
        "\n",
        "```\n",
        "55.72 44.28\n",
        "```\n",
        "\n",
        "```\n",
        "55.02 44.98\n",
        "```\n",
        "\n",
        "```\n",
        "55.81 44.19\n",
        "```\n",
        "\n",
        "```\n",
        "57.38 42.62\n",
        "```\n",
        "\n",
        "```\n",
        "57.89 42.11\n",
        "```\n",
        "\n",
        "```\n",
        "55.00 45.00\n",
        "```\n",
        "\n",
        "```\n",
        "49.33 50.67\n",
        "```\n",
        "\n",
        "```\n",
        "48.18 51.82\n",
        "```\n",
        "\n",
        "```\n",
        "49.01 50.99\n",
        "```\n",
        "\n",
        "```\n",
        "47.40 52.60\n",
        "```\n",
        "\n",
        "```\n",
        "46.89 53.11\n",
        "```\n",
        "\n",
        "```\n",
        "46.25 53.75\n",
        "```\n",
        "\n",
        "```\n",
        "45.74 54.26\n",
        "```\n",
        "\n",
        "```\n",
        "44.81 55.19\n",
        "```\n",
        "\n",
        "```\n",
        "43.58 56.42\n",
        "```\n",
        "\n",
        "```\n",
        "42.36 57.64\n",
        "```\n",
        "\n",
        "```\n",
        "42.07 57.93\n",
        "```\n",
        "\n",
        "```\n",
        "41.50 58.50\n",
        "```\n",
        "\n",
        "```\n",
        "40.26 59.74\n",
        "```\n",
        "\n",
        "```\n",
        "39.25 60.75\n",
        "```\n",
        "\n",
        "```\n",
        "38.42 61.58\n",
        "```\n",
        "\n",
        "```\n",
        "37.39 62.61\n",
        "```\n",
        "\n",
        "```\n",
        "36.08 63.92\n",
        "```\n",
        "\n",
        "```\n",
        "35.28 64.72\n",
        "```\n",
        "\n",
        "```\n",
        "34.56 65.44\n",
        "```\n",
        "\n",
        "```\n",
        "33.78 66.22\n",
        "```\n",
        "\n",
        "```\n",
        "33.04 66.96\n",
        "```\n",
        "\n",
        "```\n",
        "32.30 67.70\n",
        "```\n",
        "\n",
        "```\n",
        "31.44 68.56\n",
        "```\n",
        "\n",
        "```\n",
        "30.50 69.50\n",
        "```\n",
        "\n",
        "```\n",
        "30.19 69.81\n",
        "```\n",
        "\n",
        "```\n",
        "29.91 70.09\n",
        "```\n",
        "\n",
        "```\n",
        "29.14 70.86\n",
        "```\n",
        "\n",
        "```\n",
        "27.98 72.02\n",
        "```\n",
        "\n",
        "```\n",
        "26.74 73.26\n",
        "```\n",
        "\n",
        "```\n",
        "25.74 74.26\n",
        "```\n",
        "\n",
        "```\n",
        "25.56 74.44\n",
        "```\n",
        "\n",
        "```\n",
        "25.39 74.61\n",
        "```\n",
        "\n",
        "```\n",
        "24.70 75.30\n",
        "```\n",
        "\n",
        "```\n",
        "24.32 75.68\n",
        "```\n",
        "\n",
        "```\n",
        "23.53 76.47\n",
        "```\n",
        "\n",
        "```\n",
        "22.76 77.24\n",
        "```\n",
        "\n",
        "```\n",
        "22.33 77.67\n",
        "```\n",
        "\n",
        "```\n",
        "22.04 77.96\n",
        "```\n",
        "\n",
        "```\n",
        "21.08 78.92\n",
        "```\n",
        "\n",
        "```\n",
        "20.52 79.48\n",
        "```\n",
        "\n",
        "```\n",
        "20.07 79.93\n",
        "```\n",
        "\n",
        "```\n",
        "19.54 80.46\n",
        "```\n",
        "\n",
        "```\n",
        "18.97 81.03\n",
        "```\n",
        "\n",
        "```\n",
        "18.76 81.24\n",
        "```\n",
        "\n",
        "```\n",
        "18.71 81.29\n",
        "```\n",
        "\n",
        "```\n",
        "18.31 81.69\n",
        "```\n",
        "\n",
        "```\n",
        "17.97 82.03\n",
        "```\n",
        "\n",
        "```\n",
        "18.68 81.32\n",
        "```\n",
        "\n",
        "```\n",
        "18.39 81.61\n",
        "```\n",
        "\n",
        "```\n",
        "17.97 82.03\n",
        "```\n",
        "\n"
      ]
    },
    {
      "cell_type": "markdown",
      "metadata": {
        "id": "xl4cj0gU83HP"
      },
      "source": [
        "## Write your solution here\n",
        "\n",
        "\n",
        "*   Do not change the first line (`def ...():`)\n",
        "*   Maintain the given indentation\n",
        "*   You can run some tests by yourself by decommenting the last line\n",
        "\n"
      ]
    },
    {
      "cell_type": "code",
      "execution_count": 9,
      "metadata": {
        "id": "shQim6bm83HQ"
      },
      "outputs": [],
      "source": [
        "import csv\n",
        "\n",
        "def asgn04_09COVID_19():\n",
        "    file_name='dpc-covid19-ita-andamento-nazionale.csv'\n",
        "\n",
        "    hosp = []\n",
        "    home = []\n",
        "\n",
        "    with open(file_name, 'r') as csvfile:\n",
        "        rows = csv.reader(csvfile, delimiter = ',')\n",
        "        header = next(rows, None)\n",
        "\n",
        "        for row in rows:\n",
        "            pos = int(row[6])\n",
        "            dom = int(row[5])\n",
        "            osp = int(row[4])\n",
        "\n",
        "            hosp.append(osp / pos * 100)\n",
        "            home.append(dom / pos * 100)\n",
        "\n",
        "    print(\"{:4.2f}\".format(min(hosp)))\n",
        "    print(\"{:4.2f}\".format(max(home)))\n",
        "\n",
        "    for i in zip(hosp, home):\n",
        "        print(\"{:4.2f}\".format(i[0]), \"{:4.2f}\".format(i[1]))\n",
        "\n",
        "\n",
        "\n",
        "\n",
        "\n",
        "#You can test independently your solution by executing the following line\n",
        "#asgn04_09COVID_19()"
      ]
    },
    {
      "cell_type": "markdown",
      "metadata": {
        "id": "pDaBAJtu83HQ"
      },
      "source": [
        "## Run the following cells to perform the provided tests"
      ]
    },
    {
      "cell_type": "code",
      "execution_count": 10,
      "metadata": {
        "id": "-O0Sz80383HQ",
        "outputId": "4d3d9d26-f12b-4cca-fe19-25f214a69bba",
        "colab": {
          "base_uri": "https://localhost:8080/"
        }
      },
      "outputs": [
        {
          "output_type": "stream",
          "name": "stdout",
          "text": [
            "\u001b[36m\u001b[4m\u001b[1mTest []\u001b[0m\n",
            "\u001b[43m\u001b[32m The program prints 77 lines as expected.\u001b[0m\n",
            "\n",
            "  Line 0\n",
            "\u001b[43m\u001b[32m  Expected and actual output match:\n",
            "  17.97\u001b[0m\n",
            "\n",
            "  Line 1\n",
            "\u001b[43m\u001b[32m  Expected and actual output match:\n",
            "  82.03\u001b[0m\n",
            "\n",
            "  Line 2\n",
            "\u001b[43m\u001b[32m  Expected and actual output match:\n",
            "  57.47 42.53\u001b[0m\n",
            "\n",
            "  Line 3\n",
            "\u001b[43m\u001b[32m  Expected and actual output match:\n",
            "  48.08 51.92\u001b[0m\n",
            "\n",
            "  Line 4\n",
            "\u001b[43m\u001b[32m  Expected and actual output match:\n",
            "  42.60 57.40\u001b[0m\n",
            "\n",
            "  Line 5\n",
            "\u001b[43m\u001b[32m  Expected and actual output match:\n",
            "  51.70 48.30\u001b[0m\n",
            "\n",
            "  Line 6\n",
            "\u001b[43m\u001b[32m  Expected and actual output match:\n",
            "  49.82 50.18\u001b[0m\n",
            "\n",
            "  Line 7\n",
            "\u001b[43m\u001b[32m  Expected and actual output match:\n",
            "  48.24 51.76\u001b[0m\n",
            "\n",
            "  Line 8\n",
            "\u001b[43m\u001b[32m  Expected and actual output match:\n",
            "  49.40 50.60\u001b[0m\n",
            "\n",
            "  Line 9\n",
            "\u001b[43m\u001b[32m  Expected and actual output match:\n",
            "  49.48 50.52\u001b[0m\n",
            "\n",
            "  Line 10\n",
            "\u001b[43m\u001b[32m  Expected and actual output match:\n",
            "  55.81 44.19\u001b[0m\n",
            "\n",
            "  Line 11\n",
            "\u001b[43m\u001b[32m  Expected and actual output match:\n",
            "  60.64 39.36\u001b[0m\n",
            "\n",
            "  Line 12\n",
            "\u001b[43m\u001b[32m  Expected and actual output match:\n",
            "  64.96 35.04\u001b[0m\n",
            "\n",
            "  Line 13\n",
            "\u001b[43m\u001b[32m  Expected and actual output match:\n",
            "  72.93 27.07\u001b[0m\n",
            "\n",
            "  Line 14\n",
            "\u001b[43m\u001b[32m  Expected and actual output match:\n",
            "  63.58 36.42\u001b[0m\n",
            "\n",
            "  Line 15\n",
            "\u001b[43m\u001b[32m  Expected and actual output match:\n",
            "  65.87 34.13\u001b[0m\n",
            "\n",
            "  Line 16\n",
            "\u001b[43m\u001b[32m  Expected and actual output match:\n",
            "  63.23 36.77\u001b[0m\n",
            "\n",
            "  Line 17\n",
            "\u001b[43m\u001b[32m  Expected and actual output match:\n",
            "  69.47 30.53\u001b[0m\n",
            "\n",
            "  Line 18\n",
            "\u001b[43m\u001b[32m  Expected and actual output match:\n",
            "  64.83 35.17\u001b[0m\n",
            "\n",
            "  Line 19\n",
            "\u001b[43m\u001b[32m  Expected and actual output match:\n",
            "  60.78 39.22\u001b[0m\n",
            "\n",
            "  Line 20\n",
            "\u001b[43m\u001b[32m  Expected and actual output match:\n",
            "  58.54 41.46\u001b[0m\n",
            "\n",
            "  Line 21\n",
            "\u001b[43m\u001b[32m  Expected and actual output match:\n",
            "  55.72 44.28\u001b[0m\n",
            "\n",
            "  Line 22\n",
            "\u001b[43m\u001b[32m  Expected and actual output match:\n",
            "  55.02 44.98\u001b[0m\n",
            "\n",
            "  Line 23\n",
            "\u001b[43m\u001b[32m  Expected and actual output match:\n",
            "  55.81 44.19\u001b[0m\n",
            "\n",
            "  Line 24\n",
            "\u001b[43m\u001b[32m  Expected and actual output match:\n",
            "  57.38 42.62\u001b[0m\n",
            "\n",
            "  Line 25\n",
            "\u001b[43m\u001b[32m  Expected and actual output match:\n",
            "  57.89 42.11\u001b[0m\n",
            "\n",
            "  Line 26\n",
            "\u001b[43m\u001b[32m  Expected and actual output match:\n",
            "  55.00 45.00\u001b[0m\n",
            "\n",
            "  Line 27\n",
            "\u001b[43m\u001b[32m  Expected and actual output match:\n",
            "  49.33 50.67\u001b[0m\n",
            "\n",
            "  Line 28\n",
            "\u001b[43m\u001b[32m  Expected and actual output match:\n",
            "  48.18 51.82\u001b[0m\n",
            "\n",
            "  Line 29\n",
            "\u001b[43m\u001b[32m  Expected and actual output match:\n",
            "  49.01 50.99\u001b[0m\n",
            "\n",
            "  Line 30\n",
            "\u001b[43m\u001b[32m  Expected and actual output match:\n",
            "  47.40 52.60\u001b[0m\n",
            "\n",
            "  Line 31\n",
            "\u001b[43m\u001b[32m  Expected and actual output match:\n",
            "  46.89 53.11\u001b[0m\n",
            "\n",
            "  Line 32\n",
            "\u001b[43m\u001b[32m  Expected and actual output match:\n",
            "  46.25 53.75\u001b[0m\n",
            "\n",
            "  Line 33\n",
            "\u001b[43m\u001b[32m  Expected and actual output match:\n",
            "  45.74 54.26\u001b[0m\n",
            "\n",
            "  Line 34\n",
            "\u001b[43m\u001b[32m  Expected and actual output match:\n",
            "  44.81 55.19\u001b[0m\n",
            "\n",
            "  Line 35\n",
            "\u001b[43m\u001b[32m  Expected and actual output match:\n",
            "  43.58 56.42\u001b[0m\n",
            "\n",
            "  Line 36\n",
            "\u001b[43m\u001b[32m  Expected and actual output match:\n",
            "  42.36 57.64\u001b[0m\n",
            "\n",
            "  Line 37\n",
            "\u001b[43m\u001b[32m  Expected and actual output match:\n",
            "  42.07 57.93\u001b[0m\n",
            "\n",
            "  Line 38\n",
            "\u001b[43m\u001b[32m  Expected and actual output match:\n",
            "  41.50 58.50\u001b[0m\n",
            "\n",
            "  Line 39\n",
            "\u001b[43m\u001b[32m  Expected and actual output match:\n",
            "  40.26 59.74\u001b[0m\n",
            "\n",
            "  Line 40\n",
            "\u001b[43m\u001b[32m  Expected and actual output match:\n",
            "  39.25 60.75\u001b[0m\n",
            "\n",
            "  Line 41\n",
            "\u001b[43m\u001b[32m  Expected and actual output match:\n",
            "  38.42 61.58\u001b[0m\n",
            "\n",
            "  Line 42\n",
            "\u001b[43m\u001b[32m  Expected and actual output match:\n",
            "  37.39 62.61\u001b[0m\n",
            "\n",
            "  Line 43\n",
            "\u001b[43m\u001b[32m  Expected and actual output match:\n",
            "  36.08 63.92\u001b[0m\n",
            "\n",
            "  Line 44\n",
            "\u001b[43m\u001b[32m  Expected and actual output match:\n",
            "  35.28 64.72\u001b[0m\n",
            "\n",
            "  Line 45\n",
            "\u001b[43m\u001b[32m  Expected and actual output match:\n",
            "  34.56 65.44\u001b[0m\n",
            "\n",
            "  Line 46\n",
            "\u001b[43m\u001b[32m  Expected and actual output match:\n",
            "  33.78 66.22\u001b[0m\n",
            "\n",
            "  Line 47\n",
            "\u001b[43m\u001b[32m  Expected and actual output match:\n",
            "  33.04 66.96\u001b[0m\n",
            "\n",
            "  Line 48\n",
            "\u001b[43m\u001b[32m  Expected and actual output match:\n",
            "  32.30 67.70\u001b[0m\n",
            "\n",
            "  Line 49\n",
            "\u001b[43m\u001b[32m  Expected and actual output match:\n",
            "  31.44 68.56\u001b[0m\n",
            "\n",
            "  Line 50\n",
            "\u001b[43m\u001b[32m  Expected and actual output match:\n",
            "  30.50 69.50\u001b[0m\n",
            "\n",
            "  Line 51\n",
            "\u001b[43m\u001b[32m  Expected and actual output match:\n",
            "  30.19 69.81\u001b[0m\n",
            "\n",
            "  Line 52\n",
            "\u001b[43m\u001b[32m  Expected and actual output match:\n",
            "  29.91 70.09\u001b[0m\n",
            "\n",
            "  Line 53\n",
            "\u001b[43m\u001b[32m  Expected and actual output match:\n",
            "  29.14 70.86\u001b[0m\n",
            "\n",
            "  Line 54\n",
            "\u001b[43m\u001b[32m  Expected and actual output match:\n",
            "  27.98 72.02\u001b[0m\n",
            "\n",
            "  Line 55\n",
            "\u001b[43m\u001b[32m  Expected and actual output match:\n",
            "  26.74 73.26\u001b[0m\n",
            "\n",
            "  Line 56\n",
            "\u001b[43m\u001b[32m  Expected and actual output match:\n",
            "  25.74 74.26\u001b[0m\n",
            "\n",
            "  Line 57\n",
            "\u001b[43m\u001b[32m  Expected and actual output match:\n",
            "  25.56 74.44\u001b[0m\n",
            "\n",
            "  Line 58\n",
            "\u001b[43m\u001b[32m  Expected and actual output match:\n",
            "  25.39 74.61\u001b[0m\n",
            "\n",
            "  Line 59\n",
            "\u001b[43m\u001b[32m  Expected and actual output match:\n",
            "  24.70 75.30\u001b[0m\n",
            "\n",
            "  Line 60\n",
            "\u001b[43m\u001b[32m  Expected and actual output match:\n",
            "  24.32 75.68\u001b[0m\n",
            "\n",
            "  Line 61\n",
            "\u001b[43m\u001b[32m  Expected and actual output match:\n",
            "  23.53 76.47\u001b[0m\n",
            "\n",
            "  Line 62\n",
            "\u001b[43m\u001b[32m  Expected and actual output match:\n",
            "  22.76 77.24\u001b[0m\n",
            "\n",
            "  Line 63\n",
            "\u001b[43m\u001b[32m  Expected and actual output match:\n",
            "  22.33 77.67\u001b[0m\n",
            "\n",
            "  Line 64\n",
            "\u001b[43m\u001b[32m  Expected and actual output match:\n",
            "  22.04 77.96\u001b[0m\n",
            "\n",
            "  Line 65\n",
            "\u001b[43m\u001b[32m  Expected and actual output match:\n",
            "  21.08 78.92\u001b[0m\n",
            "\n",
            "  Line 66\n",
            "\u001b[43m\u001b[32m  Expected and actual output match:\n",
            "  20.52 79.48\u001b[0m\n",
            "\n",
            "  Line 67\n",
            "\u001b[43m\u001b[32m  Expected and actual output match:\n",
            "  20.07 79.93\u001b[0m\n",
            "\n",
            "  Line 68\n",
            "\u001b[43m\u001b[32m  Expected and actual output match:\n",
            "  19.54 80.46\u001b[0m\n",
            "\n",
            "  Line 69\n",
            "\u001b[43m\u001b[32m  Expected and actual output match:\n",
            "  18.97 81.03\u001b[0m\n",
            "\n",
            "  Line 70\n",
            "\u001b[43m\u001b[32m  Expected and actual output match:\n",
            "  18.76 81.24\u001b[0m\n",
            "\n",
            "  Line 71\n",
            "\u001b[43m\u001b[32m  Expected and actual output match:\n",
            "  18.71 81.29\u001b[0m\n",
            "\n",
            "  Line 72\n",
            "\u001b[43m\u001b[32m  Expected and actual output match:\n",
            "  18.31 81.69\u001b[0m\n",
            "\n",
            "  Line 73\n",
            "\u001b[43m\u001b[32m  Expected and actual output match:\n",
            "  17.97 82.03\u001b[0m\n",
            "\n",
            "  Line 74\n",
            "\u001b[43m\u001b[32m  Expected and actual output match:\n",
            "  18.68 81.32\u001b[0m\n",
            "\n",
            "  Line 75\n",
            "\u001b[43m\u001b[32m  Expected and actual output match:\n",
            "  18.39 81.61\u001b[0m\n",
            "\n",
            "  Line 76\n",
            "\u001b[43m\u001b[32m  Expected and actual output match:\n",
            "  17.97 82.03\u001b[0m\n",
            "\n",
            "\u001b[43m\u001b[32mTest PASSED!\u001b[0m\n"
          ]
        }
      ],
      "source": [
        "#@title RUN AND TEST\n",
        "\n",
        "from auto_testing import *\n",
        "\n",
        "inputs=[]\n",
        "expected_outputs=['17.97', '82.03', '57.47 42.53', '48.08 51.92', '42.60 57.40', '51.70 48.30', '49.82 50.18', '48.24 51.76', '49.40 50.60', '49.48 50.52', '55.81 44.19', '60.64 39.36', '64.96 35.04', '72.93 27.07', '63.58 36.42', '65.87 34.13', '63.23 36.77', '69.47 30.53', '64.83 35.17', '60.78 39.22', '58.54 41.46', '55.72 44.28', '55.02 44.98', '55.81 44.19', '57.38 42.62', '57.89 42.11', '55.00 45.00', '49.33 50.67', '48.18 51.82', '49.01 50.99', '47.40 52.60', '46.89 53.11', '46.25 53.75', '45.74 54.26', '44.81 55.19', '43.58 56.42', '42.36 57.64', '42.07 57.93', '41.50 58.50', '40.26 59.74', '39.25 60.75', '38.42 61.58', '37.39 62.61', '36.08 63.92', '35.28 64.72', '34.56 65.44', '33.78 66.22', '33.04 66.96', '32.30 67.70', '31.44 68.56', '30.50 69.50', '30.19 69.81', '29.91 70.09', '29.14 70.86', '27.98 72.02', '26.74 73.26', '25.74 74.26', '25.56 74.44', '25.39 74.61', '24.70 75.30', '24.32 75.68', '23.53 76.47', '22.76 77.24', '22.33 77.67', '22.04 77.96', '21.08 78.92', '20.52 79.48', '20.07 79.93', '19.54 80.46', '18.97 81.03', '18.76 81.24', '18.71 81.29', '18.31 81.69', '17.97 82.03', '18.68 81.32', '18.39 81.61', '17.97 82.03']\n",
        "run_and_test(inputs,expected_outputs,asgn04_09COVID_19)"
      ]
    }
  ],
  "metadata": {
    "colab": {
      "name": "04ControlAndRepetitionStatements_Assignments.ipynb",
      "provenance": []
    },
    "kernelspec": {
      "display_name": "Python 3 (ipykernel)",
      "language": "python",
      "name": "python3"
    },
    "language_info": {
      "codemirror_mode": {
        "name": "ipython",
        "version": 3
      },
      "file_extension": ".py",
      "mimetype": "text/x-python",
      "name": "python",
      "nbconvert_exporter": "python",
      "pygments_lexer": "ipython3",
      "version": "3.9.10"
    },
    "toc-autonumbering": true,
    "toc-showcode": false,
    "toc-showmarkdowntxt": false
  },
  "nbformat": 4,
  "nbformat_minor": 0
}