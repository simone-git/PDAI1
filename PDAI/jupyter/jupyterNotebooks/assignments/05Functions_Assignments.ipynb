{
  "cells": [
    {
      "cell_type": "markdown",
      "metadata": {
        "id": "_6feEeccrLD9"
      },
      "source": [
        "<center><font size=\"+4\">Programming & Data Analytics & AI 1 2024/2025</font></center>\n",
        "<center><font size=\"+2\">Sant'Anna School of Advanced Studies, Pisa, Italy</font></center>\n",
        "<center><img src=\"https://github.com/EMbeDS-education/ComputingDataAnalysisModeling20242025/raw/main/PDAI/jupyter/jupyterNotebooks/images/sssaLEMBEDSdtu.png\" width=\"900\" alt=\"L'EMbeDS\"></center>\n",
        "\n",
        "<center><font size=\"+2\">Course responsible</font></center>\n",
        "<center><font size=\"+2\">Andrea Vandin a.vandin@santannapisa.it</font></center>\n",
        "\n",
        "<center><font size=\"+2\">Teaching Assistant </font></center>\n",
        "<center><font size=\"+2\">Sima Sarv Ahrabi Sima.SarvAhrabi@santannapisa.it</font></center>\n",
        "\n",
        "---"
      ]
    },
    {
      "cell_type": "markdown",
      "metadata": {
        "id": "PzTk_3lR7k5D"
      },
      "source": [
        "<center><font size=\"+4\">Assignments for</font></center>\n",
        "<center><font size=\"+4\">Lecture 5: Functions</font></center>\n",
        "\n",
        "---"
      ]
    },
    {
      "cell_type": "code",
      "execution_count": 1,
      "metadata": {
        "cellView": "form",
        "id": "p666zbf89eCD",
        "outputId": "6adf94f8-63da-4c47-a06a-eb5258960920",
        "colab": {
          "base_uri": "https://localhost:8080/"
        }
      },
      "outputs": [
        {
          "output_type": "stream",
          "name": "stdout",
          "text": [
            "downloading https://raw.githubusercontent.com/EMbeDS-education/ComputingDataAnalysisModeling20242025/main/PDAI/jupyter/jupyterNotebooks/assignments/auto_testing.py\n",
            "downloading https://raw.githubusercontent.com/EMbeDS-education/ComputingDataAnalysisModeling20242025/main/PDAI/jupyter/jupyterNotebooks/assignments/manzoni_1.txt\n",
            "downloading https://raw.githubusercontent.com/EMbeDS-education/ComputingDataAnalysisModeling20242025/main/PDAI/jupyter/jupyterNotebooks/assignments/stopwords_italian.txt\n"
          ]
        }
      ],
      "source": [
        "#@title <mark>RUN, BUT DO NOT MODIFY</mark>\n",
        "\n",
        "%pip install -q urllib3\n",
        "\n",
        "url_base = 'https://raw.githubusercontent.com/EMbeDS-education/ComputingDataAnalysisModeling20242025/main/PDAI/jupyter/jupyterNotebooks/assignments/'\n",
        "url_files=['auto_testing.py','manzoni_1.txt','stopwords_italian.txt']\n",
        "import urllib.request\n",
        "from pathlib import Path\n",
        "for url_b in url_files:\n",
        "    url = url_base+url_b\n",
        "    print('downloading',url)\n",
        "    urllib.request.urlretrieve(url,Path(url).name)\n",
        "\n",
        "%reload_ext autoreload\n",
        "%autoreload 2\n",
        "from auto_testing import *"
      ]
    },
    {
      "cell_type": "markdown",
      "metadata": {
        "id": "Om177ojl7k5J"
      },
      "source": [
        "# Assignment 05.01: First letter\n",
        "## Statement\n",
        "\n",
        "Write a function\n",
        "\n",
        "- named `first_letter`\n",
        "- that has a string argument\n",
        "- that computes and returns the first letter of the argument string\n",
        "\n",
        "## Example input to function\n",
        "\n",
        "```\n",
        "My first string\n",
        "```\n",
        "\n",
        "## Example output from function\n",
        "\n",
        "```\n",
        "M\n",
        "```\n",
        "\n",
        "## **Hint**\n",
        "\n",
        "Search for the method of strings that does the work...\n",
        "\n",
        "## **Note**\n",
        "\n",
        "The keyword `def` introduces a function _definition_. It must be followed by the function name and the parenthesized list of formal parameters. The statements that form the body of the function start at the next line and must be indented."
      ]
    },
    {
      "cell_type": "markdown",
      "metadata": {
        "id": "FMZE1vmMbRLz"
      },
      "source": [
        "## Write your solution here\n",
        "\n"
      ]
    },
    {
      "cell_type": "code",
      "execution_count": 14,
      "metadata": {
        "id": "Yg4jeBnA7k5K"
      },
      "outputs": [],
      "source": [
        "def first_letter(input_string): # to be completed\n",
        "    return input_string[0]\n",
        "\n",
        "#You can test your funcrtion executing these commands\n",
        "# f = first_letter('Python')\n",
        "# print(f)"
      ]
    },
    {
      "cell_type": "markdown",
      "metadata": {
        "id": "_lqTangP8R46"
      },
      "source": [
        "## Run the following cells to perform the provided tests"
      ]
    },
    {
      "cell_type": "code",
      "execution_count": 15,
      "metadata": {
        "cellView": "form",
        "colab": {
          "base_uri": "https://localhost:8080/"
        },
        "id": "fwX9u8aW7k5L",
        "outputId": "c279b66b-9bd4-4124-864e-be730ef672c2"
      },
      "outputs": [
        {
          "output_type": "stream",
          "name": "stdout",
          "text": [
            "\u001b[36m\u001b[4m\u001b[1mTest hello\u001b[0m\n",
            "\u001b[43m\u001b[32m  Expected and actual output match:\n",
            "  h\u001b[0m\n",
            "\n",
            "\u001b[36m\u001b[4m\u001b[1mTest bill\u001b[0m\n",
            "\u001b[43m\u001b[32m  Expected and actual output match:\n",
            "  b\u001b[0m\n",
            "\n",
            "\u001b[36m\u001b[4m\u001b[1mTest hello bill\u001b[0m\n",
            "\u001b[43m\u001b[32m  Expected and actual output match:\n",
            "  h\u001b[0m\n",
            "\n",
            "\u001b[36m\u001b[4m\u001b[1mTest 1234\u001b[0m\n",
            "\u001b[43m\u001b[32m  Expected and actual output match:\n",
            "  1\u001b[0m\n",
            "\n",
            "\u001b[43m\u001b[32mTest PASSED!\u001b[0m\n"
          ]
        }
      ],
      "source": [
        "#@title TEST 'hello','bill',\"hello bill\",\"1234\"\n",
        "inputs=['hello','bill',\"hello bill\",\"1234\"]\n",
        "expected_outputs=[\"h\",\"b\",\"h\",\"1\"]\n",
        "run_and_test_func(inputs,expected_outputs,first_letter)"
      ]
    },
    {
      "cell_type": "markdown",
      "metadata": {
        "id": "qR9RjNIwD-FU"
      },
      "source": [
        "# Assignment 05.02: Divisible by\n",
        "## Statement\n",
        "\n",
        "Write a function\n",
        "\n",
        "- named `divisible_by`\n",
        "- that has two numeric arguments, a number `number` and a divisor `divisor`, in this order\n",
        "- that returns `True` or `False` depending on whether `number` is divisible by `divisor`\n",
        "\n",
        "## Example input to function\n",
        "\n",
        "```\n",
        "10,2\n",
        "```\n",
        "\n",
        "## Example output from function\n",
        "\n",
        "```\n",
        "True\n",
        "```\n",
        "\n",
        "## Hint\n",
        "\n",
        "The remainder operator might come handy for this assignment..."
      ]
    },
    {
      "cell_type": "markdown",
      "metadata": {
        "id": "-viIIVoDD-FU"
      },
      "source": [
        "## Write your solution here\n",
        "\n"
      ]
    },
    {
      "cell_type": "code",
      "execution_count": 16,
      "metadata": {
        "id": "0SrnIDKFD-FV"
      },
      "outputs": [],
      "source": [
        "def divisible_by(a, b):\n",
        "    return a % b == 0"
      ]
    },
    {
      "cell_type": "markdown",
      "metadata": {
        "id": "Xbo18v4nD-FW"
      },
      "source": [
        "## Run the following cells to perform the provided tests"
      ]
    },
    {
      "cell_type": "code",
      "execution_count": 17,
      "metadata": {
        "cellView": "form",
        "colab": {
          "base_uri": "https://localhost:8080/"
        },
        "id": "M6TZAZYJD-FW",
        "outputId": "d9fc353e-3f1a-4328-c3df-bde1df940a45"
      },
      "outputs": [
        {
          "output_type": "stream",
          "name": "stdout",
          "text": [
            "\u001b[36m\u001b[4m\u001b[1mTest (10, 2)\u001b[0m\n",
            "\u001b[43m\u001b[32m  Expected and actual output match:\n",
            "  True\u001b[0m\n",
            "\n",
            "\u001b[36m\u001b[4m\u001b[1mTest (10, 3)\u001b[0m\n",
            "\u001b[43m\u001b[32m  Expected and actual output match:\n",
            "  False\u001b[0m\n",
            "\n",
            "\u001b[36m\u001b[4m\u001b[1mTest (30, 6)\u001b[0m\n",
            "\u001b[43m\u001b[32m  Expected and actual output match:\n",
            "  True\u001b[0m\n",
            "\n",
            "\u001b[36m\u001b[4m\u001b[1mTest (26, 4)\u001b[0m\n",
            "\u001b[43m\u001b[32m  Expected and actual output match:\n",
            "  False\u001b[0m\n",
            "\n",
            "\u001b[36m\u001b[4m\u001b[1mTest (24, 4)\u001b[0m\n",
            "\u001b[43m\u001b[32m  Expected and actual output match:\n",
            "  True\u001b[0m\n",
            "\n",
            "\u001b[43m\u001b[32mTest PASSED!\u001b[0m\n"
          ]
        }
      ],
      "source": [
        "#@title TEST (10,2),(10,3),(30,6),(26,4),(24,4)\n",
        "inputs=[(10,2),(10,3),(30,6),(26,4),(24,4)]\n",
        "expected_outputs=[True,False,True,False,True]\n",
        "run_and_test_func(inputs,expected_outputs,divisible_by,True)"
      ]
    },
    {
      "cell_type": "markdown",
      "metadata": {
        "id": "FeUCmX7QD-FW"
      },
      "source": [
        "# Assignment 05.03: Count e\n",
        "## Statement\n",
        "\n",
        "Write a function\n",
        "\n",
        "- named `count_e`\n",
        "- that has a string argument\n",
        "- that counts the number of `e` in the argument (either lower- or upper-case), and returns such count\n",
        "\n",
        "## Example input to function\n",
        "\n",
        "```\n",
        "HeEelloo sSam\n",
        "```\n",
        "\n",
        "## Example output from function\n",
        "\n",
        "```\n",
        "3\n",
        "```\n",
        "\n",
        "## Hint\n",
        "\n",
        "There is a convenient method of strings that does the job..."
      ]
    },
    {
      "cell_type": "markdown",
      "metadata": {
        "id": "lbnH93y5D-FX"
      },
      "source": [
        "## Write your solution here\n",
        "\n"
      ]
    },
    {
      "cell_type": "code",
      "execution_count": 18,
      "metadata": {
        "id": "VZA55hKcD-FY"
      },
      "outputs": [],
      "source": [
        "def count_e(s):\n",
        "    return s.lower().count(\"e\")\n"
      ]
    },
    {
      "cell_type": "markdown",
      "metadata": {
        "id": "Sbd1GdDnD-FZ"
      },
      "source": [
        "## Run the following cells to perform the provided tests"
      ]
    },
    {
      "cell_type": "markdown",
      "metadata": {
        "id": "g-RQhMbbD-FZ"
      },
      "source": [
        "### Simpler tests"
      ]
    },
    {
      "cell_type": "code",
      "execution_count": 19,
      "metadata": {
        "cellView": "form",
        "colab": {
          "base_uri": "https://localhost:8080/"
        },
        "id": "DQSUetMTD-Fa",
        "outputId": "97160906-df18-41aa-b815-077874675a5d"
      },
      "outputs": [
        {
          "output_type": "stream",
          "name": "stdout",
          "text": [
            "\u001b[36m\u001b[4m\u001b[1mTest ciao mondo!\u001b[0m\n",
            "\u001b[43m\u001b[32m  Expected and actual output match:\n",
            "  0\u001b[0m\n",
            "\n",
            "\u001b[36m\u001b[4m\u001b[1mTest hehehE\u001b[0m\n",
            "\u001b[43m\u001b[32m  Expected and actual output match:\n",
            "  3\u001b[0m\n",
            "\n",
            "\u001b[43m\u001b[32mTest PASSED!\u001b[0m\n"
          ]
        }
      ],
      "source": [
        "#@title TEST simpler\n",
        "inputs=[\"ciao mondo!\",\"hehehE\"]\n",
        "expected_outputs=[0,3]\n",
        "run_and_test_func(inputs,expected_outputs,count_e)"
      ]
    },
    {
      "cell_type": "markdown",
      "metadata": {
        "id": "kK9__8zyD-Fb"
      },
      "source": [
        "### More complex tests"
      ]
    },
    {
      "cell_type": "code",
      "execution_count": 20,
      "metadata": {
        "cellView": "form",
        "id": "x82_rIhDD-Fc",
        "outputId": "d84d1d6e-9cd1-49b0-b7d3-25484fc7aa42",
        "colab": {
          "base_uri": "https://localhost:8080/"
        }
      },
      "outputs": [
        {
          "output_type": "stream",
          "name": "stdout",
          "text": [
            "\u001b[36m\u001b[4m\u001b[1mTest ceEe mEnde!\u001b[0m\n",
            "\u001b[43m\u001b[32m  Expected and actual output match:\n",
            "  5\u001b[0m\n",
            "\n",
            "\u001b[36m\u001b[4m\u001b[1mTest HELLO therE HOW U DOINGEEee\u001b[0m\n",
            "\u001b[43m\u001b[32m  Expected and actual output match:\n",
            "  7\u001b[0m\n",
            "\n",
            "\u001b[43m\u001b[32mTest PASSED!\u001b[0m\n"
          ]
        }
      ],
      "source": [
        "#@title TEST more complex\n",
        "inputs=[\"ceEe mEnde!\",\"HELLO therE HOW U DOINGEEee\"]\n",
        "expected_outputs=[5,7]\n",
        "run_and_test_func(inputs,expected_outputs,count_e)"
      ]
    },
    {
      "cell_type": "markdown",
      "metadata": {
        "id": "_49YqaqqD-Fc"
      },
      "source": [
        "# Assignment 05.04: double_char\n",
        "## Statement\n",
        "\n",
        "Write a function\n",
        "\n",
        "- named `double_char`\n",
        "- that has a string argument\n",
        "- that returns a new string containing two consecutive copies of each character in the argument\n",
        "\n",
        "## Example input to function\n",
        "\n",
        "```\n",
        "Hello\n",
        "```\n",
        "\n",
        "## Example output from function\n",
        "\n",
        "```\n",
        "HHeelllloo\n",
        "```\n",
        "\n",
        "## Example input to function\n",
        "\n",
        "```\n",
        "?33? sw\n",
        "```\n",
        "\n",
        "## Example output from function\n",
        "\n",
        "```\n",
        "??3333??  ssww\n",
        "```\n",
        "\n",
        "## Hint\n",
        "\n",
        "Can you sum and multiply characters?"
      ]
    },
    {
      "cell_type": "markdown",
      "metadata": {
        "id": "lVUWjDJcD-Fe"
      },
      "source": [
        "## Write your solution here\n",
        "\n"
      ]
    },
    {
      "cell_type": "code",
      "execution_count": 34,
      "metadata": {
        "id": "Sipl5fKhD-Fe"
      },
      "outputs": [],
      "source": [
        "def double_char(s):\n",
        "    r = \"\"\n",
        "    for i in s:\n",
        "        r = r + i + i\n",
        "    return r"
      ]
    },
    {
      "cell_type": "markdown",
      "metadata": {
        "id": "9r-QNvV6D-Fe"
      },
      "source": [
        "## Run the following cells to perform the provided tests"
      ]
    },
    {
      "cell_type": "code",
      "execution_count": 35,
      "metadata": {
        "cellView": "form",
        "colab": {
          "base_uri": "https://localhost:8080/"
        },
        "id": "lj1GOveHD-Fe",
        "outputId": "e08b1588-d77c-40e0-8fd0-1986ff7b5bf7"
      },
      "outputs": [
        {
          "output_type": "stream",
          "name": "stdout",
          "text": [
            "\u001b[36m\u001b[4m\u001b[1mTest Hello\u001b[0m\n",
            "\u001b[43m\u001b[32m  Expected and actual output match:\n",
            "  HHeelllloo\u001b[0m\n",
            "\n",
            "\u001b[36m\u001b[4m\u001b[1mTest ?33? sw\u001b[0m\n",
            "\u001b[43m\u001b[32m  Expected and actual output match:\n",
            "  ??3333??  ssww\u001b[0m\n",
            "\n",
            "\u001b[36m\u001b[4m\u001b[1mTest Holla\u001b[0m\n",
            "\u001b[43m\u001b[32m  Expected and actual output match:\n",
            "  HHoollllaa\u001b[0m\n",
            "\n",
            "\u001b[36m\u001b[4m\u001b[1mTest eat CANdy\u001b[0m\n",
            "\u001b[43m\u001b[32m  Expected and actual output match:\n",
            "  eeaatt  CCAANNddyy\u001b[0m\n",
            "\n",
            "\u001b[43m\u001b[32mTest PASSED!\u001b[0m\n"
          ]
        }
      ],
      "source": [
        "#@title TEST \"Hello\",\"?33? sw\",\"Holla\",\"eat CANdy\"\n",
        "inputs=[\"Hello\",\"?33? sw\",\"Holla\",\"eat CANdy\"]\n",
        "expected_outputs=[\"HHeelllloo\",\"??3333??  ssww\",\"HHoollllaa\",\"eeaatt  CCAANNddyy\"]\n",
        "run_and_test_func(inputs,expected_outputs,double_char)"
      ]
    },
    {
      "cell_type": "markdown",
      "metadata": {
        "id": "OCjqhmPCD-Ff"
      },
      "source": [
        "# Assignment 05.05: Fibonacci series\n",
        "## Statement\n",
        "\n",
        "Write a function\n",
        "\n",
        "- named `fib`\n",
        "- that has a integer argument `n`\n",
        "- that returns the list of the Fibonacci numbers up to `n`.\n",
        "\n",
        "### Fibonacci series\n",
        "\n",
        "Each number in the Fibonacci sequence is the sum of the two numbers that precede it. So, for `F` the Fibonacci number number `N`, the sequence goes:\n",
        "\n",
        "```\n",
        "N 1  2  3  4  5  6   7   8   9\n",
        "\n",
        "F 1, 1, 2, 3, 5, 8, 13, 21, 34\n",
        "```\n",
        "\n",
        "The mathematical definition of a Fibonacci number in position i is:\n",
        "\n",
        "- F(1) = 1\n",
        "- F(2) = 1\n",
        "- F(n) = F(n-1) + F(n-2)\n",
        "\n",
        "## Example input to function\n",
        "\n",
        "```\n",
        "1\n",
        "```\n",
        "\n",
        "## Example output from function\n",
        "\n",
        "```\n",
        "[1]\n",
        "```\n",
        "\n",
        "## Example input to function\n",
        "\n",
        "```\n",
        "2\n",
        "```\n",
        "\n",
        "## Example output from function\n",
        "\n",
        "```\n",
        "[1,1]\n",
        "```\n",
        "\n",
        "## Example input to function\n",
        "\n",
        "```\n",
        "3\n",
        "```\n",
        "\n",
        "## Example output from function\n",
        "\n",
        "```\n",
        "[1,1,2]\n",
        "```\n",
        "\n",
        "## Example input to function\n",
        "\n",
        "```\n",
        "4\n",
        "```\n",
        "\n",
        "## Example output from function\n",
        "\n",
        "```\n",
        "[1,1,2,3]\n",
        "```\n",
        "\n",
        "## Example input to function\n",
        "\n",
        "```\n",
        "5\n",
        "```\n",
        "\n",
        "## Example output from function\n",
        "\n",
        "```\n",
        "[1,1,2,3,5]\n",
        "```\n",
        "\n"
      ]
    },
    {
      "cell_type": "markdown",
      "metadata": {
        "id": "cAVa0S7zD-Fg"
      },
      "source": [
        "## Write your solution here\n",
        "\n"
      ]
    },
    {
      "cell_type": "code",
      "execution_count": 50,
      "metadata": {
        "id": "Jj8LXag-D-Fg"
      },
      "outputs": [],
      "source": [
        "def fib(n):\n",
        "    if n == 1:\n",
        "        s = [1]\n",
        "    elif n == 2:\n",
        "        s = [1, 1]\n",
        "    else:\n",
        "        s = [1, 1]\n",
        "        for i in range(2, n):\n",
        "            s.append(s[i - 1] + s[i - 2])\n",
        "\n",
        "    return s\n"
      ]
    },
    {
      "cell_type": "markdown",
      "metadata": {
        "id": "su34Ab8lD-Fh"
      },
      "source": [
        "## Run the following cells to perform the provided tests"
      ]
    },
    {
      "cell_type": "markdown",
      "metadata": {
        "id": "xhL_YMHUD-Fh"
      },
      "source": [
        "### Simpler tests"
      ]
    },
    {
      "cell_type": "code",
      "execution_count": 51,
      "metadata": {
        "cellView": "form",
        "colab": {
          "base_uri": "https://localhost:8080/"
        },
        "id": "mbaJPn-nD-Fi",
        "outputId": "bbc6e783-629a-4619-bcee-0a072a8e2718"
      },
      "outputs": [
        {
          "output_type": "stream",
          "name": "stdout",
          "text": [
            "\u001b[36m\u001b[4m\u001b[1mTest 1\u001b[0m\n",
            "\u001b[43m\u001b[32m  Expected and actual output match:\n",
            "  [1]\u001b[0m\n",
            "\n",
            "\u001b[36m\u001b[4m\u001b[1mTest 2\u001b[0m\n",
            "\u001b[43m\u001b[32m  Expected and actual output match:\n",
            "  [1, 1]\u001b[0m\n",
            "\n",
            "\u001b[36m\u001b[4m\u001b[1mTest 3\u001b[0m\n",
            "\u001b[43m\u001b[32m  Expected and actual output match:\n",
            "  [1, 1, 2]\u001b[0m\n",
            "\n",
            "\u001b[36m\u001b[4m\u001b[1mTest 4\u001b[0m\n",
            "\u001b[43m\u001b[32m  Expected and actual output match:\n",
            "  [1, 1, 2, 3]\u001b[0m\n",
            "\n",
            "\u001b[43m\u001b[32mTest PASSED!\u001b[0m\n"
          ]
        }
      ],
      "source": [
        "#@title TESTs simple\n",
        "inputs=[1,2,3,4]\n",
        "expected_outputs=[[1],[1,1],[1,1,2],[1,1,2,3]]\n",
        "run_and_test_func(inputs,expected_outputs,fib)"
      ]
    },
    {
      "cell_type": "markdown",
      "metadata": {
        "id": "D7sXgEeGD-Fj"
      },
      "source": [
        "### More complex tests"
      ]
    },
    {
      "cell_type": "code",
      "execution_count": 52,
      "metadata": {
        "cellView": "form",
        "colab": {
          "base_uri": "https://localhost:8080/"
        },
        "id": "IQ3WbqoCD-Fj",
        "outputId": "b8e7caef-42fd-4cbb-e0bd-3945fe8ae4f5"
      },
      "outputs": [
        {
          "output_type": "stream",
          "name": "stdout",
          "text": [
            "\u001b[36m\u001b[4m\u001b[1mTest 5\u001b[0m\n",
            "\u001b[43m\u001b[32m  Expected and actual output match:\n",
            "  [1, 1, 2, 3, 5]\u001b[0m\n",
            "\n",
            "\u001b[36m\u001b[4m\u001b[1mTest 6\u001b[0m\n",
            "\u001b[43m\u001b[32m  Expected and actual output match:\n",
            "  [1, 1, 2, 3, 5, 8]\u001b[0m\n",
            "\n",
            "\u001b[36m\u001b[4m\u001b[1mTest 10\u001b[0m\n",
            "\u001b[43m\u001b[32m  Expected and actual output match:\n",
            "  [1, 1, 2, 3, 5, 8, 13, 21, 34, 55]\u001b[0m\n",
            "\n",
            "\u001b[43m\u001b[32mTest PASSED!\u001b[0m\n"
          ]
        }
      ],
      "source": [
        "#@title TESTs more complex\n",
        "inputs=[5,6,10]\n",
        "expected_outputs=[[1,1,2,3,5],[1,1,2,3,5,8],[1, 1, 2, 3, 5, 8, 13, 21, 34, 55]]\n",
        "run_and_test_func(inputs,expected_outputs,fib)"
      ]
    },
    {
      "cell_type": "markdown",
      "metadata": {
        "id": "XIpXxK7FD-Fj"
      },
      "source": [
        "# Assignment 05.06: Top words\n",
        "## Statement\n",
        "\n",
        "> BEWARE: This is a particularly challenging exercise.\n",
        "\n",
        "Write a function called `top_10words` that has a string argument (`filename`).<br/>\n",
        "It should\n",
        "- read text from file `filename`\n",
        "- convert all words to lower case  from such text and\n",
        "- remove stop words (and punctuation)\n",
        "- return the top 10 words with highest frequency in filename. This should be a dictionary associating a word with its frequency (how many times it appears).\n",
        "\n",
        "Your solution will be tested on file \"manzoni_1.txt\", chapter 1 of the Italian book 'Promessi Sposi' by Alessandro Manzoni.\n",
        "- This file should be automatically downloaded when running the first cell of this notebook\n",
        "\n",
        "## Note\n",
        "Stop words are usually the most common in any text (like \"the\", \"of\", \"to\" and \"and\").\n",
        "- We typically want to ignore them because they do not tell us much that is distinctive about a text.\n",
        "- In general, we are more interested in finding the words that will help us differentiate this text from texts that are about different subjects.\n",
        "\n",
        "Therefore, we are going to filter out stop words.\n",
        "\n",
        "Files:\n",
        "\n",
        "- manzoni_1.txt: Promessi Sposi, Capitolo I.\n",
        "- stopwords_italian.txt: the most common words in any text in Italian\n",
        "\n",
        "## Example input\n",
        "\n",
        "```\n",
        "manzoni_1.txt\n",
        "```\n",
        "\n",
        "## Example output\n",
        "\n",
        "\n",
        "```\n",
        "[('don', 28), ('due', 27), ('poi', 24), ('abbondio', 21), ('ogni', 19), ('de', 18), ('qualche', 18), ('sempre', 18), ('quel', 17), ('cosa', 17)]\n",
        "```\n",
        "\n",
        "\n",
        "*HINT*: for sorting a `freqword` dictionary by Value in Python please use this function:\n",
        "sorted(freqword.items(), key=lambda item: item[1], reverse=True)\n",
        "\n",
        "```\n"
      ]
    },
    {
      "cell_type": "markdown",
      "metadata": {
        "id": "OSuceG2tD-Fk"
      },
      "source": [
        "## Write your solution here\n",
        "\n"
      ]
    },
    {
      "cell_type": "code",
      "execution_count": 113,
      "metadata": {
        "id": "Xz3TRnYLD-Fl"
      },
      "outputs": [],
      "source": [
        "import re\n",
        "#Write here your solution\n",
        "# This function removes punctuation from a text\n",
        "def remove_punctuation(txt):\n",
        "    return re.sub(r'[^\\w\\s]','',txt)\n",
        "\n",
        "def top_10words(fname):\n",
        "    text = \"\"\n",
        "    stop_words = []\n",
        "\n",
        "\n",
        "    with open(fname) as file:\n",
        "        text = file.read()\n",
        "\n",
        "    with open(\"stopwords_italian.txt\") as sw_file:\n",
        "        for l in sw_file.readlines():\n",
        "            stop_words.append(l[0:-1])  # remove \\n char\n",
        "\n",
        "\n",
        "    text = remove_punctuation(text).lower()\n",
        "\n",
        "    text = text.split()\n",
        "    words = []\n",
        "    for w in text:\n",
        "        if not w in stop_words:\n",
        "            words.append(w)\n",
        "\n",
        "\n",
        "    top = {}\n",
        "    for w in words:\n",
        "        top[w] = top.get(w, 0) + 1\n",
        "\n",
        "    top = {k: v for k, v in sorted(top.items(), key = lambda i : i[1], reverse = True)}\n",
        "\n",
        "\n",
        "    ret = []\n",
        "    keys = list(top.keys())\n",
        "    for i in range(min(10, len(top))):\n",
        "        ret.append((keys[i], top[keys[i]]))\n",
        "\n",
        "    return ret\n",
        "\n",
        "#You can autonomously test your code running these two instructions\n",
        "# top_words = top_10words('manzoni_1.txt')\n",
        "# print(top_words)"
      ]
    },
    {
      "cell_type": "markdown",
      "metadata": {
        "id": "YOWyebeLD-Fm"
      },
      "source": [
        "## Run the following cells to perform the provided tests"
      ]
    },
    {
      "cell_type": "code",
      "execution_count": 114,
      "metadata": {
        "cellView": "form",
        "colab": {
          "base_uri": "https://localhost:8080/"
        },
        "id": "XJxZ33aOD-Fm",
        "outputId": "4062e502-5bf4-4a28-c78b-c9bdc4b9510d"
      },
      "outputs": [
        {
          "output_type": "stream",
          "name": "stdout",
          "text": [
            "\u001b[36m\u001b[4m\u001b[1mTest manzoni_1.txt\u001b[0m\n",
            "\u001b[43m\u001b[32m  Expected and actual output match:\n",
            "  [('don', 28), ('due', 27), ('poi', 24), ('abbondio', 21), ('ogni', 19), ('de', 18), ('qualche', 18), ('sempre', 18), ('quel', 17), ('cosa', 17)]\u001b[0m\n",
            "\n",
            "\u001b[43m\u001b[32mTest PASSED!\u001b[0m\n"
          ]
        }
      ],
      "source": [
        "#@title TESTs manzoni\n",
        "inputs=['manzoni_1.txt']\n",
        "expected_outputs=[[('don', 28), ('due', 27), ('poi', 24), ('abbondio', 21), ('ogni', 19), ('de', 18), ('qualche', 18), ('sempre', 18), ('quel', 17), ('cosa', 17)]]\n",
        "run_and_test_func(inputs,expected_outputs,top_10words)"
      ]
    }
  ],
  "metadata": {
    "colab": {
      "name": "05Functions_Assignments.ipynb",
      "provenance": []
    },
    "kernelspec": {
      "display_name": "Python 3 (ipykernel)",
      "language": "python",
      "name": "python3"
    },
    "language_info": {
      "codemirror_mode": {
        "name": "ipython",
        "version": 3
      },
      "file_extension": ".py",
      "mimetype": "text/x-python",
      "name": "python",
      "nbconvert_exporter": "python",
      "pygments_lexer": "ipython3",
      "version": "3.9.10"
    },
    "toc-autonumbering": true,
    "toc-showcode": false,
    "toc-showmarkdowntxt": false
  },
  "nbformat": 4,
  "nbformat_minor": 0
}