{
  "cells": [
    {
      "cell_type": "markdown",
      "metadata": {
        "id": "f5tA_6kp36VJ"
      },
      "source": [
        "<center><font size=\"+4\">Programming & Data Analytics & AI 1 2024/2025</font></center>\n",
        "<center><font size=\"+2\">Sant'Anna School of Advanced Studies, Pisa, Italy</font></center>\n",
        "<center><img src=\"https://github.com/EMbeDS-education/ComputingDataAnalysisModeling20242025/raw/main/PDAI/jupyter/jupyterNotebooks/images/sssaLEMBEDSdtu.png\" width=\"900\" alt=\"L'EMbeDS\"></center>\n",
        "\n",
        "<center><font size=\"+2\">Course responsible</font></center>\n",
        "<center><font size=\"+2\">Andrea Vandin a.vandin@santannapisa.it</font></center>\n",
        "\n",
        "<center><font size=\"+2\">Teaching Assistant </font></center>\n",
        "<center><font size=\"+2\">Sima Sarv Ahrabi Sima.SarvAhrabi@santannapisa.it</font></center>\n",
        "\n",
        "---"
      ]
    },
    {
      "cell_type": "markdown",
      "metadata": {
        "id": "PzTk_3lR7k5D"
      },
      "source": [
        "<center><font size=\"+4\">Assignments for</font></center>\n",
        "<center><font size=\"+4\">Lecture 1:  Course Introduction</font></center>\n",
        "\n",
        "---"
      ]
    },
    {
      "cell_type": "code",
      "execution_count": 7,
      "metadata": {
        "colab": {
          "base_uri": "https://localhost:8080/"
        },
        "id": "p666zbf89eCD",
        "outputId": "a8b336c1-02e1-465e-b8e3-e07e72e397fc"
      },
      "outputs": [
        {
          "output_type": "stream",
          "name": "stdout",
          "text": [
            "downloading https://raw.githubusercontent.com/EMbeDS-education/ComputingDataAnalysisModeling20242025/main/PDAI/jupyter/jupyterNotebooks/assignments/auto_testing.py\n"
          ]
        }
      ],
      "source": [
        "#@title <mark>RUN, BUT DO NOT MODIFY</mark>\n",
        "#!curl -O  https://raw.githubusercontent.com/EMbeDS-education/ComputingDataAnalysisModeling20232024/main/PDAI/jupyter/jupyterNotebooks/assignments/auto_testing.py\n",
        "\n",
        "%pip install -q urllib3\n",
        "\n",
        "url_base = 'https://raw.githubusercontent.com/EMbeDS-education/ComputingDataAnalysisModeling20242025/main/PDAI/jupyter/jupyterNotebooks/assignments/'\n",
        "url_files=['auto_testing.py']\n",
        "import urllib.request\n",
        "from pathlib import Path\n",
        "for url_b in url_files:\n",
        "    url = url_base+url_b\n",
        "    print('downloading',url)\n",
        "    urllib.request.urlretrieve(url,Path(url).name)\n",
        "\n",
        "%reload_ext autoreload\n",
        "%autoreload 2\n",
        "from auto_testing import *"
      ]
    },
    {
      "cell_type": "markdown",
      "metadata": {
        "id": "Om177ojl7k5J"
      },
      "source": [
        "# Assignment 01.01: Ciao, mondo!\n",
        "## Statement\n",
        "\n",
        "Write a program that prints the Italian translation of `Hello, world!`.\n",
        "\n",
        "That is: `Ciao, mondo!`\n",
        "\n",
        "## Example input\n",
        "\n",
        "```\n",
        "\n",
        "```\n",
        "\n",
        "## Example output\n",
        "\n",
        "```\n",
        "Ciao, mondo!\n",
        "```\n",
        "\n",
        "## Theory\n",
        "\n",
        "Well, there is not much theory to use here.\n",
        "\n",
        "In the example, you can see how to print 'Hello, world!'."
      ]
    },
    {
      "cell_type": "markdown",
      "metadata": {
        "id": "FMZE1vmMbRLz"
      },
      "source": [
        "## Write your solution here\n",
        "\n",
        "\n",
        "*   Do not change the first line (`def ...():`)\n",
        "*   Maintain the given indentation\n",
        "*   Run the cell once you are done to load your solution\n",
        "*   You can run some tests by yourself by decommenting the last line\n",
        "\n"
      ]
    },
    {
      "cell_type": "code",
      "execution_count": 9,
      "metadata": {
        "id": "Yg4jeBnA7k5K"
      },
      "outputs": [],
      "source": [
        "def asgn01_01Hello_world():\n",
        "    # This program prints 'Hello, world!':\n",
        "    print('Ciao, mondo!')\n",
        "\n",
        "    # Can you change it so that it prints the same,\n",
        "    #but in Italian?\n",
        "\n",
        "#You can test independently your solution by executing the following line\n",
        "#asgn01_01Hello_world()"
      ]
    },
    {
      "cell_type": "markdown",
      "metadata": {
        "id": "_lqTangP8R46"
      },
      "source": [
        "## Run the following cells to perform the provided tests"
      ]
    },
    {
      "cell_type": "code",
      "execution_count": 10,
      "metadata": {
        "colab": {
          "base_uri": "https://localhost:8080/"
        },
        "id": "fwX9u8aW7k5L",
        "outputId": "25c00a01-63cb-4947-8ac4-146ed0e872ff"
      },
      "outputs": [
        {
          "output_type": "stream",
          "name": "stdout",
          "text": [
            "\u001b[36m\u001b[4m\u001b[1mTest []\u001b[0m\n",
            "\u001b[43m\u001b[32m The program prints 1 lines as expected.\u001b[0m\n",
            "\n",
            "  Line 0\n",
            "\u001b[43m\u001b[32m  Expected and actual output match:\n",
            "  Ciao, mondo!\u001b[0m\n",
            "\n",
            "\u001b[43m\u001b[32mTest PASSED!\u001b[0m\n"
          ]
        }
      ],
      "source": [
        "#@title TEST 1\n",
        "inputs=[]\n",
        "expected_outputs=[\"Ciao, mondo!\"]\n",
        "run_and_test(inputs,expected_outputs,asgn01_01Hello_world)"
      ]
    },
    {
      "cell_type": "markdown",
      "metadata": {
        "id": "1JMDln-vIKRB"
      },
      "source": [
        "# Assignment 01.02: Hello, name1 name2\n",
        "## Statement\n",
        "\n",
        "Write a program that reads two names (one per line), and prints\n",
        "\n",
        "`'Hello, name1 name2'`, where `name1` and `name2` are the two read names.\n",
        "\n",
        "\n",
        "## Example input\n",
        "\n",
        "```\n",
        "Andrea\n",
        "```\n",
        "\n",
        "```\n",
        "Daniele\n",
        "```\n",
        "\n",
        "## Example output\n",
        "\n",
        "```\n",
        "Hello, Andrea Daniele\n",
        "```\n",
        "\n",
        "## Theory\n",
        "\n",
        "In the notebook shown in class, we have seen\n",
        "\n",
        "- how to read a name from console and print `Hello, name`\n",
        "- how to print more parts/sentences using a single `print()`\n",
        "\n",
        "You have to combine these two features."
      ]
    },
    {
      "cell_type": "markdown",
      "metadata": {
        "id": "IROCYUDQb0t7"
      },
      "source": [
        "## Write your solution here\n",
        "\n",
        "\n",
        "*   Do not change the first line (`def ...():`)\n",
        "*   Maintain the given indentation\n",
        "*   Run the cell once you are done to load your solution\n",
        "*   You can run some tests by yourself by decommenting the last line\n",
        "\n"
      ]
    },
    {
      "cell_type": "code",
      "execution_count": 11,
      "metadata": {
        "id": "QtPMkR0aJRYv"
      },
      "outputs": [],
      "source": [
        "def asgn01_02Hello_name1_name2():\n",
        "    # This program reads one name, name1, and then prints\n",
        "    # 'Hello, name1':\n",
        "    name1 = input()\n",
        "    name2 = input()\n",
        "    print('Hello,', name1, name2)\n",
        "\n",
        "    # Can you change it so that it reads two names,\n",
        "    # name1 and name2, and then prints prints\n",
        "    # 'Hello, name1 name2'?\n",
        "\n",
        "#You can test independently your solution by executing the following line\n",
        "#asgn01_02Hello_name1_name2()"
      ]
    },
    {
      "cell_type": "markdown",
      "metadata": {
        "id": "HcoyoBpScQ7f"
      },
      "source": [
        "## Run the following cells to perform the provided tests"
      ]
    },
    {
      "cell_type": "code",
      "execution_count": 12,
      "metadata": {
        "cellView": "form",
        "colab": {
          "base_uri": "https://localhost:8080/"
        },
        "id": "bMb_4CIDtvsp",
        "outputId": "d24e9726-e90d-4652-e60b-fb95b0553c80"
      },
      "outputs": [
        {
          "output_type": "stream",
          "name": "stdout",
          "text": [
            "------------------------------------------------------------\n",
            "\u001b[36m\u001b[4m\u001b[1mTest ['Renzo', 'Lucia']\u001b[0m\n",
            "\u001b[43m\u001b[32m The program prints 1 lines as expected.\u001b[0m\n",
            "\n",
            "  Line 0\n",
            "\u001b[43m\u001b[32m  Expected and actual output match:\n",
            "  Hello, Renzo Lucia\u001b[0m\n",
            "\n",
            "\u001b[43m\u001b[32mTest PASSED!\u001b[0m\n",
            "------------------------------------------------------------\n",
            "\u001b[36m\u001b[4m\u001b[1mTest ['Andrea', 'Daniele']\u001b[0m\n",
            "\u001b[43m\u001b[32m The program prints 1 lines as expected.\u001b[0m\n",
            "\n",
            "  Line 0\n",
            "\u001b[43m\u001b[32m  Expected and actual output match:\n",
            "  Hello, Andrea Daniele\u001b[0m\n",
            "\n",
            "\u001b[43m\u001b[32mTest PASSED!\u001b[0m\n",
            "------------------------------------------------------------\n",
            "\u001b[36m\u001b[4m\u001b[1mTest ['Daniele', 'Andrea']\u001b[0m\n",
            "\u001b[43m\u001b[32m The program prints 1 lines as expected.\u001b[0m\n",
            "\n",
            "  Line 0\n",
            "\u001b[43m\u001b[32m  Expected and actual output match:\n",
            "  Hello, Daniele Andrea\u001b[0m\n",
            "\n",
            "\u001b[43m\u001b[32mTest PASSED!\u001b[0m\n"
          ]
        }
      ],
      "source": [
        "#@title RUN and TEST ALL\n",
        "#@markdown 1. TEST Renzo Lucia\n",
        "#@markdown 2. TEST Andrea Daniele\n",
        "#@markdown 3. TEST Daniele Andrea\n",
        "\n",
        "\n",
        "\n",
        "inputs=[['Renzo','Lucia'],['Andrea','Daniele'],['Daniele','Andrea']]\n",
        "expected_outputs=[ [\"Hello, Renzo Lucia\"],[\"Hello, Andrea Daniele\"],[\"Hello, Daniele Andrea\"]]\n",
        "\n",
        "\n",
        "for k in range(len(inputs)):\n",
        "    print('-'*60)\n",
        "    run_and_test(inputs[k],expected_outputs[k],asgn01_02Hello_name1_name2)\n",
        "\n",
        "\n"
      ]
    },
    {
      "cell_type": "markdown",
      "metadata": {
        "id": "CvRjQW_ITQ8T"
      },
      "source": [
        "# Assignment 01.03: Hello, name1 and name2\n",
        "## Statement\n",
        "\n",
        "Write a program that reads two names (one per line), and prints\n",
        "\n",
        "`'Hello, name1 and name2'`, where `name1` and `name2` are the two read names.\n",
        "\n",
        "\n",
        "## Example input\n",
        "\n",
        "```\n",
        "Andrea\n",
        "```\n",
        "\n",
        "```\n",
        "Daniele\n",
        "```\n",
        "\n",
        "## Example output\n",
        "\n",
        "```\n",
        "Hello, Andrea and Daniele\n",
        "```\n",
        "\n",
        "## Theory\n",
        "\n",
        "In the notebook shown in class, we have seen\n",
        "\n",
        "- how to read one name from console and print `Hello, name`\n",
        "- how to print more parts/sentences using a single `print()`\n",
        "\n",
        "You have to combine these two features.\n",
        "\n",
        "Note that with respect to assignment 01.02 you have to add an 'and' between the two names."
      ]
    },
    {
      "cell_type": "markdown",
      "metadata": {
        "id": "Lr-UYAK6b18z"
      },
      "source": [
        "## Write your solution here\n",
        "\n",
        "\n",
        "*   Do not change the first line (`def ...():`)\n",
        "*   Maintain the given indentation\n",
        "*   Run the cell once you are done to load your solution\n",
        "*   You can run some tests by yourself by decommenting the last line\n",
        "\n"
      ]
    },
    {
      "cell_type": "code",
      "execution_count": 16,
      "metadata": {
        "id": "ghJWGiEPUD9v"
      },
      "outputs": [],
      "source": [
        "def asgn01_03Hello_name1_and_name2():\n",
        "    # This program reads one name, name1, and then prints 'Hello, name1':\n",
        "    name1 = input()\n",
        "    name2 = input()\n",
        "    print('Hello,', name1, \"and\",  name2)\n",
        "\n",
        "    # Can you change it so that it reads two names,\n",
        "    # name1 and name2, and then prints prints\n",
        "    # 'Hello, name1 and name2'?\n",
        "\n",
        "\n",
        "#You can test independently your solution by executing the following line\n",
        "#asgn01_03Hello_name1_and_name2()"
      ]
    },
    {
      "cell_type": "markdown",
      "metadata": {
        "id": "XJA5H0ULcVAM"
      },
      "source": [
        "## Run the following cells to perform the provided tests"
      ]
    },
    {
      "cell_type": "code",
      "execution_count": 17,
      "metadata": {
        "cellView": "form",
        "colab": {
          "base_uri": "https://localhost:8080/"
        },
        "id": "TXNx80MMuVLI",
        "outputId": "c5193563-f62c-45f5-fed5-12eefca17e38"
      },
      "outputs": [
        {
          "output_type": "stream",
          "name": "stdout",
          "text": [
            "------------------------------------------------------------\n",
            "\u001b[36m\u001b[4m\u001b[1mTest ['Renzo', 'Lucia']\u001b[0m\n",
            "\u001b[43m\u001b[32m The program prints 1 lines as expected.\u001b[0m\n",
            "\n",
            "  Line 0\n",
            "\u001b[43m\u001b[32m  Expected and actual output match:\n",
            "  Hello, Renzo and Lucia\u001b[0m\n",
            "\n",
            "\u001b[43m\u001b[32mTest PASSED!\u001b[0m\n",
            "------------------------------------------------------------\n",
            "\u001b[36m\u001b[4m\u001b[1mTest ['Andrea', 'Daniele']\u001b[0m\n",
            "\u001b[43m\u001b[32m The program prints 1 lines as expected.\u001b[0m\n",
            "\n",
            "  Line 0\n",
            "\u001b[43m\u001b[32m  Expected and actual output match:\n",
            "  Hello, Andrea and Daniele\u001b[0m\n",
            "\n",
            "\u001b[43m\u001b[32mTest PASSED!\u001b[0m\n",
            "------------------------------------------------------------\n",
            "\u001b[36m\u001b[4m\u001b[1mTest ['Daniele', 'Andrea']\u001b[0m\n",
            "\u001b[43m\u001b[32m The program prints 1 lines as expected.\u001b[0m\n",
            "\n",
            "  Line 0\n",
            "\u001b[43m\u001b[32m  Expected and actual output match:\n",
            "  Hello, Daniele and Andrea\u001b[0m\n",
            "\n",
            "\u001b[43m\u001b[32mTest PASSED!\u001b[0m\n"
          ]
        }
      ],
      "source": [
        "#@title RUN and TEST ALL\n",
        "#@markdown 1. TEST Renzo Lucia\n",
        "#@markdown 2. TEST Andrea Daniele\n",
        "#@markdown 3. TEST Daniele Andrea\n",
        "\n",
        "\n",
        "\n",
        "inputs=[['Renzo','Lucia'],['Andrea','Daniele'],['Daniele','Andrea']]\n",
        "expected_outputs=[ [\"Hello, Renzo and Lucia\"],[\"Hello, Andrea and Daniele\"],[\"Hello, Daniele and Andrea\"]]\n",
        "\n",
        "\n",
        "for k in range(len(inputs)):\n",
        "    print('-'*60)\n",
        "    run_and_test(inputs[k],expected_outputs[k],asgn01_03Hello_name1_and_name2)\n",
        "\n",
        "\n"
      ]
    }
  ],
  "metadata": {
    "colab": {
      "name": "01ConsoleIOandVariables_Assignments.ipynb",
      "provenance": [],
      "toc_visible": true
    },
    "kernelspec": {
      "display_name": "Python 3 (ipykernel)",
      "language": "python",
      "name": "python3"
    },
    "language_info": {
      "codemirror_mode": {
        "name": "ipython",
        "version": 3
      },
      "file_extension": ".py",
      "mimetype": "text/x-python",
      "name": "python",
      "nbconvert_exporter": "python",
      "pygments_lexer": "ipython3",
      "version": "3.9.10"
    },
    "toc-autonumbering": true,
    "toc-showcode": false,
    "toc-showmarkdowntxt": false
  },
  "nbformat": 4,
  "nbformat_minor": 0
}