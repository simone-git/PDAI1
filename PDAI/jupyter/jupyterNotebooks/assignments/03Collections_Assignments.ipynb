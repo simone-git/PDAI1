{
  "cells": [
    {
      "cell_type": "markdown",
      "metadata": {
        "id": "e8Pf7GSR131K"
      },
      "source": [
        "<center><font size=\"+4\">Programming & Data Analytics & AI 1 2024/2025</font></center>\n",
        "<center><font size=\"+2\">Sant'Anna School of Advanced Studies, Pisa, Italy</font></center>\n",
        "<center><img src=\"https://github.com/EMbeDS-education/ComputingDataAnalysisModeling20242025/raw/main/PDAI/jupyter/jupyterNotebooks/images/sssaLEMBEDSdtu.png\" width=\"900\" alt=\"L'EMbeDS\"></center>\n",
        "\n",
        "<center><font size=\"+2\">Course responsible</font></center>\n",
        "<center><font size=\"+2\">Andrea Vandin a.vandin@santannapisa.it</font></center>\n",
        "\n",
        "<center><font size=\"+2\">Teaching Assistant </font></center>\n",
        "<center><font size=\"+2\">Sima Sarv Ahrabi Sima.SarvAhrabi@santannapisa.it</font></center>\n",
        "\n",
        "---"
      ]
    },
    {
      "cell_type": "markdown",
      "metadata": {
        "id": "PzTk_3lR7k5D"
      },
      "source": [
        "<center><font size=\"+4\">Assignments for</font></center>\n",
        "<center><font size=\"+4\">Lecture 3:  Collections</font></center>\n",
        "\n",
        "---"
      ]
    },
    {
      "cell_type": "code",
      "execution_count": 4,
      "metadata": {
        "cellView": "form",
        "colab": {
          "base_uri": "https://localhost:8080/"
        },
        "id": "p666zbf89eCD",
        "outputId": "4a7e1b78-2640-442f-9323-874a3d5b84ec"
      },
      "outputs": [
        {
          "output_type": "stream",
          "name": "stdout",
          "text": [
            "downloading https://raw.githubusercontent.com/EMbeDS-education/ComputingDataAnalysisModeling20242025/main/PDAI/jupyter/jupyterNotebooks/assignments/auto_testing.py\n"
          ]
        }
      ],
      "source": [
        "#@title <mark>RUN, BUT DO NOT MODIFY</mark>\n",
        "#!curl -O  https://raw.githubusercontent.com/EMbeDS-education/ComputingDataAnalysisModeling20232024/main/PDAI/jupyter/jupyterNotebooks/assignments/auto_testing.py\n",
        "\n",
        "%pip install -q urllib3\n",
        "\n",
        "url_base = 'https://raw.githubusercontent.com/EMbeDS-education/ComputingDataAnalysisModeling20242025/main/PDAI/jupyter/jupyterNotebooks/assignments/'\n",
        "url_files=['auto_testing.py']\n",
        "import urllib.request\n",
        "from pathlib import Path\n",
        "for url_b in url_files:\n",
        "    url = url_base+url_b\n",
        "    print('downloading',url)\n",
        "    urllib.request.urlretrieve(url,Path(url).name)\n",
        "\n",
        "%reload_ext autoreload\n",
        "%autoreload 2\n",
        "from auto_testing import *"
      ]
    },
    {
      "cell_type": "markdown",
      "metadata": {
        "id": "Om177ojl7k5J"
      },
      "source": [
        "# Assignment 03.01: Play with lists\n",
        "## Statement\n",
        "\n",
        "Write a program that\n",
        "\n",
        "- Reads two integers `a` and `b`\n",
        "  -  prints `a` and `b`\n",
        "- Creates a list (`lst1`) of 10 elements containing value 0 in each entry\n",
        "  -   sets to value `a` the entries in position 1 and 3\n",
        "  -   sets to value `b` the entries in position 2 and 4\n",
        "  -   prints this list\n",
        "- Creates a list (`lst2`) of 10 elements containing values from 0 to 9 included\n",
        "  -   prints this list\n",
        "- Prints `True` if the `lst1` is smaller than `lst2`, and `False` otherwise\n",
        "- Concatenates the two lists in list `lst3`\n",
        "  -   prints `lst3`\n",
        "\n",
        "## Example input 1\n",
        "\n",
        "```\n",
        "1\n",
        "```\n",
        "\n",
        "```\n",
        "2\n",
        "```\n",
        "\n",
        "## Example output 1\n",
        "\n",
        "```\n",
        "1\n",
        "2\n",
        "[0, 1, 2, 1, 2, 0, 0, 0, 0, 0]\n",
        "[0, 1, 2, 3, 4, 5, 6, 7, 8, 9]\n",
        "True\n",
        "[0, 1, 2, 1, 2, 0, 0, 0, 0, 0, 0, 1, 2, 3, 4, 5, 6, 7, 8, 9]\n",
        "```\n",
        "\n",
        "## Example input 2\n",
        "\n",
        "```\n",
        "2\n",
        "```\n",
        "\n",
        "```\n",
        "1\n",
        "```\n",
        "\n",
        "## Example output 2\n",
        "\n",
        "```\n",
        "2\n",
        "1\n",
        "[0, 2, 1, 2, 1, 0, 0, 0, 0, 0]\n",
        "[0, 1, 2, 3, 4, 5, 6, 7, 8, 9]\n",
        "False\n",
        "[0, 2, 1, 2, 1, 0, 0, 0, 0, 0, 0, 1, 2, 3, 4, 5, 6, 7, 8, 9]\n",
        "```"
      ]
    },
    {
      "cell_type": "markdown",
      "metadata": {
        "id": "FMZE1vmMbRLz"
      },
      "source": [
        "## Write your solution here\n",
        "\n",
        "\n",
        "*   Do not change the first line (`def ...():`)\n",
        "*   Maintain the given indentation\n",
        "*   You can run some tests by yourself by decommenting the last line\n",
        "\n"
      ]
    },
    {
      "cell_type": "code",
      "execution_count": 17,
      "metadata": {
        "id": "Yg4jeBnA7k5K"
      },
      "outputs": [],
      "source": [
        "def asgn03_01Play_with_lists():\n",
        "    a = int(input())\n",
        "    b = int(input())\n",
        "\n",
        "    print(a)\n",
        "    print(b)\n",
        "\n",
        "    l1 = [0 for i in range(10)]\n",
        "    l2 = [i for i in range(10)]\n",
        "\n",
        "    l1[1] = a\n",
        "    l1[3] = a\n",
        "    l1[2] = b\n",
        "    l1[4] = b\n",
        "\n",
        "    print(l1)\n",
        "    print(l2)\n",
        "\n",
        "    print(l1 < l2)\n",
        "    print(l1 + l2)\n",
        "\n",
        "\n",
        "\n",
        "#You can test independently your solution by executing the following line\n",
        "#asgn03_01Play_with_lists()"
      ]
    },
    {
      "cell_type": "markdown",
      "metadata": {
        "id": "_lqTangP8R46"
      },
      "source": [
        "## Run the following cells to perform the provided tests"
      ]
    },
    {
      "cell_type": "code",
      "execution_count": 18,
      "metadata": {
        "cellView": "form",
        "id": "jXudwlHM1d0b",
        "colab": {
          "base_uri": "https://localhost:8080/",
          "height": 1000
        },
        "outputId": "f8753e4a-0200-4637-9966-fa3a7aeb5c22"
      },
      "outputs": [
        {
          "output_type": "display_data",
          "data": {
            "text/plain": [
              "<IPython.core.display.Markdown object>"
            ],
            "text/markdown": "1. TEST [0, 0] = 0,0,[0, 0, 0, 0, 0, 0, 0, 0, 0, 0],[0, 1, 2, 3, 4, 5, 6, 7, 8, 9],True,[0, 0, 0, 0, 0, 0, 0, 0, 0, 0, 0, 1, 2, 3, 4, 5, 6, 7, 8, 9]"
          },
          "metadata": {}
        },
        {
          "output_type": "stream",
          "name": "stdout",
          "text": [
            "------------------------------------------------------------\n",
            "\u001b[36m\u001b[4m\u001b[1mTest [0, 0]\u001b[0m\n",
            "\u001b[43m\u001b[32m The program prints 6 lines as expected.\u001b[0m\n",
            "\n",
            "  Line 0\n",
            "\u001b[43m\u001b[32m  Expected and actual output match:\n",
            "  0\u001b[0m\n",
            "\n",
            "  Line 1\n",
            "\u001b[43m\u001b[32m  Expected and actual output match:\n",
            "  0\u001b[0m\n",
            "\n",
            "  Line 2\n",
            "\u001b[43m\u001b[32m  Expected and actual output match:\n",
            "  [0, 0, 0, 0, 0, 0, 0, 0, 0, 0]\u001b[0m\n",
            "\n",
            "  Line 3\n",
            "\u001b[43m\u001b[32m  Expected and actual output match:\n",
            "  [0, 1, 2, 3, 4, 5, 6, 7, 8, 9]\u001b[0m\n",
            "\n",
            "  Line 4\n",
            "\u001b[43m\u001b[32m  Expected and actual output match:\n",
            "  True\u001b[0m\n",
            "\n",
            "  Line 5\n",
            "\u001b[43m\u001b[32m  Expected and actual output match:\n",
            "  [0, 0, 0, 0, 0, 0, 0, 0, 0, 0, 0, 1, 2, 3, 4, 5, 6, 7, 8, 9]\u001b[0m\n",
            "\n",
            "\u001b[43m\u001b[32mTest PASSED!\u001b[0m\n"
          ]
        },
        {
          "output_type": "display_data",
          "data": {
            "text/plain": [
              "<IPython.core.display.Markdown object>"
            ],
            "text/markdown": "2. TEST [1, 2] = 1,2,[0, 1, 2, 1, 2, 0, 0, 0, 0, 0],[0, 1, 2, 3, 4, 5, 6, 7, 8, 9],True,[0, 1, 2, 1, 2, 0, 0, 0, 0, 0, 0, 1, 2, 3, 4, 5, 6, 7, 8, 9]"
          },
          "metadata": {}
        },
        {
          "output_type": "stream",
          "name": "stdout",
          "text": [
            "------------------------------------------------------------\n",
            "\u001b[36m\u001b[4m\u001b[1mTest [1, 2]\u001b[0m\n",
            "\u001b[43m\u001b[32m The program prints 6 lines as expected.\u001b[0m\n",
            "\n",
            "  Line 0\n",
            "\u001b[43m\u001b[32m  Expected and actual output match:\n",
            "  1\u001b[0m\n",
            "\n",
            "  Line 1\n",
            "\u001b[43m\u001b[32m  Expected and actual output match:\n",
            "  2\u001b[0m\n",
            "\n",
            "  Line 2\n",
            "\u001b[43m\u001b[32m  Expected and actual output match:\n",
            "  [0, 1, 2, 1, 2, 0, 0, 0, 0, 0]\u001b[0m\n",
            "\n",
            "  Line 3\n",
            "\u001b[43m\u001b[32m  Expected and actual output match:\n",
            "  [0, 1, 2, 3, 4, 5, 6, 7, 8, 9]\u001b[0m\n",
            "\n",
            "  Line 4\n",
            "\u001b[43m\u001b[32m  Expected and actual output match:\n",
            "  True\u001b[0m\n",
            "\n",
            "  Line 5\n",
            "\u001b[43m\u001b[32m  Expected and actual output match:\n",
            "  [0, 1, 2, 1, 2, 0, 0, 0, 0, 0, 0, 1, 2, 3, 4, 5, 6, 7, 8, 9]\u001b[0m\n",
            "\n",
            "\u001b[43m\u001b[32mTest PASSED!\u001b[0m\n"
          ]
        },
        {
          "output_type": "display_data",
          "data": {
            "text/plain": [
              "<IPython.core.display.Markdown object>"
            ],
            "text/markdown": "3. TEST [2, 1] = 2,1,[0, 2, 1, 2, 1, 0, 0, 0, 0, 0],[0, 1, 2, 3, 4, 5, 6, 7, 8, 9],False,[0, 2, 1, 2, 1, 0, 0, 0, 0, 0, 0, 1, 2, 3, 4, 5, 6, 7, 8, 9]"
          },
          "metadata": {}
        },
        {
          "output_type": "stream",
          "name": "stdout",
          "text": [
            "------------------------------------------------------------\n",
            "\u001b[36m\u001b[4m\u001b[1mTest [2, 1]\u001b[0m\n",
            "\u001b[43m\u001b[32m The program prints 6 lines as expected.\u001b[0m\n",
            "\n",
            "  Line 0\n",
            "\u001b[43m\u001b[32m  Expected and actual output match:\n",
            "  2\u001b[0m\n",
            "\n",
            "  Line 1\n",
            "\u001b[43m\u001b[32m  Expected and actual output match:\n",
            "  1\u001b[0m\n",
            "\n",
            "  Line 2\n",
            "\u001b[43m\u001b[32m  Expected and actual output match:\n",
            "  [0, 2, 1, 2, 1, 0, 0, 0, 0, 0]\u001b[0m\n",
            "\n",
            "  Line 3\n",
            "\u001b[43m\u001b[32m  Expected and actual output match:\n",
            "  [0, 1, 2, 3, 4, 5, 6, 7, 8, 9]\u001b[0m\n",
            "\n",
            "  Line 4\n",
            "\u001b[43m\u001b[32m  Expected and actual output match:\n",
            "  False\u001b[0m\n",
            "\n",
            "  Line 5\n",
            "\u001b[43m\u001b[32m  Expected and actual output match:\n",
            "  [0, 2, 1, 2, 1, 0, 0, 0, 0, 0, 0, 1, 2, 3, 4, 5, 6, 7, 8, 9]\u001b[0m\n",
            "\n",
            "\u001b[43m\u001b[32mTest PASSED!\u001b[0m\n"
          ]
        }
      ],
      "source": [
        "#@title RUN and TEST ALL\n",
        "\n",
        "from IPython.display import display, Markdown\n",
        "\n",
        "\n",
        "\n",
        "inputs=[[0,0],[1,2],[2,1]]\n",
        "expected_outputs=[[\"0\",\"0\",\"[0, 0, 0, 0, 0, 0, 0, 0, 0, 0]\",\"[0, 1, 2, 3, 4, 5, 6, 7, 8, 9]\",\"True\",\"[0, 0, 0, 0, 0, 0, 0, 0, 0, 0, 0, 1, 2, 3, 4, 5, 6, 7, 8, 9]\"],\\\n",
        "                  [\"1\",\"2\",\"[0, 1, 2, 1, 2, 0, 0, 0, 0, 0]\",\"[0, 1, 2, 3, 4, 5, 6, 7, 8, 9]\",\"True\",\"[0, 1, 2, 1, 2, 0, 0, 0, 0, 0, 0, 1, 2, 3, 4, 5, 6, 7, 8, 9]\"], \\\n",
        "                  [\"2\",\"1\",\"[0, 2, 1, 2, 1, 0, 0, 0, 0, 0]\",\"[0, 1, 2, 3, 4, 5, 6, 7, 8, 9]\",\"False\",\"[0, 2, 1, 2, 1, 0, 0, 0, 0, 0, 0, 1, 2, 3, 4, 5, 6, 7, 8, 9]\"]]\n",
        "\n",
        "for k in range(len(inputs)):\n",
        "    display(Markdown(f'{k+1}. TEST {inputs[k]} = {\",\".join(expected_outputs[k])}'))\n",
        "    print('-'*60)\n",
        "    run_and_test(inputs[k],expected_outputs[k],asgn03_01Play_with_lists)\n"
      ]
    },
    {
      "cell_type": "markdown",
      "metadata": {
        "id": "1gbFXDIc1AvN"
      },
      "source": [
        "# Assignment 03.02: Play with lists and sets\n",
        "## Statement\n",
        "\n",
        "Write a program that\n",
        "\n",
        "- Reads a string `s`\n",
        "- Creates a list `lst` containing as elements the characters in `s` in the same order in which they appear in `s`\n",
        "  -  sets the string `'1'` as the value of the first entry of `lst`\n",
        "  -  prints `lst`\n",
        "- Creates a set `st` containing the characters in the list\n",
        "  -  prints the length of `st`\n",
        "  -  prints the minimum element in `st`\n",
        "  -  prints the maximum element in `st`\n",
        "- Creates a list `lst2` containing the elements in `st`\n",
        "  -  prints the length of `lst2`\n",
        "  -  prints the minimum element in `lst2`\n",
        "  -  prints the maximum element in `lst2`\n",
        "  -  sorts `lst2`\n",
        "  - appends string `'!'` at the end of `lst2`\n",
        "  - prints `lst2`\n",
        "\n",
        "## Example input 1\n",
        "\n",
        "```\n",
        "abba\n",
        "```\n",
        "\n",
        "## Example output 1\n",
        "\n",
        "```\n",
        "['1', 'b', 'b', 'a']\n",
        "3\n",
        "1\n",
        "b\n",
        "3\n",
        "1\n",
        "b\n",
        "['1', 'a', 'b', '!']\n",
        "```\n",
        "\n",
        "## Example input 2\n",
        "\n",
        "```\n",
        "ciaomondo\n",
        "```\n",
        "\n",
        "## Example output 2\n",
        "\n",
        "```\n",
        "['1', 'i', 'a', 'o', 'm', 'o', 'n', 'd', 'o']\n",
        "7\n",
        "1\n",
        "o\n",
        "7\n",
        "1\n",
        "o\n",
        "['1', 'a', 'd', 'i', 'm', 'n', 'o', '!']\n",
        "```"
      ]
    },
    {
      "cell_type": "markdown",
      "metadata": {
        "id": "xbNNQEKB1AvO"
      },
      "source": [
        "## Write your solution here\n",
        "\n",
        "\n",
        "*   Do not change the first line (`def ...():`)\n",
        "*   Maintain the given indentation\n",
        "*   You can run some tests by yourself by decommenting the last line\n",
        "\n"
      ]
    },
    {
      "cell_type": "code",
      "source": [
        "def asgn03_02Play_with_lists_and_sets():\n",
        "    string = input()\n",
        "\n",
        "    l = [i for i in string]\n",
        "    l[0] = '1'\n",
        "    print(l)\n",
        "\n",
        "    s = {i for i in l}\n",
        "    print(len(s))\n",
        "    print(min(s))\n",
        "    print(max(s))\n",
        "\n",
        "    s2 = [i for i in s]\n",
        "    print(len(s2))\n",
        "    print(min(s2))\n",
        "    print(max(s2))\n",
        "    s2.sort()\n",
        "    s2 += '!'\n",
        "    print(s2)\n",
        "\n",
        "\n",
        "#You can test independently your solution by executing the following line\n",
        "#asgn03_02Play_with_lists_and_sets()"
      ],
      "metadata": {
        "id": "mI3Ww6ht_z-4"
      },
      "execution_count": 23,
      "outputs": []
    },
    {
      "cell_type": "markdown",
      "metadata": {
        "id": "EM2saB-Q1AvS"
      },
      "source": [
        "## Run the following cells to perform the provided tests"
      ]
    },
    {
      "cell_type": "code",
      "execution_count": 24,
      "metadata": {
        "cellView": "form",
        "id": "Yx7BMqsK2w2a",
        "colab": {
          "base_uri": "https://localhost:8080/",
          "height": 1000
        },
        "outputId": "5a118937-5c3d-4302-d82d-91199e029782"
      },
      "outputs": [
        {
          "output_type": "display_data",
          "data": {
            "text/plain": [
              "<IPython.core.display.Markdown object>"
            ],
            "text/markdown": "1. TEST ['abba'] = ['1', 'b', 'b', 'a'],3,1,b,3,1,b,['1', 'a', 'b', '!']"
          },
          "metadata": {}
        },
        {
          "output_type": "stream",
          "name": "stdout",
          "text": [
            "------------------------------------------------------------\n",
            "\u001b[36m\u001b[4m\u001b[1mTest ['abba']\u001b[0m\n",
            "\u001b[43m\u001b[32m The program prints 8 lines as expected.\u001b[0m\n",
            "\n",
            "  Line 0\n",
            "\u001b[43m\u001b[32m  Expected and actual output match:\n",
            "  ['1', 'b', 'b', 'a']\u001b[0m\n",
            "\n",
            "  Line 1\n",
            "\u001b[43m\u001b[32m  Expected and actual output match:\n",
            "  3\u001b[0m\n",
            "\n",
            "  Line 2\n",
            "\u001b[43m\u001b[32m  Expected and actual output match:\n",
            "  1\u001b[0m\n",
            "\n",
            "  Line 3\n",
            "\u001b[43m\u001b[32m  Expected and actual output match:\n",
            "  b\u001b[0m\n",
            "\n",
            "  Line 4\n",
            "\u001b[43m\u001b[32m  Expected and actual output match:\n",
            "  3\u001b[0m\n",
            "\n",
            "  Line 5\n",
            "\u001b[43m\u001b[32m  Expected and actual output match:\n",
            "  1\u001b[0m\n",
            "\n",
            "  Line 6\n",
            "\u001b[43m\u001b[32m  Expected and actual output match:\n",
            "  b\u001b[0m\n",
            "\n",
            "  Line 7\n",
            "\u001b[43m\u001b[32m  Expected and actual output match:\n",
            "  ['1', 'a', 'b', '!']\u001b[0m\n",
            "\n",
            "\u001b[43m\u001b[32mTest PASSED!\u001b[0m\n"
          ]
        },
        {
          "output_type": "display_data",
          "data": {
            "text/plain": [
              "<IPython.core.display.Markdown object>"
            ],
            "text/markdown": "2. TEST ['ciaomondo'] = ['1', 'i', 'a', 'o', 'm', 'o', 'n', 'd', 'o'],7,1,o,7,1,o,['1', 'a', 'd', 'i', 'm', 'n', 'o', '!']"
          },
          "metadata": {}
        },
        {
          "output_type": "stream",
          "name": "stdout",
          "text": [
            "------------------------------------------------------------\n",
            "\u001b[36m\u001b[4m\u001b[1mTest ['ciaomondo']\u001b[0m\n",
            "\u001b[43m\u001b[32m The program prints 8 lines as expected.\u001b[0m\n",
            "\n",
            "  Line 0\n",
            "\u001b[43m\u001b[32m  Expected and actual output match:\n",
            "  ['1', 'i', 'a', 'o', 'm', 'o', 'n', 'd', 'o']\u001b[0m\n",
            "\n",
            "  Line 1\n",
            "\u001b[43m\u001b[32m  Expected and actual output match:\n",
            "  7\u001b[0m\n",
            "\n",
            "  Line 2\n",
            "\u001b[43m\u001b[32m  Expected and actual output match:\n",
            "  1\u001b[0m\n",
            "\n",
            "  Line 3\n",
            "\u001b[43m\u001b[32m  Expected and actual output match:\n",
            "  o\u001b[0m\n",
            "\n",
            "  Line 4\n",
            "\u001b[43m\u001b[32m  Expected and actual output match:\n",
            "  7\u001b[0m\n",
            "\n",
            "  Line 5\n",
            "\u001b[43m\u001b[32m  Expected and actual output match:\n",
            "  1\u001b[0m\n",
            "\n",
            "  Line 6\n",
            "\u001b[43m\u001b[32m  Expected and actual output match:\n",
            "  o\u001b[0m\n",
            "\n",
            "  Line 7\n",
            "\u001b[43m\u001b[32m  Expected and actual output match:\n",
            "  ['1', 'a', 'd', 'i', 'm', 'n', 'o', '!']\u001b[0m\n",
            "\n",
            "\u001b[43m\u001b[32mTest PASSED!\u001b[0m\n"
          ]
        }
      ],
      "source": [
        "#@title RUN and TEST ALL\n",
        "\n",
        "from IPython.display import display, Markdown\n",
        "\n",
        "\n",
        "\n",
        "inputs=[['abba'],['ciaomondo']]\n",
        "expected_outputs=[[\"['1', 'b', 'b', 'a']\",\"3\",\"1\",\"b\",\"3\",\"1\",\"b\",\"['1', 'a', 'b', '!']\"],\\\n",
        "                  [\"['1', 'i', 'a', 'o', 'm', 'o', 'n', 'd', 'o']\",\"7\",\"1\",\"o\",\"7\",\"1\",\"o\",\"['1', 'a', 'd', 'i', 'm', 'n', 'o', '!']\"], \\\n",
        "                  ]\n",
        "\n",
        "for k in range(len(inputs)):\n",
        "    display(Markdown(f'{k+1}. TEST {inputs[k]} = {\",\".join(expected_outputs[k])}'))\n",
        "    print('-'*60)\n",
        "    run_and_test(inputs[k],expected_outputs[k],asgn03_02Play_with_lists_and_sets)\n"
      ]
    },
    {
      "cell_type": "markdown",
      "metadata": {
        "id": "I_rb-LdZ1AvT"
      },
      "source": [
        "# Assignment 03.03: Play with matrices\n",
        "## Statement\n",
        "\n",
        "Write a program that reads a string of digits `s`, and creates a 2-dimensional list (a matrix of size 2 times the length of s) containing\n",
        "\n",
        "- in the first row: the digits in `s`\n",
        "- in the second row: twice the value of each digit in `s`\n",
        "\n",
        "Finally, your program should print the list\n",
        "\n",
        "## Example input 1\n",
        "\n",
        "```\n",
        "123\n",
        "```\n",
        "\n",
        "## Example output 1\n",
        "\n",
        "```\n",
        "[[1, 2, 3], [2, 4, 6]]\n",
        "```\n",
        "\n",
        "## Example input 2\n",
        "\n",
        "```\n",
        "12345\n",
        "```\n",
        "\n",
        "## Example output 2\n",
        "\n",
        "```\n",
        "[[1, 2, 3, 4, 5], [2, 4, 6, 8, 10]]\n",
        "```"
      ]
    },
    {
      "cell_type": "markdown",
      "metadata": {
        "id": "64D4QYED1AvV"
      },
      "source": [
        "## Write your solution here\n",
        "\n",
        "\n",
        "*   Do not change the first line (`def ...():`)\n",
        "*   Maintain the given indentation\n",
        "*   You can run some tests by yourself by decommenting the last line\n",
        "\n"
      ]
    },
    {
      "cell_type": "code",
      "execution_count": 27,
      "metadata": {
        "id": "lLGrP5_U1AvV"
      },
      "outputs": [],
      "source": [
        "def asgn03_03Play_with_matrices():\n",
        "    s = input()\n",
        "\n",
        "    l = [0, 0]\n",
        "    for i in range(2):\n",
        "        l[i] = [i for i in range(len(s))]\n",
        "\n",
        "    for i in range(len(s)):\n",
        "        l[0][i] = int(s[i])\n",
        "        l[1][i] = 2 * l[0][i]\n",
        "\n",
        "    print(l)\n",
        "\n",
        "\n",
        "\n",
        "#You can test independently your solution by executing the following line\n",
        "#asgn03_03Play_with_matrices()"
      ]
    },
    {
      "cell_type": "markdown",
      "metadata": {
        "id": "k1K96Xbd1AvY"
      },
      "source": [
        "## Run the following cells to perform the provided tests"
      ]
    },
    {
      "cell_type": "code",
      "execution_count": 28,
      "metadata": {
        "cellView": "form",
        "id": "l94WkQtE3McZ",
        "colab": {
          "base_uri": "https://localhost:8080/",
          "height": 635
        },
        "outputId": "00731198-72c0-429c-d707-78bee6ac490b"
      },
      "outputs": [
        {
          "output_type": "display_data",
          "data": {
            "text/plain": [
              "<IPython.core.display.Markdown object>"
            ],
            "text/markdown": "1. TEST ['123'] = [[1, 2, 3], [2, 4, 6]]"
          },
          "metadata": {}
        },
        {
          "output_type": "stream",
          "name": "stdout",
          "text": [
            "------------------------------------------------------------\n",
            "\u001b[36m\u001b[4m\u001b[1mTest ['123']\u001b[0m\n",
            "\u001b[43m\u001b[32m The program prints 1 lines as expected.\u001b[0m\n",
            "\n",
            "  Line 0\n",
            "\u001b[43m\u001b[32m  Expected and actual output match:\n",
            "  [[1, 2, 3], [2, 4, 6]]\u001b[0m\n",
            "\n",
            "\u001b[43m\u001b[32mTest PASSED!\u001b[0m\n"
          ]
        },
        {
          "output_type": "display_data",
          "data": {
            "text/plain": [
              "<IPython.core.display.Markdown object>"
            ],
            "text/markdown": "2. TEST ['12345'] = [[1, 2, 3, 4, 5], [2, 4, 6, 8, 10]]"
          },
          "metadata": {}
        },
        {
          "output_type": "stream",
          "name": "stdout",
          "text": [
            "------------------------------------------------------------\n",
            "\u001b[36m\u001b[4m\u001b[1mTest ['12345']\u001b[0m\n",
            "\u001b[43m\u001b[32m The program prints 1 lines as expected.\u001b[0m\n",
            "\n",
            "  Line 0\n",
            "\u001b[43m\u001b[32m  Expected and actual output match:\n",
            "  [[1, 2, 3, 4, 5], [2, 4, 6, 8, 10]]\u001b[0m\n",
            "\n",
            "\u001b[43m\u001b[32mTest PASSED!\u001b[0m\n"
          ]
        },
        {
          "output_type": "display_data",
          "data": {
            "text/plain": [
              "<IPython.core.display.Markdown object>"
            ],
            "text/markdown": "3. TEST ['56734'] = [[5, 6, 7, 3, 4], [10, 12, 14, 6, 8]]"
          },
          "metadata": {}
        },
        {
          "output_type": "stream",
          "name": "stdout",
          "text": [
            "------------------------------------------------------------\n",
            "\u001b[36m\u001b[4m\u001b[1mTest ['56734']\u001b[0m\n",
            "\u001b[43m\u001b[32m The program prints 1 lines as expected.\u001b[0m\n",
            "\n",
            "  Line 0\n",
            "\u001b[43m\u001b[32m  Expected and actual output match:\n",
            "  [[5, 6, 7, 3, 4], [10, 12, 14, 6, 8]]\u001b[0m\n",
            "\n",
            "\u001b[43m\u001b[32mTest PASSED!\u001b[0m\n"
          ]
        }
      ],
      "source": [
        "#@title RUN and TEST ALL\n",
        "\n",
        "from IPython.display import display, Markdown\n",
        "\n",
        "\n",
        "\n",
        "inputs=[['123'],['12345'],['56734']]\n",
        "expected_outputs=[[\"[[1, 2, 3], [2, 4, 6]]\"],\\\n",
        "                  [\"[[1, 2, 3, 4, 5], [2, 4, 6, 8, 10]]\"], \\\n",
        "                  [\"[[5, 6, 7, 3, 4], [10, 12, 14, 6, 8]]\"]]\n",
        "\n",
        "for k in range(len(inputs)):\n",
        "    display(Markdown(f'{k+1}. TEST {inputs[k]} = {\",\".join(expected_outputs[k])}'))\n",
        "    print('-'*60)\n",
        "    run_and_test(inputs[k],expected_outputs[k],asgn03_03Play_with_matrices)\n"
      ]
    },
    {
      "cell_type": "markdown",
      "metadata": {
        "id": "NuRLdC7K1Avd"
      },
      "source": [
        "# Assignment 03.04: Play with dictionaries\n",
        "## Statement\n",
        "\n",
        "Write a program that\n",
        "\n",
        "- Reads three strings `st1`, `st2`, and `st3` given in 3 lines\n",
        "- Creates a dictionary (`d1`) mapping each string to its upper-case version\n",
        "- Prints such dictionary `d1`\n",
        "\n",
        "## Example input 1\n",
        "\n",
        "```\n",
        "Andrea\n",
        "```\n",
        "\n",
        "```\n",
        "Daniele\n",
        "```\n",
        "\n",
        "```\n",
        "Giulio\n",
        "```\n",
        "\n",
        "## Example output 1\n",
        "\n",
        "```\n",
        "{'Andrea': 'ANDREA', 'Daniele': 'DANIELE', 'Giulio': 'GIULIO'}\n",
        "```\n",
        "\n",
        "## Example input 2\n",
        "\n",
        "```\n",
        "Andrea\n",
        "```\n",
        "\n",
        "```\n",
        "Daniele\n",
        "```\n",
        "\n",
        "```\n",
        "Andrea\n",
        "```\n",
        "\n",
        "## Example output 2\n",
        "\n",
        "```\n",
        "{'Andrea': 'ANDREA', 'Daniele': 'DANIELE'}\n",
        "```"
      ]
    },
    {
      "cell_type": "markdown",
      "metadata": {
        "id": "w8tnsKZm1Ave"
      },
      "source": [
        "## Write your solution here\n",
        "\n",
        "\n",
        "*   Do not change the first line (`def ...():`)\n",
        "*   Maintain the given indentation\n",
        "*   You can run some tests by yourself by decommenting the last line\n",
        "\n"
      ]
    },
    {
      "cell_type": "code",
      "execution_count": 31,
      "metadata": {
        "id": "wdXkw97r1Ave"
      },
      "outputs": [],
      "source": [
        "def asgn03_04Play_with_dictionaries():\n",
        "    s1 = input()\n",
        "    s2 = input()\n",
        "    s3 = input()\n",
        "\n",
        "    d = {s1: s1.upper(), s2: s2.upper(), s3: s3.upper()}\n",
        "    print(d)\n",
        "\n",
        "\n",
        "#You can test independently your solution by executing the following line\n",
        "#asgn03_04Play_with_dictionaries()"
      ]
    },
    {
      "cell_type": "markdown",
      "metadata": {
        "id": "UV67YBrW1Avf"
      },
      "source": [
        "## Run the following cells to perform the provided tests"
      ]
    },
    {
      "cell_type": "code",
      "execution_count": 32,
      "metadata": {
        "cellView": "form",
        "id": "fPQIR_rt3yNZ",
        "colab": {
          "base_uri": "https://localhost:8080/",
          "height": 635
        },
        "outputId": "d91d182c-502e-4d20-ac93-87eef233e11d"
      },
      "outputs": [
        {
          "output_type": "display_data",
          "data": {
            "text/plain": [
              "<IPython.core.display.Markdown object>"
            ],
            "text/markdown": "1. TEST ['Andrea', 'Daniele', 'Andrea'] = {'Andrea': 'ANDREA', 'Daniele': 'DANIELE'}"
          },
          "metadata": {}
        },
        {
          "output_type": "stream",
          "name": "stdout",
          "text": [
            "------------------------------------------------------------\n",
            "\u001b[36m\u001b[4m\u001b[1mTest ['Andrea', 'Daniele', 'Andrea']\u001b[0m\n",
            "\u001b[43m\u001b[32m The program prints 1 lines as expected.\u001b[0m\n",
            "\n",
            "  Line 0\n",
            "\u001b[43m\u001b[32m  Expected and actual output match:\n",
            "  {'Andrea': 'ANDREA', 'Daniele': 'DANIELE'}\u001b[0m\n",
            "\n",
            "\u001b[43m\u001b[32mTest PASSED!\u001b[0m\n"
          ]
        },
        {
          "output_type": "display_data",
          "data": {
            "text/plain": [
              "<IPython.core.display.Markdown object>"
            ],
            "text/markdown": "2. TEST ['Andrea', 'Daniele', 'Giulio'] = {'Andrea': 'ANDREA', 'Daniele': 'DANIELE', 'Giulio': 'GIULIO'}"
          },
          "metadata": {}
        },
        {
          "output_type": "stream",
          "name": "stdout",
          "text": [
            "------------------------------------------------------------\n",
            "\u001b[36m\u001b[4m\u001b[1mTest ['Andrea', 'Daniele', 'Giulio']\u001b[0m\n",
            "\u001b[43m\u001b[32m The program prints 1 lines as expected.\u001b[0m\n",
            "\n",
            "  Line 0\n",
            "\u001b[43m\u001b[32m  Expected and actual output match:\n",
            "  {'Andrea': 'ANDREA', 'Daniele': 'DANIELE', 'Giulio': 'GIULIO'}\u001b[0m\n",
            "\n",
            "\u001b[43m\u001b[32mTest PASSED!\u001b[0m\n"
          ]
        },
        {
          "output_type": "display_data",
          "data": {
            "text/plain": [
              "<IPython.core.display.Markdown object>"
            ],
            "text/markdown": "3. TEST ['ANDREA', 'DANIELE', 'GIULIO'] = {'ANDREA': 'ANDREA', 'DANIELE': 'DANIELE', 'GIULIO': 'GIULIO'}"
          },
          "metadata": {}
        },
        {
          "output_type": "stream",
          "name": "stdout",
          "text": [
            "------------------------------------------------------------\n",
            "\u001b[36m\u001b[4m\u001b[1mTest ['ANDREA', 'DANIELE', 'GIULIO']\u001b[0m\n",
            "\u001b[43m\u001b[32m The program prints 1 lines as expected.\u001b[0m\n",
            "\n",
            "  Line 0\n",
            "\u001b[43m\u001b[32m  Expected and actual output match:\n",
            "  {'ANDREA': 'ANDREA', 'DANIELE': 'DANIELE', 'GIULIO': 'GIULIO'}\u001b[0m\n",
            "\n",
            "\u001b[43m\u001b[32mTest PASSED!\u001b[0m\n"
          ]
        }
      ],
      "source": [
        "#@title RUN and TEST ALL\n",
        "\n",
        "from IPython.display import display, Markdown\n",
        "\n",
        "\n",
        "\n",
        "inputs=[['Andrea','Daniele','Andrea'],['Andrea','Daniele','Giulio'],['ANDREA','DANIELE','GIULIO']]\n",
        "expected_outputs=[[\"{'Andrea': 'ANDREA', 'Daniele': 'DANIELE'}\"],\\\n",
        "                  [\"{'Andrea': 'ANDREA', 'Daniele': 'DANIELE', 'Giulio': 'GIULIO'}\"], \\\n",
        "                 [\"{'ANDREA': 'ANDREA', 'DANIELE': 'DANIELE', 'GIULIO': 'GIULIO'}\"]]\n",
        "\n",
        "for k in range(len(inputs)):\n",
        "    display(Markdown(f'{k+1}. TEST {inputs[k]} = {\",\".join(expected_outputs[k])}'))\n",
        "    print('-'*60)\n",
        "    run_and_test(inputs[k],expected_outputs[k],asgn03_04Play_with_dictionaries)\n"
      ]
    },
    {
      "cell_type": "markdown",
      "metadata": {
        "id": "WQXTCB1w1Avg"
      },
      "source": [
        "# Assignment 03.05: Dictionaries and numbers\n",
        "## Statement\n",
        "\n",
        "Write a program that\n",
        "\n",
        "- Reads a string containing only digits\n",
        "- Creates a dictionary (`d1`) casting each character in a string (a string representation of a digit) to its `int` counterpart\n",
        "- Prints this dictionary `d1`\n",
        "\n",
        "**Note**\n",
        "\n",
        "- The length of the input string is not known a prior. Your implementation should work with strings of any length.\n",
        "\n",
        "## Example input 1\n",
        "\n",
        "```\n",
        "12345\n",
        "```\n",
        "\n",
        "## Example output 1\n",
        "\n",
        "```\n",
        "{'1': 1, '2': 2, '3': 3, '4': 4, '5': 5}\n",
        "```\n",
        "\n",
        "## Hint\n",
        "\n",
        "In class we have seen how to create dictionaries using list comprehension. With that in mind, solving this exercise requires just a few lines of code"
      ]
    },
    {
      "cell_type": "markdown",
      "metadata": {
        "id": "fXRSwnGT1Avh"
      },
      "source": [
        "## Write your solution here\n",
        "\n",
        "\n",
        "*   Do not change the first line (`def ...():`)\n",
        "*   Maintain the given indentation\n",
        "*   You can run some tests by yourself by decommenting the last line\n",
        "\n"
      ]
    },
    {
      "cell_type": "code",
      "execution_count": 51,
      "metadata": {
        "id": "-h1KorUc1Avh"
      },
      "outputs": [],
      "source": [
        "def asgn03_05Dictionaries_and_numbers():\n",
        "    print({c: int(c) for c in input()})\n",
        "\n",
        "\n",
        "#You can test independently your solution by executing the following line\n",
        "#asgn03_05Dictionaries_and_numbers()"
      ]
    },
    {
      "cell_type": "markdown",
      "metadata": {
        "id": "AMZygEoO1Avh"
      },
      "source": [
        "## Run the following cells to perform the provided tests"
      ]
    },
    {
      "cell_type": "code",
      "execution_count": 52,
      "metadata": {
        "cellView": "form",
        "id": "N1bUjyQx4VCu",
        "colab": {
          "base_uri": "https://localhost:8080/",
          "height": 635
        },
        "outputId": "a0852e25-0622-49a3-9253-017d760fd7d2"
      },
      "outputs": [
        {
          "output_type": "display_data",
          "data": {
            "text/plain": [
              "<IPython.core.display.Markdown object>"
            ],
            "text/markdown": "1. TEST ['123'] = {'1': 1, '2': 2, '3': 3}"
          },
          "metadata": {}
        },
        {
          "output_type": "stream",
          "name": "stdout",
          "text": [
            "------------------------------------------------------------\n",
            "\u001b[36m\u001b[4m\u001b[1mTest ['123']\u001b[0m\n",
            "\u001b[43m\u001b[32m The program prints 1 lines as expected.\u001b[0m\n",
            "\n",
            "  Line 0\n",
            "\u001b[43m\u001b[32m  Expected and actual output match:\n",
            "  {'1': 1, '2': 2, '3': 3}\u001b[0m\n",
            "\n",
            "\u001b[43m\u001b[32mTest PASSED!\u001b[0m\n"
          ]
        },
        {
          "output_type": "display_data",
          "data": {
            "text/plain": [
              "<IPython.core.display.Markdown object>"
            ],
            "text/markdown": "2. TEST ['12345'] = {'1': 1, '2': 2, '3': 3, '4': 4, '5': 5}"
          },
          "metadata": {}
        },
        {
          "output_type": "stream",
          "name": "stdout",
          "text": [
            "------------------------------------------------------------\n",
            "\u001b[36m\u001b[4m\u001b[1mTest ['12345']\u001b[0m\n",
            "\u001b[43m\u001b[32m The program prints 1 lines as expected.\u001b[0m\n",
            "\n",
            "  Line 0\n",
            "\u001b[43m\u001b[32m  Expected and actual output match:\n",
            "  {'1': 1, '2': 2, '3': 3, '4': 4, '5': 5}\u001b[0m\n",
            "\n",
            "\u001b[43m\u001b[32mTest PASSED!\u001b[0m\n"
          ]
        },
        {
          "output_type": "display_data",
          "data": {
            "text/plain": [
              "<IPython.core.display.Markdown object>"
            ],
            "text/markdown": "3. TEST ['123456789'] = {'1': 1, '2': 2, '3': 3, '4': 4, '5': 5, '6': 6, '7': 7, '8': 8, '9': 9}"
          },
          "metadata": {}
        },
        {
          "output_type": "stream",
          "name": "stdout",
          "text": [
            "------------------------------------------------------------\n",
            "\u001b[36m\u001b[4m\u001b[1mTest ['123456789']\u001b[0m\n",
            "\u001b[43m\u001b[32m The program prints 1 lines as expected.\u001b[0m\n",
            "\n",
            "  Line 0\n",
            "\u001b[43m\u001b[32m  Expected and actual output match:\n",
            "  {'1': 1, '2': 2, '3': 3, '4': 4, '5': 5, '6': 6, '7': 7, '8': 8, '9': 9}\u001b[0m\n",
            "\n",
            "\u001b[43m\u001b[32mTest PASSED!\u001b[0m\n"
          ]
        }
      ],
      "source": [
        "#@title RUN and TEST ALL\n",
        "\n",
        "from IPython.display import display, Markdown\n",
        "\n",
        "\n",
        "\n",
        "inputs=[['123'],['12345'],['123456789']]\n",
        "expected_outputs=[[\"{'1': 1, '2': 2, '3': 3}\"],\\\n",
        "                  [\"{'1': 1, '2': 2, '3': 3, '4': 4, '5': 5}\"], \\\n",
        "                 [\"{'1': 1, '2': 2, '3': 3, '4': 4, '5': 5, '6': 6, '7': 7, '8': 8, '9': 9}\"]]\n",
        "\n",
        "for k in range(len(inputs)):\n",
        "    display(Markdown(f'{k+1}. TEST {inputs[k]} = {\",\".join(expected_outputs[k])}'))\n",
        "    print('-'*60)\n",
        "    run_and_test(inputs[k],expected_outputs[k],asgn03_05Dictionaries_and_numbers)\n"
      ]
    },
    {
      "cell_type": "markdown",
      "metadata": {
        "id": "ZAwIIAjh1Avk"
      },
      "source": [
        "# Assignment 03.06: Play with class 3\n",
        "## Statement\n",
        "\n",
        "Write a program that\n",
        "\n",
        "- Reads three integers:\n",
        "    -   `start`\n",
        "    -  `stop`\n",
        "    -  `step`\n",
        "- Creates a range `r` using these three parameters\n",
        "- Creates a list `x` containing the elements in `r`\n",
        "- Creates a list `y` containing the square of each element in `r`\n",
        "- Creates a dictionary `d` that maps each element in `x` with the corresponding one in `y`\n",
        "- Prints `d`\n",
        "\n",
        "## Example input 1\n",
        "\n",
        "```\n",
        "0\n",
        "```\n",
        "\n",
        "```\n",
        "6\n",
        "```\n",
        "\n",
        "```\n",
        "1\n",
        "```\n",
        "\n",
        "## Example output 1\n",
        "\n",
        "```\n",
        "{0: 0, 1: 1, 2: 4, 3: 9, 4: 16, 5: 25}\n",
        "```\n",
        "\n",
        "## Example input 2\n",
        "\n",
        "```\n",
        "0\n",
        "```\n",
        "\n",
        "```\n",
        "100\n",
        "```\n",
        "\n",
        "```\n",
        "10\n",
        "```\n",
        "\n",
        "## Example output 2\n",
        "\n",
        "```\n",
        "{0: 0, 10: 100, 20: 400, 30: 900, 40: 1600, 50: 2500, 60: 3600, 70: 4900, 80: 6400, 90: 8100}\n",
        "```\n",
        "\n"
      ]
    },
    {
      "cell_type": "markdown",
      "metadata": {
        "id": "hSjpl7kw1Avl"
      },
      "source": [
        "## Write your solution here\n",
        "\n",
        "\n",
        "*   Do not change the first line (`def ...():`)\n",
        "*   Maintain the given indentation\n",
        "*   You can run some tests by yourself by decommenting the last line\n",
        "\n"
      ]
    },
    {
      "cell_type": "code",
      "execution_count": 1,
      "metadata": {
        "id": "BO0rcio61Avm"
      },
      "outputs": [],
      "source": [
        "def asgn03_06Play_with_class_3():\n",
        "    print({c: int(c)**2 for c in range(input(), input(), input())})\n",
        "\n",
        "\n",
        "#You can test independently your solution by executing the following line\n",
        "# asgn03_06Play_with_class_3()"
      ]
    },
    {
      "cell_type": "markdown",
      "metadata": {
        "id": "v9qx53YK1Avo"
      },
      "source": [
        "## Run the following cells to perform the provided tests"
      ]
    },
    {
      "cell_type": "code",
      "execution_count": 5,
      "metadata": {
        "cellView": "form",
        "id": "EOeMNaPb42mS",
        "colab": {
          "base_uri": "https://localhost:8080/",
          "height": 635
        },
        "outputId": "90191199-ddd8-483d-faba-995c862b2242"
      },
      "outputs": [
        {
          "output_type": "display_data",
          "data": {
            "text/plain": [
              "<IPython.core.display.Markdown object>"
            ],
            "text/markdown": "1. TEST [0, 6, 1] = {0: 0, 1: 1, 2: 4, 3: 9, 4: 16, 5: 25}"
          },
          "metadata": {}
        },
        {
          "output_type": "stream",
          "name": "stdout",
          "text": [
            "------------------------------------------------------------\n",
            "\u001b[36m\u001b[4m\u001b[1mTest [0, 6, 1]\u001b[0m\n",
            "\u001b[43m\u001b[32m The program prints 1 lines as expected.\u001b[0m\n",
            "\n",
            "  Line 0\n",
            "\u001b[43m\u001b[32m  Expected and actual output match:\n",
            "  {0: 0, 1: 1, 2: 4, 3: 9, 4: 16, 5: 25}\u001b[0m\n",
            "\n",
            "\u001b[43m\u001b[32mTest PASSED!\u001b[0m\n"
          ]
        },
        {
          "output_type": "display_data",
          "data": {
            "text/plain": [
              "<IPython.core.display.Markdown object>"
            ],
            "text/markdown": "2. TEST [0, 30, 2] = {0: 0, 2: 4, 4: 16, 6: 36, 8: 64, 10: 100, 12: 144, 14: 196, 16: 256, 18: 324, 20: 400, 22: 484, 24: 576, 26: 676, 28: 784}"
          },
          "metadata": {}
        },
        {
          "output_type": "stream",
          "name": "stdout",
          "text": [
            "------------------------------------------------------------\n",
            "\u001b[36m\u001b[4m\u001b[1mTest [0, 30, 2]\u001b[0m\n",
            "\u001b[43m\u001b[32m The program prints 1 lines as expected.\u001b[0m\n",
            "\n",
            "  Line 0\n",
            "\u001b[43m\u001b[32m  Expected and actual output match:\n",
            "  {0: 0, 2: 4, 4: 16, 6: 36, 8: 64, 10: 100, 12: 144, 14: 196, 16: 256, 18: 324, 20: 400, 22: 484, 24: 576, 26: 676, 28: 784}\u001b[0m\n",
            "\n",
            "\u001b[43m\u001b[32mTest PASSED!\u001b[0m\n"
          ]
        },
        {
          "output_type": "display_data",
          "data": {
            "text/plain": [
              "<IPython.core.display.Markdown object>"
            ],
            "text/markdown": "3. TEST [0, 100, 10] = {0: 0, 10: 100, 20: 400, 30: 900, 40: 1600, 50: 2500, 60: 3600, 70: 4900, 80: 6400, 90: 8100}"
          },
          "metadata": {}
        },
        {
          "output_type": "stream",
          "name": "stdout",
          "text": [
            "------------------------------------------------------------\n",
            "\u001b[36m\u001b[4m\u001b[1mTest [0, 100, 10]\u001b[0m\n",
            "\u001b[43m\u001b[32m The program prints 1 lines as expected.\u001b[0m\n",
            "\n",
            "  Line 0\n",
            "\u001b[43m\u001b[32m  Expected and actual output match:\n",
            "  {0: 0, 10: 100, 20: 400, 30: 900, 40: 1600, 50: 2500, 60: 3600, 70: 4900, 80: 6400, 90: 8100}\u001b[0m\n",
            "\n",
            "\u001b[43m\u001b[32mTest PASSED!\u001b[0m\n"
          ]
        }
      ],
      "source": [
        "#@title RUN and TEST ALL\n",
        "\n",
        "from IPython.display import display, Markdown\n",
        "\n",
        "\n",
        "\n",
        "inputs=[[0,6,1],[0,30,2],[0,100,10]]\n",
        "expected_outputs=[[\"{0: 0, 1: 1, 2: 4, 3: 9, 4: 16, 5: 25}\"],\\\n",
        "                  [\"{0: 0, 2: 4, 4: 16, 6: 36, 8: 64, 10: 100, 12: 144, 14: 196, 16: 256, 18: 324, 20: 400, 22: 484, 24: 576, 26: 676, 28: 784}\"], \\\n",
        "                 [\"{0: 0, 10: 100, 20: 400, 30: 900, 40: 1600, 50: 2500, 60: 3600, 70: 4900, 80: 6400, 90: 8100}\"]]\n",
        "\n",
        "for k in range(len(inputs)):\n",
        "    display(Markdown(f'{k+1}. TEST {inputs[k]} = {\",\".join(expected_outputs[k])}'))\n",
        "    print('-'*60)\n",
        "    run_and_test(inputs[k],expected_outputs[k],asgn03_06Play_with_class_3)\n"
      ]
    }
  ],
  "metadata": {
    "colab": {
      "name": "03Collections_Assignments.ipynb",
      "provenance": [],
      "toc_visible": true
    },
    "kernelspec": {
      "display_name": "Python 3 (ipykernel)",
      "language": "python",
      "name": "python3"
    },
    "language_info": {
      "codemirror_mode": {
        "name": "ipython",
        "version": 3
      },
      "file_extension": ".py",
      "mimetype": "text/x-python",
      "name": "python",
      "nbconvert_exporter": "python",
      "pygments_lexer": "ipython3",
      "version": "3.9.10"
    },
    "toc-autonumbering": true,
    "toc-showcode": false,
    "toc-showmarkdowntxt": false
  },
  "nbformat": 4,
  "nbformat_minor": 0
}